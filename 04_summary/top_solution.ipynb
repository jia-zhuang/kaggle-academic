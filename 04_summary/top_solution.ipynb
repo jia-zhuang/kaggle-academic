{
 "cells": [
  {
   "cell_type": "code",
   "execution_count": 2,
   "id": "a6481c71-2c26-457a-a9a4-918b6ef87a68",
   "metadata": {},
   "outputs": [],
   "source": [
    "import numpy as np\n",
    "import pandas as pd\n",
    "\n",
    "from sklearn.preprocessing import LabelEncoder"
   ]
  },
  {
   "cell_type": "code",
   "execution_count": 3,
   "id": "2ec14e38-cc10-4850-b88a-b169fbfe08e6",
   "metadata": {},
   "outputs": [],
   "source": [
    "import lightgbm as lgb\n",
    "import xgboost as xgb\n",
    "import catboost as cb"
   ]
  },
  {
   "cell_type": "code",
   "execution_count": 4,
   "id": "ba734603-23f3-48b8-98bc-ad05d06e5e09",
   "metadata": {},
   "outputs": [],
   "source": [
    "import optuna"
   ]
  },
  {
   "cell_type": "code",
   "execution_count": 5,
   "id": "e4ebaf4c-5fa7-47e7-aaf1-da0513696d11",
   "metadata": {},
   "outputs": [],
   "source": [
    "from autogluon.tabular import TabularPredictor"
   ]
  },
  {
   "cell_type": "code",
   "execution_count": null,
   "id": "08132ae4-0182-4221-a1e2-7c16da83649f",
   "metadata": {},
   "outputs": [],
   "source": [
    "from sklearn.model_selection import StratifiedKFold, KFold\n",
    "from sklearn.metrics import accuracy_score"
   ]
  },
  {
   "cell_type": "markdown",
   "id": "10722e73-caa1-4035-97a3-0625104dc026",
   "metadata": {},
   "source": [
    "## 读入数据"
   ]
  },
  {
   "cell_type": "code",
   "execution_count": 7,
   "id": "fc57da07-1b56-4416-900e-ee5db5f7e354",
   "metadata": {},
   "outputs": [],
   "source": [
    "train_df = pd.read_csv('../input/train.csv', index_col=0)\n",
    "test_df = pd.read_csv('../input/test.csv', index_col=0)\n",
    "ori_df = pd.read_csv('../input/data.csv', sep=';')"
   ]
  },
  {
   "cell_type": "code",
   "execution_count": 8,
   "id": "db6c202f-97c4-41c7-9881-bebcfc7876f0",
   "metadata": {},
   "outputs": [],
   "source": [
    "ori_df.index = np.arange(ori_df.shape[0]) + 1_000_000"
   ]
  },
  {
   "cell_type": "code",
   "execution_count": 9,
   "id": "d4364fb1-1dd4-476c-8f61-5e696c2c7d6a",
   "metadata": {},
   "outputs": [],
   "source": [
    "com_df = pd.concat([train_df, test_df, ori_df], axis=0)"
   ]
  },
  {
   "cell_type": "code",
   "execution_count": 10,
   "id": "f01692b2-adcd-48ba-bbd6-79d80ce3cedc",
   "metadata": {},
   "outputs": [],
   "source": [
    "ori_all_feats = [col for col in com_df.columns if col != 'Target']"
   ]
  },
  {
   "cell_type": "code",
   "execution_count": 11,
   "id": "4f5f2181-c6e4-40a8-bbb0-8b57f8f94898",
   "metadata": {},
   "outputs": [],
   "source": [
    "ori_cat_feats = [\n",
    "    'Marital status',\n",
    "    'Application mode',\n",
    "    'Application order',\n",
    "    'Course',\n",
    "    'Daytime/evening attendance',\n",
    "    'Previous qualification',\n",
    "    'Nacionality',\n",
    "    'Mother\\'s qualification',\n",
    "    'Father\\'s qualification',\n",
    "    'Mother\\'s occupation',\n",
    "    'Father\\'s occupation',\n",
    "    'Displaced',\n",
    "    'Educational special needs',\n",
    "    'Debtor',\n",
    "    'Tuition fees up to date',\n",
    "    'Gender',\n",
    "    'Scholarship holder',\n",
    "    'International',\n",
    "]\n",
    "\n",
    "ori_num_feats = [\n",
    "    'Previous qualification (grade)',\n",
    "    'Admission grade',\n",
    "    'Age at enrollment',\n",
    "    'Curricular units 1st sem (credited)',\n",
    "    'Curricular units 1st sem (enrolled)',\n",
    "    'Curricular units 1st sem (evaluations)',\n",
    "    'Curricular units 1st sem (approved)',\n",
    "    'Curricular units 1st sem (grade)',\n",
    "    'Curricular units 1st sem (without evaluations)',\n",
    "    'Curricular units 2nd sem (credited)',\n",
    "    'Curricular units 2nd sem (enrolled)',\n",
    "    'Curricular units 2nd sem (evaluations)',\n",
    "    'Curricular units 2nd sem (approved)',\n",
    "    'Curricular units 2nd sem (grade)',\n",
    "    'Curricular units 2nd sem (without evaluations)',\n",
    "    'Unemployment rate',\n",
    "    'Inflation rate',\n",
    "    'GDP',\n",
    "]"
   ]
  },
  {
   "cell_type": "code",
   "execution_count": 12,
   "id": "c237f067-9d23-401a-bca5-79016895f31c",
   "metadata": {},
   "outputs": [],
   "source": [
    "for col in ori_cat_feats:\n",
    "    com_df[col] = LabelEncoder().fit_transform(com_df[col])\n",
    "    com_df[col] = com_df[col].astype('category')"
   ]
  },
  {
   "cell_type": "code",
   "execution_count": 13,
   "id": "ce984d1f-f583-4b2d-b3a1-62430cac546e",
   "metadata": {},
   "outputs": [],
   "source": [
    "label2code = {\n",
    "    'Graduate': 0,\n",
    "    'Enrolled': 1,\n",
    "    'Dropout': 2,\n",
    "}\n",
    "\n",
    "code2label = {v: k for k, v in label2code.items()}"
   ]
  },
  {
   "cell_type": "code",
   "execution_count": 14,
   "id": "1a7e16e0-703b-4129-8c56-987b0c18da84",
   "metadata": {},
   "outputs": [],
   "source": [
    "com_df['Target'] = com_df['Target'].map(label2code)"
   ]
  },
  {
   "cell_type": "code",
   "execution_count": 15,
   "id": "d1251a2f-ea00-4476-968f-a5753e0cf4d0",
   "metadata": {},
   "outputs": [],
   "source": [
    "special_char = [\"'\", '/', ' ']\n",
    "def normalize_feature_name(name):\n",
    "    for c in special_char:\n",
    "        name = name.replace(c, '_')\n",
    "    name = name.replace('(', '').replace(')', '')\n",
    "    return name\n",
    "\n",
    "ori_all_feats = [normalize_feature_name(col) for col in ori_all_feats]\n",
    "ori_cat_feats = [normalize_feature_name(col) for col in ori_cat_feats]\n",
    "ori_num_feats = [normalize_feature_name(col) for col in ori_num_feats]\n",
    "\n",
    "com_df.columns = com_df.columns.map(normalize_feature_name)"
   ]
  },
  {
   "cell_type": "code",
   "execution_count": 16,
   "id": "c283b390-8139-485a-b4e4-75eea060ae04",
   "metadata": {},
   "outputs": [
    {
     "data": {
      "text/plain": [
       "(76518, 51012, 4424)"
      ]
     },
     "execution_count": 16,
     "metadata": {},
     "output_type": "execute_result"
    }
   ],
   "source": [
    "train_df = com_df.loc[train_df.index]\n",
    "test_df = com_df.loc[test_df.index]\n",
    "ori_df = com_df.loc[ori_df.index]\n",
    "\n",
    "train_df.shape[0], test_df.shape[0], ori_df.shape[0]"
   ]
  },
  {
   "cell_type": "code",
   "execution_count": 17,
   "id": "2a01cdab-ca94-4ad9-a641-cb4a9df69a55",
   "metadata": {},
   "outputs": [],
   "source": [
    "label = 'Target'"
   ]
  },
  {
   "cell_type": "code",
   "execution_count": 18,
   "id": "ec2832df-ee89-440e-a34d-9c934ee6989e",
   "metadata": {},
   "outputs": [],
   "source": [
    "train_df[label] = train_df[label].astype(int)\n",
    "ori_df[label] = ori_df[label].astype(int)"
   ]
  },
  {
   "cell_type": "markdown",
   "id": "3bcb1dfc-9f78-4da7-b48a-33584fb94887",
   "metadata": {},
   "source": [
    "## CV"
   ]
  },
  {
   "cell_type": "code",
   "execution_count": 19,
   "id": "0d5f163c-1bed-4db7-b5cd-c918b46588dc",
   "metadata": {},
   "outputs": [],
   "source": [
    "def lgb_cv(params, train_df, test_df, feat_cols, cat_feat_cols, target_col, stratified=False, nfold=5, num_boost_round=10000):\n",
    "    if stratified:\n",
    "        folds = StratifiedKFold(n_splits=nfold, shuffle=True, random_state=42)\n",
    "    else:\n",
    "        folds = KFold(n_splits=nfold, shuffle=True, random_state=42)\n",
    "        \n",
    "    target = train_df[target_col]\n",
    "\n",
    "    oof = np.zeros((train_df.shape[0], 3), dtype=np.float64)\n",
    "    pred = np.zeros((test_df.shape[0], 3), dtype=np.float64)\n",
    "\n",
    "    for i, (trn_idx, val_idx) in enumerate(folds.split(train_df.index, train_df[target_col].astype(int))):\n",
    "        print(f'fold={i}', '- ' * 20)\n",
    "        trn_data = lgb.Dataset(train_df.loc[trn_idx, feat_cols], label=target.loc[trn_idx], categorical_feature=cat_feat_cols)\n",
    "        val_data = lgb.Dataset(train_df.loc[val_idx, feat_cols], label=target.loc[val_idx], categorical_feature=cat_feat_cols)\n",
    "    \n",
    "        model = lgb.train(params, trn_data, num_boost_round, valid_sets=val_data, callbacks=[lgb.log_evaluation(200)])\n",
    "    \n",
    "        oof[val_idx] = model.predict(train_df.loc[val_idx, feat_cols], num_iteration=model.best_iteration)\n",
    "        pred += model.predict(test_df[feat_cols], num_iteration=model.best_iteration) / nfold\n",
    "\n",
    "    cv = accuracy_score(target, oof.argmax(axis=-1))\n",
    "    return cv, oof, pred"
   ]
  },
  {
   "cell_type": "code",
   "execution_count": 20,
   "id": "b393c79b-2673-4bf6-bb5b-3e50a71e17b3",
   "metadata": {},
   "outputs": [],
   "source": [
    "def xgb_cv(params, train_df, test_df, feat_cols, cat_feat_cols, target_col, stratified=False, nfold=5, num_boost_round=10000):\n",
    "    if stratified:\n",
    "        folds = StratifiedKFold(n_splits=nfold, shuffle=True, random_state=42)\n",
    "    else:\n",
    "        folds = KFold(n_splits=nfold, shuffle=True, random_state=42)\n",
    "        \n",
    "    target = train_df[target_col]\n",
    "\n",
    "    oof = np.zeros((train_df.shape[0], 3), dtype=np.float64)\n",
    "    pred = np.zeros((test_df.shape[0], 3), dtype=np.float64)\n",
    "\n",
    "    for i, (trn_idx, val_idx) in enumerate(folds.split(train_df.index, train_df[target_col].astype(int))):\n",
    "        print(f'fold={i}', '- ' * 20)\n",
    "        trn_data = xgb.DMatrix(\n",
    "            train_df.loc[trn_idx, feat_cols], label=target.loc[trn_idx],\n",
    "            feature_names=feat_cols,\n",
    "            feature_types=['c' if f in cat_feat_cols else 'q' for f in feat_cols],\n",
    "            enable_categorical=True\n",
    "        )\n",
    "        val_data = xgb.DMatrix(\n",
    "            train_df.loc[val_idx, feat_cols], label=target.loc[val_idx],\n",
    "            feature_names=feat_cols,\n",
    "            feature_types=['c' if f in cat_feat_cols else 'q' for f in feat_cols],\n",
    "            enable_categorical=True\n",
    "        )\n",
    "\n",
    "        model = xgb.train(params, trn_data, num_boost_round, evals=[(trn_data, 'train'), (val_data, 'valid')], verbose_eval=200, early_stopping_rounds=400)\n",
    "        \n",
    "        oof[val_idx] = model.predict(val_data, iteration_range=(0, model.best_iteration + 1))\n",
    "        \n",
    "        tst_data = xgb.DMatrix(test_df[feat_cols], enable_categorical=True)\n",
    "        pred += model.predict(tst_data, iteration_range=(0, model.best_iteration + 1)) / nfold\n",
    "\n",
    "    cv = accuracy_score(target, oof.argmax(axis=-1))\n",
    "    return cv, oof, pred"
   ]
  },
  {
   "cell_type": "markdown",
   "id": "5b1b21c0-a830-4ba6-93c7-f3cb5df678d7",
   "metadata": {},
   "source": [
    "## Optuna调参"
   ]
  },
  {
   "cell_type": "code",
   "execution_count": 120,
   "id": "8e5b0eef-86c0-4f7c-a3bd-d56750593ed3",
   "metadata": {},
   "outputs": [],
   "source": [
    "import pickle"
   ]
  },
  {
   "cell_type": "code",
   "execution_count": 114,
   "id": "bbbfdb11-3155-408b-a10c-08647574eba2",
   "metadata": {},
   "outputs": [],
   "source": [
    "def read_pickle(path):\n",
    "    with open(path, 'rb') as f:\n",
    "        data = pickle.load(f)\n",
    "    return data"
   ]
  },
  {
   "cell_type": "markdown",
   "id": "c72d0d41-db3b-4964-9dd2-36b360e3acdd",
   "metadata": {},
   "source": [
    "### XGBoost"
   ]
  },
  {
   "cell_type": "code",
   "execution_count": 21,
   "id": "4e58c962-06cd-46bf-b55d-ec8c94f9d627",
   "metadata": {},
   "outputs": [],
   "source": [
    "def objective(trial):\n",
    "    dtrain = xgb.DMatrix(\n",
    "        train_df[ori_all_feats], \n",
    "        label=train_df[label], \n",
    "        feature_names=ori_all_feats, \n",
    "        feature_types=['c' if f in ori_cat_feats else 'q' for f in ori_all_feats],\n",
    "        enable_categorical=True,\n",
    "    )\n",
    "    \n",
    "    param = {\n",
    "        # general parameters\n",
    "        \"verbosity\": 0,\n",
    "        'nthread': 48,\n",
    "        \"objective\": \"multi:softprob\",\n",
    "        'num_class': 3,\n",
    "        'eval_metric': 'merror',\n",
    "        # tuning parameters\n",
    "        'learning_rate': trial.suggest_float('learning_rate', 1e-3, 1.0, log=True),\n",
    "        'max_depth': trial.suggest_int('max_depth', 1, 9),\n",
    "        'min_child_weight': trial.suggest_int('min_child_weight', 1, 1000),\n",
    "        'subsample': trial.suggest_float('subsample', 0.1, 1.0),\n",
    "        'colsample_bytree': trial.suggest_float('colsample_bytree', 0.1, 1.0),\n",
    "        'reg_lambda': trial.suggest_float('reg_lambda', 1e-3, 1e3, log=True),\n",
    "    }\n",
    "\n",
    "    pruning_callback = optuna.integration.XGBoostPruningCallback(trial, \"test-merror\")\n",
    "    history = xgb.cv(\n",
    "        param, dtrain, num_boost_round=10000, nfold=3, stratified=True, early_stopping_rounds=400, verbose_eval=200,\n",
    "        callbacks=[pruning_callback]\n",
    "    )\n",
    "\n",
    "    merror = history[\"test-merror-mean\"].values[-1]\n",
    "    return 1 - merror"
   ]
  },
  {
   "cell_type": "code",
   "execution_count": null,
   "id": "9f04e2cb-66c2-4fba-87f9-1a4aa738536c",
   "metadata": {},
   "outputs": [
    {
     "name": "stderr",
     "output_type": "stream",
     "text": [
      "[I 2024-07-06 00:47:11,483] A new study created in RDB with name: xgboost_hpo\n"
     ]
    },
    {
     "name": "stdout",
     "output_type": "stream",
     "text": [
      "[0]\ttrain-merror:0.21879+0.00206\ttest-merror:0.21835+0.00288\n",
      "[200]\ttrain-merror:0.18321+0.00049\ttest-merror:0.18512+0.00096\n",
      "[400]\ttrain-merror:0.17895+0.00023\ttest-merror:0.18126+0.00111\n"
     ]
    }
   ],
   "source": [
    "pruner = optuna.pruners.MedianPruner(n_warmup_steps=5)\n",
    "study = optuna.create_study(\n",
    "    storage=\"sqlite:///db.sqlite3\",\n",
    "    study_name=\"xgboost_hpo\",\n",
    "    pruner=pruner, \n",
    "    direction=\"maximize\",\n",
    ")\n",
    "study.optimize(objective, n_trials=100)"
   ]
  },
  {
   "cell_type": "code",
   "execution_count": 31,
   "id": "423abb5f-8e2f-4e57-9a39-02ae2a178135",
   "metadata": {},
   "outputs": [
    {
     "data": {
      "text/plain": [
       "0.8343396325047702"
      ]
     },
     "execution_count": 31,
     "metadata": {},
     "output_type": "execute_result"
    }
   ],
   "source": [
    "study.best_value"
   ]
  },
  {
   "cell_type": "code",
   "execution_count": 32,
   "id": "b9eff9e7-5208-4a22-8473-5c94167507f9",
   "metadata": {},
   "outputs": [
    {
     "data": {
      "text/plain": [
       "{'learning_rate': 0.015498040868303089,\n",
       " 'max_depth': 8,\n",
       " 'min_child_weight': 69,\n",
       " 'subsample': 0.8287052489166259,\n",
       " 'colsample_bytree': 0.20944357313129097,\n",
       " 'reg_lambda': 0.0913120193501681}"
      ]
     },
     "execution_count": 32,
     "metadata": {},
     "output_type": "execute_result"
    }
   ],
   "source": [
    "study.best_params"
   ]
  },
  {
   "cell_type": "code",
   "execution_count": 24,
   "id": "00968a6c-6366-41fa-a986-e6de8fc4cd0a",
   "metadata": {},
   "outputs": [],
   "source": [
    "hyperparameters = {\n",
    "    'XGB': params,\n",
    "}"
   ]
  },
  {
   "cell_type": "code",
   "execution_count": 25,
   "id": "815dad49-4a13-48c6-b42d-858eb1866dd5",
   "metadata": {
    "collapsed": true,
    "jupyter": {
     "outputs_hidden": true
    },
    "scrolled": true
   },
   "outputs": [
    {
     "name": "stderr",
     "output_type": "stream",
     "text": [
      "Warning: path already exists! This predictor may overwrite an existing predictor! path=\"AutogluonModels/xgb_8fold_cv\"\n",
      "No presets specified! To achieve strong results with AutoGluon, it is recommended to use the available presets.\n",
      "\tRecommended Presets (For more details refer to https://auto.gluon.ai/stable/tutorials/tabular/tabular-essentials.html#presets):\n",
      "\tpresets='best_quality'   : Maximize accuracy. Default time_limit=3600.\n",
      "\tpresets='high_quality'   : Strong accuracy with fast inference speed. Default time_limit=3600.\n",
      "\tpresets='good_quality'   : Good accuracy with very fast inference speed. Default time_limit=3600.\n",
      "\tpresets='medium_quality' : Fast training time, ideal for initial prototyping.\n",
      "============ fit kwarg info ============\n",
      "User Specified kwargs:\n",
      "{'num_bag_folds': 8, 'num_bag_sets': 1, 'num_stack_levels': 0}\n",
      "Full kwargs:\n",
      "{'_feature_generator_kwargs': None,\n",
      " '_save_bag_folds': None,\n",
      " 'ag_args': None,\n",
      " 'ag_args_ensemble': None,\n",
      " 'ag_args_fit': None,\n",
      " 'auto_stack': False,\n",
      " 'calibrate': 'auto',\n",
      " 'ds_args': {'clean_up_fits': True,\n",
      "             'detection_time_frac': 0.25,\n",
      "             'holdout_data': None,\n",
      "             'holdout_frac': 0.1111111111111111,\n",
      "             'memory_safe_fits': True,\n",
      "             'n_folds': 2,\n",
      "             'n_repeats': 1,\n",
      "             'validation_procedure': 'holdout'},\n",
      " 'excluded_model_types': None,\n",
      " 'feature_generator': 'auto',\n",
      " 'feature_prune_kwargs': None,\n",
      " 'holdout_frac': None,\n",
      " 'hyperparameter_tune_kwargs': None,\n",
      " 'included_model_types': None,\n",
      " 'keep_only_best': False,\n",
      " 'name_suffix': None,\n",
      " 'num_bag_folds': 8,\n",
      " 'num_bag_sets': 1,\n",
      " 'num_stack_levels': 0,\n",
      " 'pseudo_data': None,\n",
      " 'refit_full': False,\n",
      " 'save_bag_folds': None,\n",
      " 'save_space': False,\n",
      " 'set_best_to_refit_full': False,\n",
      " 'unlabeled_data': None,\n",
      " 'use_bag_holdout': False,\n",
      " 'verbosity': 3}\n",
      "========================================\n",
      "Saving AutogluonModels/xgb_8fold_cv/learner.pkl\n",
      "Saving AutogluonModels/xgb_8fold_cv/predictor.pkl\n",
      "Beginning AutoGluon training ...\n",
      "AutoGluon will save models to \"AutogluonModels/xgb_8fold_cv\"\n",
      "=================== System Info ===================\n",
      "AutoGluon Version:  1.1.0\n",
      "Python Version:     3.8.0\n",
      "Operating System:   Linux\n",
      "Platform Machine:   x86_64\n",
      "Platform Version:   #1 SMP Sun Jan 19 18:21:42 CST 2020\n",
      "CPU Count:          64\n",
      "GPU Count:          0\n",
      "Memory Avail:       86.26 GB / 251.62 GB (34.3%)\n",
      "Disk Space Avail:   81.95 GB / 879.22 GB (9.3%)\n",
      "===================================================\n",
      "Train Data Rows:    76518\n",
      "Train Data Columns: 36\n",
      "Label Column:       Target\n",
      "Problem Type:       multiclass\n",
      "Preprocessing data ...\n",
      "Train Data Class Count: 3\n",
      "Using Feature Generators to preprocess the data ...\n",
      "Fitting AutoMLPipelineFeatureGenerator...\n",
      "\tAvailable Memory:                    88146.95 MB\n",
      "\tTrain Data (Original)  Memory Usage: 11.82 MB (0.0% of available memory)\n",
      "\tInferring data type of each feature based on column values. Set feature_metadata_in to manually specify special dtypes of the features.\n",
      "\tStage 1 Generators:\n",
      "\t\tFitting AsTypeFeatureGenerator...\n",
      "\t\t\tNote: Converting 8 features to boolean dtype as they only contain 2 unique values.\n",
      "\t\t\tOriginal Features (exact raw dtype, raw dtype):\n",
      "\t\t\t\t('category', 'category') : 18 | ['Marital_status', 'Application_mode', 'Application_order', 'Course', 'Daytime_evening_attendance', ...]\n",
      "\t\t\t\t('float64', 'float')     :  7 | ['Previous_qualification_grade', 'Admission_grade', 'Curricular_units_1st_sem_grade', 'Curricular_units_2nd_sem_grade', 'Unemployment_rate', ...]\n",
      "\t\t\t\t('int64', 'int')         : 11 | ['Age_at_enrollment', 'Curricular_units_1st_sem_credited', 'Curricular_units_1st_sem_enrolled', 'Curricular_units_1st_sem_evaluations', 'Curricular_units_1st_sem_approved', ...]\n",
      "\t\t\tTypes of features in original data (raw dtype, special dtypes):\n",
      "\t\t\t\t('category', []) : 18 | ['Marital_status', 'Application_mode', 'Application_order', 'Course', 'Daytime_evening_attendance', ...]\n",
      "\t\t\t\t('float', [])    :  7 | ['Previous_qualification_grade', 'Admission_grade', 'Curricular_units_1st_sem_grade', 'Curricular_units_2nd_sem_grade', 'Unemployment_rate', ...]\n",
      "\t\t\t\t('int', [])      : 11 | ['Age_at_enrollment', 'Curricular_units_1st_sem_credited', 'Curricular_units_1st_sem_enrolled', 'Curricular_units_1st_sem_evaluations', 'Curricular_units_1st_sem_approved', ...]\n",
      "\t\t\tTypes of features in processed data (raw dtype, special dtypes):\n",
      "\t\t\t\t('category', [])  : 10 | ['Marital_status', 'Application_mode', 'Application_order', 'Course', 'Previous_qualification', ...]\n",
      "\t\t\t\t('float', [])     :  7 | ['Previous_qualification_grade', 'Admission_grade', 'Curricular_units_1st_sem_grade', 'Curricular_units_2nd_sem_grade', 'Unemployment_rate', ...]\n",
      "\t\t\t\t('int', [])       : 11 | ['Age_at_enrollment', 'Curricular_units_1st_sem_credited', 'Curricular_units_1st_sem_enrolled', 'Curricular_units_1st_sem_evaluations', 'Curricular_units_1st_sem_approved', ...]\n",
      "\t\t\t\t('int', ['bool']) :  8 | ['Daytime_evening_attendance', 'Displaced', 'Educational_special_needs', 'Debtor', 'Tuition_fees_up_to_date', ...]\n",
      "\t\t\t0.0s = Fit runtime\n",
      "\t\t\t36 features in original data used to generate 36 features in processed data.\n",
      "\tStage 2 Generators:\n",
      "\t\tFitting FillNaFeatureGenerator...\n",
      "\t\t\tTypes of features in original data (raw dtype, special dtypes):\n",
      "\t\t\t\t('category', [])  : 10 | ['Marital_status', 'Application_mode', 'Application_order', 'Course', 'Previous_qualification', ...]\n",
      "\t\t\t\t('float', [])     :  7 | ['Previous_qualification_grade', 'Admission_grade', 'Curricular_units_1st_sem_grade', 'Curricular_units_2nd_sem_grade', 'Unemployment_rate', ...]\n",
      "\t\t\t\t('int', [])       : 11 | ['Age_at_enrollment', 'Curricular_units_1st_sem_credited', 'Curricular_units_1st_sem_enrolled', 'Curricular_units_1st_sem_evaluations', 'Curricular_units_1st_sem_approved', ...]\n",
      "\t\t\t\t('int', ['bool']) :  8 | ['Daytime_evening_attendance', 'Displaced', 'Educational_special_needs', 'Debtor', 'Tuition_fees_up_to_date', ...]\n",
      "\t\t\tTypes of features in processed data (raw dtype, special dtypes):\n",
      "\t\t\t\t('category', [])  : 10 | ['Marital_status', 'Application_mode', 'Application_order', 'Course', 'Previous_qualification', ...]\n",
      "\t\t\t\t('float', [])     :  7 | ['Previous_qualification_grade', 'Admission_grade', 'Curricular_units_1st_sem_grade', 'Curricular_units_2nd_sem_grade', 'Unemployment_rate', ...]\n",
      "\t\t\t\t('int', [])       : 11 | ['Age_at_enrollment', 'Curricular_units_1st_sem_credited', 'Curricular_units_1st_sem_enrolled', 'Curricular_units_1st_sem_evaluations', 'Curricular_units_1st_sem_approved', ...]\n",
      "\t\t\t\t('int', ['bool']) :  8 | ['Daytime_evening_attendance', 'Displaced', 'Educational_special_needs', 'Debtor', 'Tuition_fees_up_to_date', ...]\n",
      "\t\t\t0.0s = Fit runtime\n",
      "\t\t\t36 features in original data used to generate 36 features in processed data.\n",
      "\tStage 3 Generators:\n",
      "\t\tFitting IdentityFeatureGenerator...\n",
      "\t\t\tTypes of features in original data (raw dtype, special dtypes):\n",
      "\t\t\t\t('float', [])     :  7 | ['Previous_qualification_grade', 'Admission_grade', 'Curricular_units_1st_sem_grade', 'Curricular_units_2nd_sem_grade', 'Unemployment_rate', ...]\n",
      "\t\t\t\t('int', [])       : 11 | ['Age_at_enrollment', 'Curricular_units_1st_sem_credited', 'Curricular_units_1st_sem_enrolled', 'Curricular_units_1st_sem_evaluations', 'Curricular_units_1st_sem_approved', ...]\n",
      "\t\t\t\t('int', ['bool']) :  8 | ['Daytime_evening_attendance', 'Displaced', 'Educational_special_needs', 'Debtor', 'Tuition_fees_up_to_date', ...]\n",
      "\t\t\tTypes of features in processed data (raw dtype, special dtypes):\n",
      "\t\t\t\t('float', [])     :  7 | ['Previous_qualification_grade', 'Admission_grade', 'Curricular_units_1st_sem_grade', 'Curricular_units_2nd_sem_grade', 'Unemployment_rate', ...]\n",
      "\t\t\t\t('int', [])       : 11 | ['Age_at_enrollment', 'Curricular_units_1st_sem_credited', 'Curricular_units_1st_sem_enrolled', 'Curricular_units_1st_sem_evaluations', 'Curricular_units_1st_sem_approved', ...]\n",
      "\t\t\t\t('int', ['bool']) :  8 | ['Daytime_evening_attendance', 'Displaced', 'Educational_special_needs', 'Debtor', 'Tuition_fees_up_to_date', ...]\n",
      "\t\t\t0.0s = Fit runtime\n",
      "\t\t\t26 features in original data used to generate 26 features in processed data.\n",
      "\t\tFitting CategoryFeatureGenerator...\n",
      "\t\t\tFitting CategoryMemoryMinimizeFeatureGenerator...\n",
      "\t\t\t\tTypes of features in original data (raw dtype, special dtypes):\n",
      "\t\t\t\t\t('category', []) : 10 | ['Marital_status', 'Application_mode', 'Application_order', 'Course', 'Previous_qualification', ...]\n",
      "\t\t\t\tTypes of features in processed data (raw dtype, special dtypes):\n",
      "\t\t\t\t\t('category', []) : 10 | ['Marital_status', 'Application_mode', 'Application_order', 'Course', 'Previous_qualification', ...]\n",
      "\t\t\t\t0.0s = Fit runtime\n",
      "\t\t\t\t10 features in original data used to generate 10 features in processed data.\n",
      "\t\t\tTypes of features in original data (raw dtype, special dtypes):\n",
      "\t\t\t\t('category', []) : 10 | ['Marital_status', 'Application_mode', 'Application_order', 'Course', 'Previous_qualification', ...]\n",
      "\t\t\tTypes of features in processed data (raw dtype, special dtypes):\n",
      "\t\t\t\t('category', []) : 10 | ['Marital_status', 'Application_mode', 'Application_order', 'Course', 'Previous_qualification', ...]\n",
      "\t\t\t0.1s = Fit runtime\n",
      "\t\t\t10 features in original data used to generate 10 features in processed data.\n",
      "\t\tSkipping DatetimeFeatureGenerator: No input feature with required dtypes.\n",
      "\t\tSkipping TextSpecialFeatureGenerator: No input feature with required dtypes.\n",
      "\t\tSkipping TextNgramFeatureGenerator: No input feature with required dtypes.\n",
      "\t\tSkipping IdentityFeatureGenerator: No input feature with required dtypes.\n",
      "\t\tSkipping IsNanFeatureGenerator: No input feature with required dtypes.\n",
      "\tStage 4 Generators:\n",
      "\t\tFitting DropUniqueFeatureGenerator...\n",
      "\t\t\tTypes of features in original data (raw dtype, special dtypes):\n",
      "\t\t\t\t('category', [])  : 10 | ['Marital_status', 'Application_mode', 'Application_order', 'Course', 'Previous_qualification', ...]\n",
      "\t\t\t\t('float', [])     :  7 | ['Previous_qualification_grade', 'Admission_grade', 'Curricular_units_1st_sem_grade', 'Curricular_units_2nd_sem_grade', 'Unemployment_rate', ...]\n",
      "\t\t\t\t('int', [])       : 11 | ['Age_at_enrollment', 'Curricular_units_1st_sem_credited', 'Curricular_units_1st_sem_enrolled', 'Curricular_units_1st_sem_evaluations', 'Curricular_units_1st_sem_approved', ...]\n",
      "\t\t\t\t('int', ['bool']) :  8 | ['Daytime_evening_attendance', 'Displaced', 'Educational_special_needs', 'Debtor', 'Tuition_fees_up_to_date', ...]\n",
      "\t\t\tTypes of features in processed data (raw dtype, special dtypes):\n",
      "\t\t\t\t('category', [])  : 10 | ['Marital_status', 'Application_mode', 'Application_order', 'Course', 'Previous_qualification', ...]\n",
      "\t\t\t\t('float', [])     :  7 | ['Previous_qualification_grade', 'Admission_grade', 'Curricular_units_1st_sem_grade', 'Curricular_units_2nd_sem_grade', 'Unemployment_rate', ...]\n",
      "\t\t\t\t('int', [])       : 11 | ['Age_at_enrollment', 'Curricular_units_1st_sem_credited', 'Curricular_units_1st_sem_enrolled', 'Curricular_units_1st_sem_evaluations', 'Curricular_units_1st_sem_approved', ...]\n",
      "\t\t\t\t('int', ['bool']) :  8 | ['Daytime_evening_attendance', 'Displaced', 'Educational_special_needs', 'Debtor', 'Tuition_fees_up_to_date', ...]\n",
      "\t\t\t0.0s = Fit runtime\n",
      "\t\t\t36 features in original data used to generate 36 features in processed data.\n",
      "\tStage 5 Generators:\n",
      "\t\tFitting DropDuplicatesFeatureGenerator...\n",
      "\t\t\tTypes of features in original data (raw dtype, special dtypes):\n",
      "\t\t\t\t('category', [])  : 10 | ['Marital_status', 'Application_mode', 'Application_order', 'Course', 'Previous_qualification', ...]\n",
      "\t\t\t\t('float', [])     :  7 | ['Previous_qualification_grade', 'Admission_grade', 'Curricular_units_1st_sem_grade', 'Curricular_units_2nd_sem_grade', 'Unemployment_rate', ...]\n",
      "\t\t\t\t('int', [])       : 11 | ['Age_at_enrollment', 'Curricular_units_1st_sem_credited', 'Curricular_units_1st_sem_enrolled', 'Curricular_units_1st_sem_evaluations', 'Curricular_units_1st_sem_approved', ...]\n",
      "\t\t\t\t('int', ['bool']) :  8 | ['Daytime_evening_attendance', 'Displaced', 'Educational_special_needs', 'Debtor', 'Tuition_fees_up_to_date', ...]\n",
      "\t\t\tTypes of features in processed data (raw dtype, special dtypes):\n",
      "\t\t\t\t('category', [])  : 10 | ['Marital_status', 'Application_mode', 'Application_order', 'Course', 'Previous_qualification', ...]\n",
      "\t\t\t\t('float', [])     :  7 | ['Previous_qualification_grade', 'Admission_grade', 'Curricular_units_1st_sem_grade', 'Curricular_units_2nd_sem_grade', 'Unemployment_rate', ...]\n",
      "\t\t\t\t('int', [])       : 11 | ['Age_at_enrollment', 'Curricular_units_1st_sem_credited', 'Curricular_units_1st_sem_enrolled', 'Curricular_units_1st_sem_evaluations', 'Curricular_units_1st_sem_approved', ...]\n",
      "\t\t\t\t('int', ['bool']) :  8 | ['Daytime_evening_attendance', 'Displaced', 'Educational_special_needs', 'Debtor', 'Tuition_fees_up_to_date', ...]\n",
      "\t\t\t0.0s = Fit runtime\n",
      "\t\t\t36 features in original data used to generate 36 features in processed data.\n",
      "\tTypes of features in original data (exact raw dtype, raw dtype):\n",
      "\t\t('category', 'category') : 18 | ['Marital_status', 'Application_mode', 'Application_order', 'Course', 'Daytime_evening_attendance', ...]\n",
      "\t\t('float64', 'float')     :  7 | ['Previous_qualification_grade', 'Admission_grade', 'Curricular_units_1st_sem_grade', 'Curricular_units_2nd_sem_grade', 'Unemployment_rate', ...]\n",
      "\t\t('int64', 'int')         : 11 | ['Age_at_enrollment', 'Curricular_units_1st_sem_credited', 'Curricular_units_1st_sem_enrolled', 'Curricular_units_1st_sem_evaluations', 'Curricular_units_1st_sem_approved', ...]\n",
      "\tTypes of features in original data (raw dtype, special dtypes):\n",
      "\t\t('category', []) : 18 | ['Marital_status', 'Application_mode', 'Application_order', 'Course', 'Daytime_evening_attendance', ...]\n",
      "\t\t('float', [])    :  7 | ['Previous_qualification_grade', 'Admission_grade', 'Curricular_units_1st_sem_grade', 'Curricular_units_2nd_sem_grade', 'Unemployment_rate', ...]\n",
      "\t\t('int', [])      : 11 | ['Age_at_enrollment', 'Curricular_units_1st_sem_credited', 'Curricular_units_1st_sem_enrolled', 'Curricular_units_1st_sem_evaluations', 'Curricular_units_1st_sem_approved', ...]\n",
      "\tTypes of features in processed data (exact raw dtype, raw dtype):\n",
      "\t\t('category', 'category') : 10 | ['Marital_status', 'Application_mode', 'Application_order', 'Course', 'Previous_qualification', ...]\n",
      "\t\t('float64', 'float')     :  7 | ['Previous_qualification_grade', 'Admission_grade', 'Curricular_units_1st_sem_grade', 'Curricular_units_2nd_sem_grade', 'Unemployment_rate', ...]\n",
      "\t\t('int64', 'int')         : 11 | ['Age_at_enrollment', 'Curricular_units_1st_sem_credited', 'Curricular_units_1st_sem_enrolled', 'Curricular_units_1st_sem_evaluations', 'Curricular_units_1st_sem_approved', ...]\n",
      "\t\t('int8', 'int')          :  8 | ['Daytime_evening_attendance', 'Displaced', 'Educational_special_needs', 'Debtor', 'Tuition_fees_up_to_date', ...]\n",
      "\tTypes of features in processed data (raw dtype, special dtypes):\n",
      "\t\t('category', [])  : 10 | ['Marital_status', 'Application_mode', 'Application_order', 'Course', 'Previous_qualification', ...]\n",
      "\t\t('float', [])     :  7 | ['Previous_qualification_grade', 'Admission_grade', 'Curricular_units_1st_sem_grade', 'Curricular_units_2nd_sem_grade', 'Unemployment_rate', ...]\n",
      "\t\t('int', [])       : 11 | ['Age_at_enrollment', 'Curricular_units_1st_sem_credited', 'Curricular_units_1st_sem_enrolled', 'Curricular_units_1st_sem_evaluations', 'Curricular_units_1st_sem_approved', ...]\n",
      "\t\t('int', ['bool']) :  8 | ['Daytime_evening_attendance', 'Displaced', 'Educational_special_needs', 'Debtor', 'Tuition_fees_up_to_date', ...]\n",
      "\t0.4s = Fit runtime\n",
      "\t36 features in original data used to generate 36 features in processed data.\n",
      "\tTrain Data (Processed) Memory Usage: 11.83 MB (0.0% of available memory)\n",
      "Data preprocessing and feature engineering runtime = 0.44s ...\n",
      "AutoGluon will gauge predictive performance using evaluation metric: 'accuracy'\n",
      "\tTo change this, specify the eval_metric parameter of Predictor()\n",
      "Saving AutogluonModels/xgb_8fold_cv/learner.pkl\n",
      "User-specified model hyperparameters to be fit:\n",
      "{\n",
      "\t'XGB': {'verbosity': 1, 'objective': 'multi:softprob', 'num_class': 3, 'eval_metric': 'merror', 'learning_rate': 0.015498040868303089, 'max_depth': 8, 'min_child_weight': 69, 'subsample': 0.8287052489166259, 'colsample_bytree': 0.20944357313129097, 'reg_lambda': 0.0913120193501681},\n",
      "}\n",
      "Saving AutogluonModels/xgb_8fold_cv/utils/data/X.pkl\n",
      "Saving AutogluonModels/xgb_8fold_cv/utils/data/y.pkl\n",
      "Model configs that will be trained (in order):\n",
      "\tXGBoost_BAG_L1: \t{'verbosity': 1, 'objective': 'multi:softprob', 'num_class': 3, 'eval_metric': 'merror', 'learning_rate': 0.015498040868303089, 'max_depth': 8, 'min_child_weight': 69, 'subsample': 0.8287052489166259, 'colsample_bytree': 0.20944357313129097, 'reg_lambda': 0.0913120193501681, 'ag_args': {'problem_types': ['binary', 'multiclass', 'regression', 'softclass'], 'model_type': <class 'autogluon.tabular.models.xgboost.xgboost_model.XGBoostModel'>, 'priority': 40}}\n",
      "Fitting 1 L1 models ...\n",
      "Fitting model: XGBoost_BAG_L1 ...\n",
      "\tFitting XGBoost_BAG_L1 with 'num_gpus': 0, 'num_cpus': 64\n",
      "Saving AutogluonModels/xgb_8fold_cv/models/XGBoost_BAG_L1/utils/model_template.pkl\n",
      "Loading: AutogluonModels/xgb_8fold_cv/models/XGBoost_BAG_L1/utils/model_template.pkl\n",
      "\tFitting 8 child models (S1F1 - S1F8) | Fitting with ParallelLocalFoldFittingStrategy (8 workers, per: cpus=8, gpus=0, memory=0.19%)\n",
      "Saving AutogluonModels/xgb_8fold_cv/models/XGBoost_BAG_L1/utils/oof.pkl\n",
      "Saving AutogluonModels/xgb_8fold_cv/models/XGBoost_BAG_L1/model.pkl\n",
      "\t0.8348\t = Validation score   (accuracy)\n",
      "\t158.14s\t = Training   runtime\n",
      "\t11.39s\t = Validation runtime\n",
      "Saving AutogluonModels/xgb_8fold_cv/models/trainer.pkl\n",
      "Loading: AutogluonModels/xgb_8fold_cv/models/XGBoost_BAG_L1/utils/oof.pkl\n",
      "Model configs that will be trained (in order):\n",
      "\tWeightedEnsemble_L2: \t{'ag_args': {'valid_base': False, 'name_bag_suffix': '', 'model_type': <class 'autogluon.core.models.greedy_ensemble.greedy_weighted_ensemble_model.GreedyWeightedEnsembleModel'>, 'priority': 0}, 'ag_args_ensemble': {'save_bag_folds': True}}\n",
      "Fitting model: WeightedEnsemble_L2 ...\n",
      "\tFitting WeightedEnsemble_L2 with 'num_gpus': 0, 'num_cpus': 64\n",
      "Saving AutogluonModels/xgb_8fold_cv/models/WeightedEnsemble_L2/utils/model_template.pkl\n",
      "Loading: AutogluonModels/xgb_8fold_cv/models/WeightedEnsemble_L2/utils/model_template.pkl\n",
      "Ensemble size: 1\n",
      "Ensemble weights: \n",
      "[1.]\n",
      "Saving AutogluonModels/xgb_8fold_cv/models/WeightedEnsemble_L2/utils/oof.pkl\n",
      "Saving AutogluonModels/xgb_8fold_cv/models/WeightedEnsemble_L2/model.pkl\n",
      "\tEnsemble Weights: {'XGBoost_BAG_L1': 1.0}\n",
      "\t0.8348\t = Validation score   (accuracy)\n",
      "\t0.02s\t = Training   runtime\n",
      "\t0.01s\t = Validation runtime\n",
      "Saving AutogluonModels/xgb_8fold_cv/models/trainer.pkl\n",
      "Saving AutogluonModels/xgb_8fold_cv/models/trainer.pkl\n",
      "Saving AutogluonModels/xgb_8fold_cv/models/trainer.pkl\n",
      "AutoGluon training complete, total runtime = 166.41s ... Best model: \"WeightedEnsemble_L2\"\n",
      "Loading: AutogluonModels/xgb_8fold_cv/models/trainer.pkl\n",
      "Saving AutogluonModels/xgb_8fold_cv/models/trainer.pkl\n",
      "Saving AutogluonModels/xgb_8fold_cv/learner.pkl\n",
      "Saving AutogluonModels/xgb_8fold_cv/predictor.pkl\n",
      "Saving AutogluonModels/xgb_8fold_cv/__version__ with contents \"1.1.0\"\n",
      "Saving AutogluonModels/xgb_8fold_cv/metadata.json\n",
      "TabularPredictor saved. To load, use: predictor = TabularPredictor.load(\"AutogluonModels/xgb_8fold_cv\")\n"
     ]
    }
   ],
   "source": [
    "predictor = TabularPredictor(\n",
    "    label=label,\n",
    "    problem_type='multiclass',\n",
    "    eval_metric='accuracy',\n",
    "    verbosity=3,\n",
    "    path='AutogluonModels/xgb_8fold_cv'\n",
    ").fit(\n",
    "    train_df, \n",
    "    hyperparameters=hyperparameters,\n",
    "    num_bag_sets=1,\n",
    "    num_bag_folds=8,\n",
    "    num_stack_levels=0\n",
    ")"
   ]
  },
  {
   "cell_type": "code",
   "execution_count": 38,
   "id": "5a4a3c1a-af1c-4013-81a3-317ac7143f8d",
   "metadata": {
    "collapsed": true,
    "jupyter": {
     "outputs_hidden": true
    },
    "scrolled": true
   },
   "outputs": [
    {
     "name": "stderr",
     "output_type": "stream",
     "text": [
      "Loading: AutogluonModels/xgb_8fold_cv/models/XGBoost_BAG_L1/info.pkl\n",
      "Loading: AutogluonModels/xgb_8fold_cv/models/XGBoost_BAG_L1/model.pkl\n",
      "Loading: AutogluonModels/xgb_8fold_cv/models/XGBoost_BAG_L1/S1F8/info.pkl\n",
      "Loading: AutogluonModels/xgb_8fold_cv/models/XGBoost_BAG_L1/S1F8/model.pkl\n",
      "Loading: AutogluonModels/xgb_8fold_cv/models/XGBoost_BAG_L1/S1F7/info.pkl\n",
      "Loading: AutogluonModels/xgb_8fold_cv/models/XGBoost_BAG_L1/S1F7/model.pkl\n",
      "Loading: AutogluonModels/xgb_8fold_cv/models/XGBoost_BAG_L1/S1F5/info.pkl\n",
      "Loading: AutogluonModels/xgb_8fold_cv/models/XGBoost_BAG_L1/S1F5/model.pkl\n",
      "Loading: AutogluonModels/xgb_8fold_cv/models/XGBoost_BAG_L1/S1F4/info.pkl\n",
      "Loading: AutogluonModels/xgb_8fold_cv/models/XGBoost_BAG_L1/S1F4/model.pkl\n",
      "Loading: AutogluonModels/xgb_8fold_cv/models/XGBoost_BAG_L1/S1F1/info.pkl\n",
      "Loading: AutogluonModels/xgb_8fold_cv/models/XGBoost_BAG_L1/S1F1/model.pkl\n",
      "Loading: AutogluonModels/xgb_8fold_cv/models/XGBoost_BAG_L1/S1F6/info.pkl\n",
      "Loading: AutogluonModels/xgb_8fold_cv/models/XGBoost_BAG_L1/S1F6/model.pkl\n",
      "Loading: AutogluonModels/xgb_8fold_cv/models/XGBoost_BAG_L1/S1F2/info.pkl\n",
      "Loading: AutogluonModels/xgb_8fold_cv/models/XGBoost_BAG_L1/S1F2/model.pkl\n",
      "Loading: AutogluonModels/xgb_8fold_cv/models/XGBoost_BAG_L1/S1F3/info.pkl\n",
      "Loading: AutogluonModels/xgb_8fold_cv/models/XGBoost_BAG_L1/S1F3/model.pkl\n",
      "Loading: AutogluonModels/xgb_8fold_cv/models/WeightedEnsemble_L2/info.pkl\n",
      "Loading: AutogluonModels/xgb_8fold_cv/models/WeightedEnsemble_L2/model.pkl\n"
     ]
    }
   ],
   "source": [
    "lb = predictor.leaderboard(extra_info=True)"
   ]
  },
  {
   "cell_type": "code",
   "execution_count": 41,
   "id": "fdf025af-7823-4238-8487-00aa6e363160",
   "metadata": {},
   "outputs": [
    {
     "data": {
      "text/plain": [
       "{'n_estimators': 10000,\n",
       " 'learning_rate': 0.015498040868303089,\n",
       " 'n_jobs': -1,\n",
       " 'proc.max_category_levels': 100,\n",
       " 'objective': 'multi:softprob',\n",
       " 'booster': 'gbtree',\n",
       " 'num_class': 3,\n",
       " 'verbosity': 1,\n",
       " 'eval_metric': 'merror',\n",
       " 'max_depth': 8,\n",
       " 'min_child_weight': 69,\n",
       " 'subsample': 0.8287052489166259,\n",
       " 'colsample_bytree': 0.20944357313129097,\n",
       " 'reg_lambda': 0.0913120193501681}"
      ]
     },
     "execution_count": 41,
     "metadata": {},
     "output_type": "execute_result"
    }
   ],
   "source": [
    "lb.iloc[0].child_hyperparameters"
   ]
  },
  {
   "cell_type": "code",
   "execution_count": 42,
   "id": "5b2c395a-5b40-47bf-9146-c56bd9f408cb",
   "metadata": {},
   "outputs": [
    {
     "data": {
      "text/plain": [
       "{'n_estimators': 1686}"
      ]
     },
     "execution_count": 42,
     "metadata": {},
     "output_type": "execute_result"
    }
   ],
   "source": [
    "lb.iloc[0].child_hyperparameters_fit"
   ]
  },
  {
   "cell_type": "code",
   "execution_count": 95,
   "id": "147ea657-4c74-4060-afbb-637f7dcf0e9b",
   "metadata": {},
   "outputs": [],
   "source": [
    "xgb_pred_prob = predictor.predict_proba(test_df[ori_all_feats])"
   ]
  },
  {
   "cell_type": "code",
   "execution_count": 152,
   "id": "6358d18f-e331-4e78-9c6d-b51f4cdd44f9",
   "metadata": {},
   "outputs": [],
   "source": [
    "xgb_oof = read_pickle('AutogluonModels/xgb_8fold_cv/models/XGBoost_BAG_L1/utils/oof.pkl')"
   ]
  },
  {
   "cell_type": "code",
   "execution_count": 154,
   "id": "905fc25e-6e99-4616-b6bf-afcc9fd95dd5",
   "metadata": {},
   "outputs": [],
   "source": [
    "xgb_oof = xgb_oof['_oof_pred_proba']"
   ]
  },
  {
   "cell_type": "markdown",
   "id": "226033fe-f7b3-44ea-a360-1587a965ba36",
   "metadata": {},
   "source": [
    "### LightGBM"
   ]
  },
  {
   "cell_type": "code",
   "execution_count": 49,
   "id": "fcac8450-57f7-4aab-836f-59c05f9d3e24",
   "metadata": {},
   "outputs": [],
   "source": [
    "# optuna 搜索得到的超参\n",
    "params = {\n",
    "    # 'num_threads': 32,\n",
    "    'objective': 'multiclass',\n",
    "    'num_class': 3,\n",
    "    'metric': 'multi_error',\n",
    "    'feature_pre_filter': False,\n",
    "    'lambda_l1': 5.316177163748547,\n",
    "    'lambda_l2': 1.0682353345816337e-08,\n",
    "    'num_leaves': 31,\n",
    "    'feature_fraction': 0.4,\n",
    "    'bagging_fraction': 1.0,\n",
    "    'bagging_freq': 0,\n",
    "    'min_child_samples': 20,\n",
    "    'early_stopping_rounds': 400\n",
    "}"
   ]
  },
  {
   "cell_type": "code",
   "execution_count": 50,
   "id": "aacc163c-5da1-4d5d-9557-89dfd8cfc9c3",
   "metadata": {},
   "outputs": [],
   "source": [
    "hyperparameters = {\n",
    "    'GBM': params,\n",
    "}"
   ]
  },
  {
   "cell_type": "code",
   "execution_count": 51,
   "id": "006ef753-62d6-483c-9018-ec961fb4c573",
   "metadata": {
    "scrolled": true
   },
   "outputs": [
    {
     "name": "stderr",
     "output_type": "stream",
     "text": [
      "No presets specified! To achieve strong results with AutoGluon, it is recommended to use the available presets.\n",
      "\tRecommended Presets (For more details refer to https://auto.gluon.ai/stable/tutorials/tabular/tabular-essentials.html#presets):\n",
      "\tpresets='best_quality'   : Maximize accuracy. Default time_limit=3600.\n",
      "\tpresets='high_quality'   : Strong accuracy with fast inference speed. Default time_limit=3600.\n",
      "\tpresets='good_quality'   : Good accuracy with very fast inference speed. Default time_limit=3600.\n",
      "\tpresets='medium_quality' : Fast training time, ideal for initial prototyping.\n",
      "Beginning AutoGluon training ...\n",
      "AutoGluon will save models to \"AutogluonModels/lgb_8fold_cv\"\n",
      "=================== System Info ===================\n",
      "AutoGluon Version:  1.1.0\n",
      "Python Version:     3.8.0\n",
      "Operating System:   Linux\n",
      "Platform Machine:   x86_64\n",
      "Platform Version:   #1 SMP Sun Jan 19 18:21:42 CST 2020\n",
      "CPU Count:          64\n",
      "Memory Avail:       85.07 GB / 251.62 GB (33.8%)\n",
      "Disk Space Avail:   81.77 GB / 879.22 GB (9.3%)\n",
      "===================================================\n",
      "Train Data Rows:    76518\n",
      "Train Data Columns: 36\n",
      "Label Column:       Target\n",
      "Problem Type:       multiclass\n",
      "Preprocessing data ...\n",
      "Train Data Class Count: 3\n",
      "Using Feature Generators to preprocess the data ...\n",
      "Fitting AutoMLPipelineFeatureGenerator...\n",
      "\tAvailable Memory:                    87122.31 MB\n",
      "\tTrain Data (Original)  Memory Usage: 11.82 MB (0.0% of available memory)\n",
      "\tInferring data type of each feature based on column values. Set feature_metadata_in to manually specify special dtypes of the features.\n",
      "\tStage 1 Generators:\n",
      "\t\tFitting AsTypeFeatureGenerator...\n",
      "\t\t\tNote: Converting 8 features to boolean dtype as they only contain 2 unique values.\n",
      "\tStage 2 Generators:\n",
      "\t\tFitting FillNaFeatureGenerator...\n",
      "\tStage 3 Generators:\n",
      "\t\tFitting IdentityFeatureGenerator...\n",
      "\t\tFitting CategoryFeatureGenerator...\n",
      "\t\t\tFitting CategoryMemoryMinimizeFeatureGenerator...\n",
      "\tStage 4 Generators:\n",
      "\t\tFitting DropUniqueFeatureGenerator...\n",
      "\tStage 5 Generators:\n",
      "\t\tFitting DropDuplicatesFeatureGenerator...\n",
      "\tTypes of features in original data (raw dtype, special dtypes):\n",
      "\t\t('category', []) : 18 | ['Marital_status', 'Application_mode', 'Application_order', 'Course', 'Daytime_evening_attendance', ...]\n",
      "\t\t('float', [])    :  7 | ['Previous_qualification_grade', 'Admission_grade', 'Curricular_units_1st_sem_grade', 'Curricular_units_2nd_sem_grade', 'Unemployment_rate', ...]\n",
      "\t\t('int', [])      : 11 | ['Age_at_enrollment', 'Curricular_units_1st_sem_credited', 'Curricular_units_1st_sem_enrolled', 'Curricular_units_1st_sem_evaluations', 'Curricular_units_1st_sem_approved', ...]\n",
      "\tTypes of features in processed data (raw dtype, special dtypes):\n",
      "\t\t('category', [])  : 10 | ['Marital_status', 'Application_mode', 'Application_order', 'Course', 'Previous_qualification', ...]\n",
      "\t\t('float', [])     :  7 | ['Previous_qualification_grade', 'Admission_grade', 'Curricular_units_1st_sem_grade', 'Curricular_units_2nd_sem_grade', 'Unemployment_rate', ...]\n",
      "\t\t('int', [])       : 11 | ['Age_at_enrollment', 'Curricular_units_1st_sem_credited', 'Curricular_units_1st_sem_enrolled', 'Curricular_units_1st_sem_evaluations', 'Curricular_units_1st_sem_approved', ...]\n",
      "\t\t('int', ['bool']) :  8 | ['Daytime_evening_attendance', 'Displaced', 'Educational_special_needs', 'Debtor', 'Tuition_fees_up_to_date', ...]\n",
      "\t0.3s = Fit runtime\n",
      "\t36 features in original data used to generate 36 features in processed data.\n",
      "\tTrain Data (Processed) Memory Usage: 11.83 MB (0.0% of available memory)\n",
      "Data preprocessing and feature engineering runtime = 0.32s ...\n",
      "AutoGluon will gauge predictive performance using evaluation metric: 'accuracy'\n",
      "\tTo change this, specify the eval_metric parameter of Predictor()\n",
      "User-specified model hyperparameters to be fit:\n",
      "{\n",
      "\t'GBM': {'objective': 'multiclass', 'num_class': 3, 'metric': 'multi_error', 'feature_pre_filter': False, 'lambda_l1': 5.316177163748547, 'lambda_l2': 1.0682353345816337e-08, 'num_leaves': 31, 'feature_fraction': 0.4, 'bagging_fraction': 1.0, 'bagging_freq': 0, 'min_child_samples': 20, 'early_stopping_rounds': 400},\n",
      "}\n",
      "Fitting 1 L1 models ...\n",
      "Fitting model: LightGBM_BAG_L1 ...\n",
      "\tFitting 8 child models (S1F1 - S1F8) | Fitting with ParallelLocalFoldFittingStrategy (8 workers, per: cpus=8, gpus=0, memory=0.11%)\n",
      "\t0.8341\t = Validation score   (accuracy)\n",
      "\t11.65s\t = Training   runtime\n",
      "\t1.24s\t = Validation runtime\n",
      "Fitting model: WeightedEnsemble_L2 ...\n",
      "\tEnsemble Weights: {'LightGBM_BAG_L1': 1.0}\n",
      "\t0.8341\t = Validation score   (accuracy)\n",
      "\t0.01s\t = Training   runtime\n",
      "\t0.01s\t = Validation runtime\n",
      "AutoGluon training complete, total runtime = 14.06s ... Best model: \"WeightedEnsemble_L2\"\n",
      "TabularPredictor saved. To load, use: predictor = TabularPredictor.load(\"AutogluonModels/lgb_8fold_cv\")\n"
     ]
    }
   ],
   "source": [
    "lgb_predictor = TabularPredictor(\n",
    "    label=label,\n",
    "    problem_type='multiclass',\n",
    "    eval_metric='accuracy',\n",
    "    verbosity=2,\n",
    "    path='AutogluonModels/lgb_8fold_cv',\n",
    ").fit(\n",
    "    train_df, \n",
    "    hyperparameters=hyperparameters,\n",
    "    num_bag_sets=1,\n",
    "    num_bag_folds=8,\n",
    "    num_stack_levels=0\n",
    ")"
   ]
  },
  {
   "cell_type": "code",
   "execution_count": 52,
   "id": "57e31739-8c49-42a9-a5c4-ae1778389c6b",
   "metadata": {
    "scrolled": true
   },
   "outputs": [],
   "source": [
    "lb = lgb_predictor.leaderboard(extra_info=True)"
   ]
  },
  {
   "cell_type": "code",
   "execution_count": 53,
   "id": "3dfbd6e5-76d6-4049-a144-237c865b65e0",
   "metadata": {},
   "outputs": [
    {
     "data": {
      "text/html": [
       "<div>\n",
       "<style scoped>\n",
       "    .dataframe tbody tr th:only-of-type {\n",
       "        vertical-align: middle;\n",
       "    }\n",
       "\n",
       "    .dataframe tbody tr th {\n",
       "        vertical-align: top;\n",
       "    }\n",
       "\n",
       "    .dataframe thead th {\n",
       "        text-align: right;\n",
       "    }\n",
       "</style>\n",
       "<table border=\"1\" class=\"dataframe\">\n",
       "  <thead>\n",
       "    <tr style=\"text-align: right;\">\n",
       "      <th></th>\n",
       "      <th>model</th>\n",
       "      <th>score_val</th>\n",
       "      <th>eval_metric</th>\n",
       "      <th>pred_time_val</th>\n",
       "      <th>fit_time</th>\n",
       "      <th>pred_time_val_marginal</th>\n",
       "      <th>fit_time_marginal</th>\n",
       "      <th>stack_level</th>\n",
       "      <th>can_infer</th>\n",
       "      <th>fit_order</th>\n",
       "      <th>...</th>\n",
       "      <th>hyperparameters</th>\n",
       "      <th>hyperparameters_fit</th>\n",
       "      <th>ag_args_fit</th>\n",
       "      <th>features</th>\n",
       "      <th>compile_time</th>\n",
       "      <th>child_hyperparameters</th>\n",
       "      <th>child_hyperparameters_fit</th>\n",
       "      <th>child_ag_args_fit</th>\n",
       "      <th>ancestors</th>\n",
       "      <th>descendants</th>\n",
       "    </tr>\n",
       "  </thead>\n",
       "  <tbody>\n",
       "    <tr>\n",
       "      <th>0</th>\n",
       "      <td>LightGBM_BAG_L1</td>\n",
       "      <td>0.834065</td>\n",
       "      <td>accuracy</td>\n",
       "      <td>1.242113</td>\n",
       "      <td>11.652174</td>\n",
       "      <td>1.242113</td>\n",
       "      <td>11.652174</td>\n",
       "      <td>1</td>\n",
       "      <td>True</td>\n",
       "      <td>1</td>\n",
       "      <td>...</td>\n",
       "      <td>{'use_orig_features': True, 'max_base_models':...</td>\n",
       "      <td>{}</td>\n",
       "      <td>{'max_memory_usage_ratio': 1.0, 'max_time_limi...</td>\n",
       "      <td>[Scholarship_holder, Curricular_units_1st_sem_...</td>\n",
       "      <td>None</td>\n",
       "      <td>{'learning_rate': 0.05, 'objective': 'multicla...</td>\n",
       "      <td>{'num_boost_round': 224}</td>\n",
       "      <td>{'max_memory_usage_ratio': 1.0, 'max_time_limi...</td>\n",
       "      <td>[]</td>\n",
       "      <td>[WeightedEnsemble_L2]</td>\n",
       "    </tr>\n",
       "    <tr>\n",
       "      <th>1</th>\n",
       "      <td>WeightedEnsemble_L2</td>\n",
       "      <td>0.834065</td>\n",
       "      <td>accuracy</td>\n",
       "      <td>1.250440</td>\n",
       "      <td>11.665603</td>\n",
       "      <td>0.008328</td>\n",
       "      <td>0.013429</td>\n",
       "      <td>2</td>\n",
       "      <td>True</td>\n",
       "      <td>2</td>\n",
       "      <td>...</td>\n",
       "      <td>{'use_orig_features': False, 'max_base_models'...</td>\n",
       "      <td>{}</td>\n",
       "      <td>{'max_memory_usage_ratio': 1.0, 'max_time_limi...</td>\n",
       "      <td>[LightGBM_BAG_L1_1, LightGBM_BAG_L1_2, LightGB...</td>\n",
       "      <td>None</td>\n",
       "      <td>{'ensemble_size': 25, 'subsample_size': 1000000}</td>\n",
       "      <td>{'ensemble_size': 1}</td>\n",
       "      <td>{'max_memory_usage_ratio': 1.0, 'max_time_limi...</td>\n",
       "      <td>[LightGBM_BAG_L1]</td>\n",
       "      <td>[]</td>\n",
       "    </tr>\n",
       "  </tbody>\n",
       "</table>\n",
       "<p>2 rows × 32 columns</p>\n",
       "</div>"
      ],
      "text/plain": [
       "                 model  score_val eval_metric  pred_time_val   fit_time  \\\n",
       "0      LightGBM_BAG_L1   0.834065    accuracy       1.242113  11.652174   \n",
       "1  WeightedEnsemble_L2   0.834065    accuracy       1.250440  11.665603   \n",
       "\n",
       "   pred_time_val_marginal  fit_time_marginal  stack_level  can_infer  \\\n",
       "0                1.242113          11.652174            1       True   \n",
       "1                0.008328           0.013429            2       True   \n",
       "\n",
       "   fit_order  ...                                    hyperparameters  \\\n",
       "0          1  ...  {'use_orig_features': True, 'max_base_models':...   \n",
       "1          2  ...  {'use_orig_features': False, 'max_base_models'...   \n",
       "\n",
       "   hyperparameters_fit                                        ag_args_fit  \\\n",
       "0                   {}  {'max_memory_usage_ratio': 1.0, 'max_time_limi...   \n",
       "1                   {}  {'max_memory_usage_ratio': 1.0, 'max_time_limi...   \n",
       "\n",
       "                                            features  compile_time  \\\n",
       "0  [Scholarship_holder, Curricular_units_1st_sem_...          None   \n",
       "1  [LightGBM_BAG_L1_1, LightGBM_BAG_L1_2, LightGB...          None   \n",
       "\n",
       "                               child_hyperparameters  \\\n",
       "0  {'learning_rate': 0.05, 'objective': 'multicla...   \n",
       "1   {'ensemble_size': 25, 'subsample_size': 1000000}   \n",
       "\n",
       "   child_hyperparameters_fit  \\\n",
       "0   {'num_boost_round': 224}   \n",
       "1       {'ensemble_size': 1}   \n",
       "\n",
       "                                   child_ag_args_fit          ancestors  \\\n",
       "0  {'max_memory_usage_ratio': 1.0, 'max_time_limi...                 []   \n",
       "1  {'max_memory_usage_ratio': 1.0, 'max_time_limi...  [LightGBM_BAG_L1]   \n",
       "\n",
       "             descendants  \n",
       "0  [WeightedEnsemble_L2]  \n",
       "1                     []  \n",
       "\n",
       "[2 rows x 32 columns]"
      ]
     },
     "execution_count": 53,
     "metadata": {},
     "output_type": "execute_result"
    }
   ],
   "source": [
    "lb"
   ]
  },
  {
   "cell_type": "code",
   "execution_count": 54,
   "id": "80894ae8-e00d-440d-b3e6-ee99457bc44c",
   "metadata": {},
   "outputs": [
    {
     "data": {
      "text/plain": [
       "{'learning_rate': 0.05,\n",
       " 'objective': 'multiclass',\n",
       " 'num_class': 3,\n",
       " 'metric': 'multi_error',\n",
       " 'feature_pre_filter': False,\n",
       " 'lambda_l1': 5.316177163748547,\n",
       " 'lambda_l2': 1.0682353345816337e-08,\n",
       " 'num_leaves': 31,\n",
       " 'feature_fraction': 0.4,\n",
       " 'bagging_fraction': 1.0,\n",
       " 'bagging_freq': 0,\n",
       " 'min_child_samples': 20,\n",
       " 'early_stopping_rounds': 400}"
      ]
     },
     "execution_count": 54,
     "metadata": {},
     "output_type": "execute_result"
    }
   ],
   "source": [
    "lb.iloc[0].child_hyperparameters"
   ]
  },
  {
   "cell_type": "code",
   "execution_count": 55,
   "id": "5e62044c-a629-4ea3-9c0a-ff1299308d69",
   "metadata": {},
   "outputs": [
    {
     "data": {
      "text/plain": [
       "{'num_boost_round': 224}"
      ]
     },
     "execution_count": 55,
     "metadata": {},
     "output_type": "execute_result"
    }
   ],
   "source": [
    "lb.iloc[0].child_hyperparameters_fit"
   ]
  },
  {
   "cell_type": "code",
   "execution_count": 97,
   "id": "c4029dbc-a1ec-496d-bd7b-ff97d04740ce",
   "metadata": {},
   "outputs": [],
   "source": [
    "lgb_pred_prob = lgb_predictor.predict_proba(test_df[ori_all_feats])"
   ]
  },
  {
   "cell_type": "code",
   "execution_count": 155,
   "id": "98f97f0c-34d9-4573-8508-c1ba1e0cc885",
   "metadata": {},
   "outputs": [],
   "source": [
    "lgb_oof = read_pickle('AutogluonModels/lgb_8fold_cv/models/LightGBM_BAG_L1/utils/oof.pkl')"
   ]
  },
  {
   "cell_type": "code",
   "execution_count": 156,
   "id": "6e245b3f-cf70-4716-baed-93f25dab718f",
   "metadata": {},
   "outputs": [],
   "source": [
    "lgb_oof = lgb_oof['_oof_pred_proba']"
   ]
  },
  {
   "cell_type": "markdown",
   "id": "bafa81a5-5e89-421e-9d9c-f5ffabe6c12f",
   "metadata": {},
   "source": [
    "### CatBoost"
   ]
  },
  {
   "cell_type": "code",
   "execution_count": 70,
   "id": "dbbcf44f-2163-4c71-aef4-17ca222781a1",
   "metadata": {},
   "outputs": [],
   "source": [
    "params = {\n",
    "    # 'thread_count': 8,\n",
    "    'objective': 'MultiClassOneVsAll',    \n",
    "    'eval_metric': 'MultiClassOneVsAll',\n",
    "    'bootstrap_type': 'Bernoulli',\n",
    "    \n",
    "    'colsample_bylevel': 0.40298480832888184,\n",
    "    'learning_rate': 0.03608281349834408,\n",
    "    'max_depth': round(4.879164646163974),\n",
    "    'min_data_in_leaf': round(182.6866437231196),\n",
    "    'reg_lambda': 2.57671202752054,\n",
    "    'subsample': 0.8710103634646746\n",
    "    \n",
    "}"
   ]
  },
  {
   "cell_type": "code",
   "execution_count": 71,
   "id": "5c494d45-752e-437c-924f-019ed7bd2ed1",
   "metadata": {},
   "outputs": [],
   "source": [
    "hyperparameters = {\n",
    "    'CAT': params,\n",
    "}"
   ]
  },
  {
   "cell_type": "code",
   "execution_count": 72,
   "id": "896c475c-9f4a-429a-81fc-c326dfb80861",
   "metadata": {
    "scrolled": true
   },
   "outputs": [
    {
     "name": "stderr",
     "output_type": "stream",
     "text": [
      "Warning: path already exists! This predictor may overwrite an existing predictor! path=\"AutogluonModels/cb_8fold_cv\"\n",
      "No presets specified! To achieve strong results with AutoGluon, it is recommended to use the available presets.\n",
      "\tRecommended Presets (For more details refer to https://auto.gluon.ai/stable/tutorials/tabular/tabular-essentials.html#presets):\n",
      "\tpresets='best_quality'   : Maximize accuracy. Default time_limit=3600.\n",
      "\tpresets='high_quality'   : Strong accuracy with fast inference speed. Default time_limit=3600.\n",
      "\tpresets='good_quality'   : Good accuracy with very fast inference speed. Default time_limit=3600.\n",
      "\tpresets='medium_quality' : Fast training time, ideal for initial prototyping.\n",
      "Beginning AutoGluon training ...\n",
      "AutoGluon will save models to \"AutogluonModels/cb_8fold_cv\"\n",
      "=================== System Info ===================\n",
      "AutoGluon Version:  1.1.0\n",
      "Python Version:     3.8.0\n",
      "Operating System:   Linux\n",
      "Platform Machine:   x86_64\n",
      "Platform Version:   #1 SMP Sun Jan 19 18:21:42 CST 2020\n",
      "CPU Count:          64\n",
      "Memory Avail:       85.04 GB / 251.62 GB (33.8%)\n",
      "Disk Space Avail:   81.73 GB / 879.22 GB (9.3%)\n",
      "===================================================\n",
      "Train Data Rows:    76518\n",
      "Train Data Columns: 36\n",
      "Label Column:       Target\n",
      "Problem Type:       multiclass\n",
      "Preprocessing data ...\n",
      "Train Data Class Count: 3\n",
      "Using Feature Generators to preprocess the data ...\n",
      "Fitting AutoMLPipelineFeatureGenerator...\n",
      "\tAvailable Memory:                    87086.29 MB\n",
      "\tTrain Data (Original)  Memory Usage: 11.82 MB (0.0% of available memory)\n",
      "\tInferring data type of each feature based on column values. Set feature_metadata_in to manually specify special dtypes of the features.\n",
      "\tStage 1 Generators:\n",
      "\t\tFitting AsTypeFeatureGenerator...\n",
      "\t\t\tNote: Converting 8 features to boolean dtype as they only contain 2 unique values.\n",
      "\tStage 2 Generators:\n",
      "\t\tFitting FillNaFeatureGenerator...\n",
      "\tStage 3 Generators:\n",
      "\t\tFitting IdentityFeatureGenerator...\n",
      "\t\tFitting CategoryFeatureGenerator...\n",
      "\t\t\tFitting CategoryMemoryMinimizeFeatureGenerator...\n",
      "\tStage 4 Generators:\n",
      "\t\tFitting DropUniqueFeatureGenerator...\n",
      "\tStage 5 Generators:\n",
      "\t\tFitting DropDuplicatesFeatureGenerator...\n",
      "\tTypes of features in original data (raw dtype, special dtypes):\n",
      "\t\t('category', []) : 18 | ['Marital_status', 'Application_mode', 'Application_order', 'Course', 'Daytime_evening_attendance', ...]\n",
      "\t\t('float', [])    :  7 | ['Previous_qualification_grade', 'Admission_grade', 'Curricular_units_1st_sem_grade', 'Curricular_units_2nd_sem_grade', 'Unemployment_rate', ...]\n",
      "\t\t('int', [])      : 11 | ['Age_at_enrollment', 'Curricular_units_1st_sem_credited', 'Curricular_units_1st_sem_enrolled', 'Curricular_units_1st_sem_evaluations', 'Curricular_units_1st_sem_approved', ...]\n",
      "\tTypes of features in processed data (raw dtype, special dtypes):\n",
      "\t\t('category', [])  : 10 | ['Marital_status', 'Application_mode', 'Application_order', 'Course', 'Previous_qualification', ...]\n",
      "\t\t('float', [])     :  7 | ['Previous_qualification_grade', 'Admission_grade', 'Curricular_units_1st_sem_grade', 'Curricular_units_2nd_sem_grade', 'Unemployment_rate', ...]\n",
      "\t\t('int', [])       : 11 | ['Age_at_enrollment', 'Curricular_units_1st_sem_credited', 'Curricular_units_1st_sem_enrolled', 'Curricular_units_1st_sem_evaluations', 'Curricular_units_1st_sem_approved', ...]\n",
      "\t\t('int', ['bool']) :  8 | ['Daytime_evening_attendance', 'Displaced', 'Educational_special_needs', 'Debtor', 'Tuition_fees_up_to_date', ...]\n",
      "\t0.3s = Fit runtime\n",
      "\t36 features in original data used to generate 36 features in processed data.\n",
      "\tTrain Data (Processed) Memory Usage: 11.83 MB (0.0% of available memory)\n",
      "Data preprocessing and feature engineering runtime = 0.33s ...\n",
      "AutoGluon will gauge predictive performance using evaluation metric: 'accuracy'\n",
      "\tTo change this, specify the eval_metric parameter of Predictor()\n",
      "User-specified model hyperparameters to be fit:\n",
      "{\n",
      "\t'CAT': {'objective': 'MultiClassOneVsAll', 'eval_metric': 'MultiClassOneVsAll', 'bootstrap_type': 'Bernoulli', 'colsample_bylevel': 0.40298480832888184, 'learning_rate': 0.03608281349834408, 'max_depth': 5, 'min_data_in_leaf': 183, 'reg_lambda': 2.57671202752054, 'subsample': 0.8710103634646746},\n",
      "}\n",
      "Fitting 1 L1 models ...\n",
      "Fitting model: CatBoost_BAG_L1 ...\n",
      "\tFitting 8 child models (S1F1 - S1F8) | Fitting with ParallelLocalFoldFittingStrategy (8 workers, per: cpus=8, gpus=0, memory=0.11%)\n",
      "\t0.8337\t = Validation score   (accuracy)\n",
      "\t787.78s\t = Training   runtime\n",
      "\t0.65s\t = Validation runtime\n",
      "Fitting model: WeightedEnsemble_L2 ...\n",
      "\tEnsemble Weights: {'CatBoost_BAG_L1': 1.0}\n",
      "\t0.8337\t = Validation score   (accuracy)\n",
      "\t0.01s\t = Training   runtime\n",
      "\t0.01s\t = Validation runtime\n",
      "AutoGluon training complete, total runtime = 790.05s ... Best model: \"WeightedEnsemble_L2\"\n",
      "TabularPredictor saved. To load, use: predictor = TabularPredictor.load(\"AutogluonModels/cb_8fold_cv\")\n"
     ]
    }
   ],
   "source": [
    "cb_predictor = TabularPredictor(\n",
    "    label=label,\n",
    "    problem_type='multiclass',\n",
    "    eval_metric='accuracy',\n",
    "    verbosity=2,\n",
    "    path='AutogluonModels/cb_8fold_cv',\n",
    ").fit(\n",
    "    train_df, \n",
    "    hyperparameters=hyperparameters,\n",
    "    num_bag_sets=1,\n",
    "    num_bag_folds=8,\n",
    "    num_stack_levels=0\n",
    ")"
   ]
  },
  {
   "cell_type": "code",
   "execution_count": 73,
   "id": "cd357edb-e296-4598-88e4-cb760d428356",
   "metadata": {
    "scrolled": true
   },
   "outputs": [],
   "source": [
    "lb = cb_predictor.leaderboard(extra_info=True)"
   ]
  },
  {
   "cell_type": "code",
   "execution_count": 74,
   "id": "d410b9c4-e561-417e-888b-a64ae92bf0c1",
   "metadata": {},
   "outputs": [
    {
     "data": {
      "text/html": [
       "<div>\n",
       "<style scoped>\n",
       "    .dataframe tbody tr th:only-of-type {\n",
       "        vertical-align: middle;\n",
       "    }\n",
       "\n",
       "    .dataframe tbody tr th {\n",
       "        vertical-align: top;\n",
       "    }\n",
       "\n",
       "    .dataframe thead th {\n",
       "        text-align: right;\n",
       "    }\n",
       "</style>\n",
       "<table border=\"1\" class=\"dataframe\">\n",
       "  <thead>\n",
       "    <tr style=\"text-align: right;\">\n",
       "      <th></th>\n",
       "      <th>model</th>\n",
       "      <th>score_val</th>\n",
       "      <th>eval_metric</th>\n",
       "      <th>pred_time_val</th>\n",
       "      <th>fit_time</th>\n",
       "      <th>pred_time_val_marginal</th>\n",
       "      <th>fit_time_marginal</th>\n",
       "      <th>stack_level</th>\n",
       "      <th>can_infer</th>\n",
       "      <th>fit_order</th>\n",
       "      <th>...</th>\n",
       "      <th>hyperparameters</th>\n",
       "      <th>hyperparameters_fit</th>\n",
       "      <th>ag_args_fit</th>\n",
       "      <th>features</th>\n",
       "      <th>compile_time</th>\n",
       "      <th>child_hyperparameters</th>\n",
       "      <th>child_hyperparameters_fit</th>\n",
       "      <th>child_ag_args_fit</th>\n",
       "      <th>ancestors</th>\n",
       "      <th>descendants</th>\n",
       "    </tr>\n",
       "  </thead>\n",
       "  <tbody>\n",
       "    <tr>\n",
       "      <th>0</th>\n",
       "      <td>CatBoost_BAG_L1</td>\n",
       "      <td>0.833673</td>\n",
       "      <td>accuracy</td>\n",
       "      <td>0.646154</td>\n",
       "      <td>787.784327</td>\n",
       "      <td>0.646154</td>\n",
       "      <td>787.784327</td>\n",
       "      <td>1</td>\n",
       "      <td>True</td>\n",
       "      <td>1</td>\n",
       "      <td>...</td>\n",
       "      <td>{'use_orig_features': True, 'max_base_models':...</td>\n",
       "      <td>{}</td>\n",
       "      <td>{'max_memory_usage_ratio': 1.0, 'max_time_limi...</td>\n",
       "      <td>[Scholarship_holder, Curricular_units_1st_sem_...</td>\n",
       "      <td>None</td>\n",
       "      <td>{'iterations': 10000, 'learning_rate': 0.03608...</td>\n",
       "      <td>{'iterations': 6814}</td>\n",
       "      <td>{'max_memory_usage_ratio': 1.0, 'max_time_limi...</td>\n",
       "      <td>[]</td>\n",
       "      <td>[WeightedEnsemble_L2]</td>\n",
       "    </tr>\n",
       "    <tr>\n",
       "      <th>1</th>\n",
       "      <td>WeightedEnsemble_L2</td>\n",
       "      <td>0.833673</td>\n",
       "      <td>accuracy</td>\n",
       "      <td>0.654347</td>\n",
       "      <td>787.796855</td>\n",
       "      <td>0.008193</td>\n",
       "      <td>0.012528</td>\n",
       "      <td>2</td>\n",
       "      <td>True</td>\n",
       "      <td>2</td>\n",
       "      <td>...</td>\n",
       "      <td>{'use_orig_features': False, 'max_base_models'...</td>\n",
       "      <td>{}</td>\n",
       "      <td>{'max_memory_usage_ratio': 1.0, 'max_time_limi...</td>\n",
       "      <td>[CatBoost_BAG_L1_1, CatBoost_BAG_L1_0, CatBoos...</td>\n",
       "      <td>None</td>\n",
       "      <td>{'ensemble_size': 25, 'subsample_size': 1000000}</td>\n",
       "      <td>{'ensemble_size': 1}</td>\n",
       "      <td>{'max_memory_usage_ratio': 1.0, 'max_time_limi...</td>\n",
       "      <td>[CatBoost_BAG_L1]</td>\n",
       "      <td>[]</td>\n",
       "    </tr>\n",
       "  </tbody>\n",
       "</table>\n",
       "<p>2 rows × 32 columns</p>\n",
       "</div>"
      ],
      "text/plain": [
       "                 model  score_val eval_metric  pred_time_val    fit_time  \\\n",
       "0      CatBoost_BAG_L1   0.833673    accuracy       0.646154  787.784327   \n",
       "1  WeightedEnsemble_L2   0.833673    accuracy       0.654347  787.796855   \n",
       "\n",
       "   pred_time_val_marginal  fit_time_marginal  stack_level  can_infer  \\\n",
       "0                0.646154         787.784327            1       True   \n",
       "1                0.008193           0.012528            2       True   \n",
       "\n",
       "   fit_order  ...                                    hyperparameters  \\\n",
       "0          1  ...  {'use_orig_features': True, 'max_base_models':...   \n",
       "1          2  ...  {'use_orig_features': False, 'max_base_models'...   \n",
       "\n",
       "   hyperparameters_fit                                        ag_args_fit  \\\n",
       "0                   {}  {'max_memory_usage_ratio': 1.0, 'max_time_limi...   \n",
       "1                   {}  {'max_memory_usage_ratio': 1.0, 'max_time_limi...   \n",
       "\n",
       "                                            features  compile_time  \\\n",
       "0  [Scholarship_holder, Curricular_units_1st_sem_...          None   \n",
       "1  [CatBoost_BAG_L1_1, CatBoost_BAG_L1_0, CatBoos...          None   \n",
       "\n",
       "                               child_hyperparameters  \\\n",
       "0  {'iterations': 10000, 'learning_rate': 0.03608...   \n",
       "1   {'ensemble_size': 25, 'subsample_size': 1000000}   \n",
       "\n",
       "   child_hyperparameters_fit  \\\n",
       "0       {'iterations': 6814}   \n",
       "1       {'ensemble_size': 1}   \n",
       "\n",
       "                                   child_ag_args_fit          ancestors  \\\n",
       "0  {'max_memory_usage_ratio': 1.0, 'max_time_limi...                 []   \n",
       "1  {'max_memory_usage_ratio': 1.0, 'max_time_limi...  [CatBoost_BAG_L1]   \n",
       "\n",
       "             descendants  \n",
       "0  [WeightedEnsemble_L2]  \n",
       "1                     []  \n",
       "\n",
       "[2 rows x 32 columns]"
      ]
     },
     "execution_count": 74,
     "metadata": {},
     "output_type": "execute_result"
    }
   ],
   "source": [
    "lb"
   ]
  },
  {
   "cell_type": "code",
   "execution_count": 75,
   "id": "284855b1-6f19-4172-8672-795a08203296",
   "metadata": {},
   "outputs": [
    {
     "data": {
      "text/plain": [
       "{'iterations': 10000,\n",
       " 'learning_rate': 0.03608281349834408,\n",
       " 'random_seed': 0,\n",
       " 'allow_writing_files': False,\n",
       " 'eval_metric': 'MultiClassOneVsAll',\n",
       " 'objective': 'MultiClassOneVsAll',\n",
       " 'bootstrap_type': 'Bernoulli',\n",
       " 'colsample_bylevel': 0.40298480832888184,\n",
       " 'max_depth': 5,\n",
       " 'min_data_in_leaf': 183,\n",
       " 'reg_lambda': 2.57671202752054,\n",
       " 'subsample': 0.8710103634646746}"
      ]
     },
     "execution_count": 75,
     "metadata": {},
     "output_type": "execute_result"
    }
   ],
   "source": [
    "lb.iloc[0].child_hyperparameters"
   ]
  },
  {
   "cell_type": "code",
   "execution_count": 76,
   "id": "a0aeb175-7126-473c-a3e4-1f45d640219d",
   "metadata": {},
   "outputs": [
    {
     "data": {
      "text/plain": [
       "{'iterations': 6814}"
      ]
     },
     "execution_count": 76,
     "metadata": {},
     "output_type": "execute_result"
    }
   ],
   "source": [
    "lb.iloc[0].child_hyperparameters_fit"
   ]
  },
  {
   "cell_type": "code",
   "execution_count": 98,
   "id": "56ddf459-c2e7-472a-8e23-1412674da5d8",
   "metadata": {},
   "outputs": [],
   "source": [
    "cb_pred_prob = cb_predictor.predict_proba(test_df[ori_all_feats])"
   ]
  },
  {
   "cell_type": "code",
   "execution_count": 157,
   "id": "8a188335-2720-4179-8d65-73516f4261f8",
   "metadata": {},
   "outputs": [],
   "source": [
    "cb_oof = read_pickle('AutogluonModels/cb_8fold_cv/models/CatBoost_BAG_L1/utils/oof.pkl')"
   ]
  },
  {
   "cell_type": "code",
   "execution_count": 158,
   "id": "983c42cf-d2de-4fd1-b994-b7bf98656e7c",
   "metadata": {},
   "outputs": [],
   "source": [
    "cb_oof = cb_oof['_oof_pred_proba']"
   ]
  },
  {
   "cell_type": "markdown",
   "id": "d09f2de5-2d5a-4497-8404-220cee9fbef0",
   "metadata": {},
   "source": [
    "### NN"
   ]
  },
  {
   "cell_type": "code",
   "execution_count": 78,
   "id": "c29b6ca4-8d32-4f3b-a5ba-1928c58f28f6",
   "metadata": {},
   "outputs": [],
   "source": [
    "hyperparameters = {\n",
    "    'NN_TORCH': {},\n",
    "    'FASTAI': {},\n",
    "}"
   ]
  },
  {
   "cell_type": "code",
   "execution_count": null,
   "id": "158d6afa-d641-465e-b2ee-83a56ec2b971",
   "metadata": {
    "scrolled": true
   },
   "outputs": [
    {
     "name": "stderr",
     "output_type": "stream",
     "text": [
      "No presets specified! To achieve strong results with AutoGluon, it is recommended to use the available presets.\n",
      "\tRecommended Presets (For more details refer to https://auto.gluon.ai/stable/tutorials/tabular/tabular-essentials.html#presets):\n",
      "\tpresets='best_quality'   : Maximize accuracy. Default time_limit=3600.\n",
      "\tpresets='high_quality'   : Strong accuracy with fast inference speed. Default time_limit=3600.\n",
      "\tpresets='good_quality'   : Good accuracy with very fast inference speed. Default time_limit=3600.\n",
      "\tpresets='medium_quality' : Fast training time, ideal for initial prototyping.\n",
      "Beginning AutoGluon training ...\n",
      "AutoGluon will save models to \"AutogluonModels/nn_8fold_cv\"\n",
      "=================== System Info ===================\n",
      "AutoGluon Version:  1.1.0\n",
      "Python Version:     3.8.0\n",
      "Operating System:   Linux\n",
      "Platform Machine:   x86_64\n",
      "Platform Version:   #1 SMP Sun Jan 19 18:21:42 CST 2020\n",
      "CPU Count:          64\n",
      "Memory Avail:       84.66 GB / 251.62 GB (33.6%)\n",
      "Disk Space Avail:   81.64 GB / 879.22 GB (9.3%)\n",
      "===================================================\n",
      "Train Data Rows:    76518\n",
      "Train Data Columns: 36\n",
      "Label Column:       Target\n",
      "Problem Type:       multiclass\n",
      "Preprocessing data ...\n",
      "Train Data Class Count: 3\n",
      "Using Feature Generators to preprocess the data ...\n",
      "Fitting AutoMLPipelineFeatureGenerator...\n",
      "\tAvailable Memory:                    86695.37 MB\n",
      "\tTrain Data (Original)  Memory Usage: 11.82 MB (0.0% of available memory)\n",
      "\tInferring data type of each feature based on column values. Set feature_metadata_in to manually specify special dtypes of the features.\n",
      "\tStage 1 Generators:\n",
      "\t\tFitting AsTypeFeatureGenerator...\n",
      "\t\t\tNote: Converting 8 features to boolean dtype as they only contain 2 unique values.\n",
      "\tStage 2 Generators:\n",
      "\t\tFitting FillNaFeatureGenerator...\n",
      "\tStage 3 Generators:\n",
      "\t\tFitting IdentityFeatureGenerator...\n",
      "\t\tFitting CategoryFeatureGenerator...\n",
      "\t\t\tFitting CategoryMemoryMinimizeFeatureGenerator...\n",
      "\tStage 4 Generators:\n",
      "\t\tFitting DropUniqueFeatureGenerator...\n",
      "\tStage 5 Generators:\n",
      "\t\tFitting DropDuplicatesFeatureGenerator...\n",
      "\tTypes of features in original data (raw dtype, special dtypes):\n",
      "\t\t('category', []) : 18 | ['Marital_status', 'Application_mode', 'Application_order', 'Course', 'Daytime_evening_attendance', ...]\n",
      "\t\t('float', [])    :  7 | ['Previous_qualification_grade', 'Admission_grade', 'Curricular_units_1st_sem_grade', 'Curricular_units_2nd_sem_grade', 'Unemployment_rate', ...]\n",
      "\t\t('int', [])      : 11 | ['Age_at_enrollment', 'Curricular_units_1st_sem_credited', 'Curricular_units_1st_sem_enrolled', 'Curricular_units_1st_sem_evaluations', 'Curricular_units_1st_sem_approved', ...]\n",
      "\tTypes of features in processed data (raw dtype, special dtypes):\n",
      "\t\t('category', [])  : 10 | ['Marital_status', 'Application_mode', 'Application_order', 'Course', 'Previous_qualification', ...]\n",
      "\t\t('float', [])     :  7 | ['Previous_qualification_grade', 'Admission_grade', 'Curricular_units_1st_sem_grade', 'Curricular_units_2nd_sem_grade', 'Unemployment_rate', ...]\n",
      "\t\t('int', [])       : 11 | ['Age_at_enrollment', 'Curricular_units_1st_sem_credited', 'Curricular_units_1st_sem_enrolled', 'Curricular_units_1st_sem_evaluations', 'Curricular_units_1st_sem_approved', ...]\n",
      "\t\t('int', ['bool']) :  8 | ['Daytime_evening_attendance', 'Displaced', 'Educational_special_needs', 'Debtor', 'Tuition_fees_up_to_date', ...]\n",
      "\t0.3s = Fit runtime\n",
      "\t36 features in original data used to generate 36 features in processed data.\n",
      "\tTrain Data (Processed) Memory Usage: 11.83 MB (0.0% of available memory)\n",
      "Data preprocessing and feature engineering runtime = 0.33s ...\n",
      "AutoGluon will gauge predictive performance using evaluation metric: 'accuracy'\n",
      "\tTo change this, specify the eval_metric parameter of Predictor()\n",
      "User-specified model hyperparameters to be fit:\n",
      "{\n",
      "\t'NN_TORCH': {},\n",
      "\t'FASTAI': {},\n",
      "}\n",
      "Fitting 2 L1 models ...\n",
      "Fitting model: NeuralNetFastAI_BAG_L1 ...\n",
      "\tFitting 8 child models (S1F1 - S1F8) | Fitting with ParallelLocalFoldFittingStrategy (8 workers, per: cpus=8, gpus=0, memory=0.16%)\n",
      "\t0.8272\t = Validation score   (accuracy)\n",
      "\t135.94s\t = Training   runtime\n",
      "\t1.68s\t = Validation runtime\n",
      "Fitting model: NeuralNetTorch_BAG_L1 ...\n",
      "\tFitting 8 child models (S1F1 - S1F8) | Fitting with ParallelLocalFoldFittingStrategy (8 workers, per: cpus=8, gpus=0, memory=0.09%)\n"
     ]
    }
   ],
   "source": [
    "nn_predictor = TabularPredictor(\n",
    "    label='Target',\n",
    "    problem_type='multiclass',\n",
    "    eval_metric='accuracy',\n",
    "    verbosity=2,\n",
    "    path='AutogluonModels/nn_8fold_cv',\n",
    ").fit(\n",
    "    train_df, \n",
    "    hyperparameters=hyperparameters,\n",
    "    num_bag_sets=1,\n",
    "    num_bag_folds=8,\n",
    "    num_stack_levels=0\n",
    ")"
   ]
  },
  {
   "cell_type": "code",
   "execution_count": 80,
   "id": "1b8024af-f3fa-4dc7-adff-c766f4396b8d",
   "metadata": {
    "scrolled": true
   },
   "outputs": [],
   "source": [
    "lb = nn_predictor.leaderboard(extra_info=True)"
   ]
  },
  {
   "cell_type": "code",
   "execution_count": 81,
   "id": "e56bda66-25e4-4166-9969-d2e3d0a847f5",
   "metadata": {
    "scrolled": true
   },
   "outputs": [
    {
     "data": {
      "text/html": [
       "<div>\n",
       "<style scoped>\n",
       "    .dataframe tbody tr th:only-of-type {\n",
       "        vertical-align: middle;\n",
       "    }\n",
       "\n",
       "    .dataframe tbody tr th {\n",
       "        vertical-align: top;\n",
       "    }\n",
       "\n",
       "    .dataframe thead th {\n",
       "        text-align: right;\n",
       "    }\n",
       "</style>\n",
       "<table border=\"1\" class=\"dataframe\">\n",
       "  <thead>\n",
       "    <tr style=\"text-align: right;\">\n",
       "      <th></th>\n",
       "      <th>model</th>\n",
       "      <th>score_val</th>\n",
       "      <th>eval_metric</th>\n",
       "      <th>pred_time_val</th>\n",
       "      <th>fit_time</th>\n",
       "      <th>pred_time_val_marginal</th>\n",
       "      <th>fit_time_marginal</th>\n",
       "      <th>stack_level</th>\n",
       "      <th>can_infer</th>\n",
       "      <th>fit_order</th>\n",
       "      <th>...</th>\n",
       "      <th>hyperparameters</th>\n",
       "      <th>hyperparameters_fit</th>\n",
       "      <th>ag_args_fit</th>\n",
       "      <th>features</th>\n",
       "      <th>compile_time</th>\n",
       "      <th>child_hyperparameters</th>\n",
       "      <th>child_hyperparameters_fit</th>\n",
       "      <th>child_ag_args_fit</th>\n",
       "      <th>ancestors</th>\n",
       "      <th>descendants</th>\n",
       "    </tr>\n",
       "  </thead>\n",
       "  <tbody>\n",
       "    <tr>\n",
       "      <th>0</th>\n",
       "      <td>WeightedEnsemble_L2</td>\n",
       "      <td>0.828825</td>\n",
       "      <td>accuracy</td>\n",
       "      <td>2.831940</td>\n",
       "      <td>316.603903</td>\n",
       "      <td>0.008604</td>\n",
       "      <td>0.525953</td>\n",
       "      <td>2</td>\n",
       "      <td>True</td>\n",
       "      <td>3</td>\n",
       "      <td>...</td>\n",
       "      <td>{'use_orig_features': False, 'max_base_models': 25, 'max_base_models_per_type': 5, 'save_bag_folds': True}</td>\n",
       "      <td>{}</td>\n",
       "      <td>{'max_memory_usage_ratio': 1.0, 'max_time_limit_ratio': 1.0, 'max_time_limit': None, 'min_time_limit': 0, 'valid_raw_types': None, 'valid_special_types': None, 'ignored_type_group_special': None, 'ignored_type_group_raw': None, 'get_features_kwargs': None, 'get_features_kwargs_extra': None, 'predict_1_batch_size': None, 'temperature_scalar': None, 'drop_unique': False}</td>\n",
       "      <td>[NeuralNetTorch_BAG_L1_2, NeuralNetFastAI_BAG_L1_0, NeuralNetTorch_BAG_L1_0, NeuralNetFastAI_BAG_L1_1, NeuralNetTorch_BAG_L1_1, NeuralNetFastAI_BAG_L1_2]</td>\n",
       "      <td>None</td>\n",
       "      <td>{'ensemble_size': 25, 'subsample_size': 1000000}</td>\n",
       "      <td>{'ensemble_size': 9}</td>\n",
       "      <td>{'max_memory_usage_ratio': 1.0, 'max_time_limit_ratio': 1.0, 'max_time_limit': None, 'min_time_limit': 0, 'valid_raw_types': None, 'valid_special_types': None, 'ignored_type_group_special': None, 'ignored_type_group_raw': None, 'get_features_kwargs': None, 'get_features_kwargs_extra': None, 'predict_1_batch_size': None, 'temperature_scalar': None, 'drop_unique': False}</td>\n",
       "      <td>[NeuralNetTorch_BAG_L1, NeuralNetFastAI_BAG_L1]</td>\n",
       "      <td>[]</td>\n",
       "    </tr>\n",
       "    <tr>\n",
       "      <th>1</th>\n",
       "      <td>NeuralNetFastAI_BAG_L1</td>\n",
       "      <td>0.827191</td>\n",
       "      <td>accuracy</td>\n",
       "      <td>1.675669</td>\n",
       "      <td>135.942005</td>\n",
       "      <td>1.675669</td>\n",
       "      <td>135.942005</td>\n",
       "      <td>1</td>\n",
       "      <td>True</td>\n",
       "      <td>1</td>\n",
       "      <td>...</td>\n",
       "      <td>{'use_orig_features': True, 'max_base_models': 25, 'max_base_models_per_type': 5, 'save_bag_folds': True}</td>\n",
       "      <td>{}</td>\n",
       "      <td>{'max_memory_usage_ratio': 1.0, 'max_time_limit_ratio': 1.0, 'max_time_limit': None, 'min_time_limit': 0, 'valid_raw_types': None, 'valid_special_types': None, 'ignored_type_group_special': None, 'ignored_type_group_raw': None, 'get_features_kwargs': None, 'get_features_kwargs_extra': None, 'predict_1_batch_size': None, 'temperature_scalar': None, 'drop_unique': False}</td>\n",
       "      <td>[Scholarship_holder, Curricular_units_1st_sem_credited, Curricular_units_2nd_sem_approved, Curricular_units_1st_sem_without_evaluations, Curricular_units_2nd_sem_without_evaluations, Educational_special_needs, Tuition_fees_up_to_date, Previous_qualification_grade, Debtor, Displaced, Curricular_units_1st_sem_enrolled, Application_mode, Application_order, Curricular_units_2nd_sem_credited, Curricular_units_1st_sem_evaluations, Curricular_units_2nd_sem_evaluations, Curricular_units_1st_sem_grade, Curricular_units_2nd_sem_grade, Nacionality, Course, GDP, Mother_s_qualification, Previous_qualif...</td>\n",
       "      <td>None</td>\n",
       "      <td>{'layers': None, 'emb_drop': 0.1, 'ps': 0.1, 'bs': 'auto', 'lr': 0.01, 'epochs': 'auto', 'early.stopping.min_delta': 0.0001, 'early.stopping.patience': 20, 'smoothing': 0.0}</td>\n",
       "      <td>{'epochs': 30, 'best_epoch': 9}</td>\n",
       "      <td>{'max_memory_usage_ratio': 1.0, 'max_time_limit_ratio': 1.0, 'max_time_limit': None, 'min_time_limit': 0, 'valid_raw_types': ['bool', 'int', 'float', 'category'], 'valid_special_types': None, 'ignored_type_group_special': ['text_ngram', 'text_as_category'], 'ignored_type_group_raw': None, 'get_features_kwargs': None, 'get_features_kwargs_extra': None, 'predict_1_batch_size': None, 'temperature_scalar': None}</td>\n",
       "      <td>[]</td>\n",
       "      <td>[WeightedEnsemble_L2]</td>\n",
       "    </tr>\n",
       "    <tr>\n",
       "      <th>2</th>\n",
       "      <td>NeuralNetTorch_BAG_L1</td>\n",
       "      <td>0.826799</td>\n",
       "      <td>accuracy</td>\n",
       "      <td>1.147667</td>\n",
       "      <td>180.135945</td>\n",
       "      <td>1.147667</td>\n",
       "      <td>180.135945</td>\n",
       "      <td>1</td>\n",
       "      <td>True</td>\n",
       "      <td>2</td>\n",
       "      <td>...</td>\n",
       "      <td>{'use_orig_features': True, 'max_base_models': 25, 'max_base_models_per_type': 5, 'save_bag_folds': True}</td>\n",
       "      <td>{}</td>\n",
       "      <td>{'max_memory_usage_ratio': 1.0, 'max_time_limit_ratio': 1.0, 'max_time_limit': None, 'min_time_limit': 0, 'valid_raw_types': None, 'valid_special_types': None, 'ignored_type_group_special': None, 'ignored_type_group_raw': None, 'get_features_kwargs': None, 'get_features_kwargs_extra': None, 'predict_1_batch_size': None, 'temperature_scalar': None, 'drop_unique': False}</td>\n",
       "      <td>[Scholarship_holder, Curricular_units_1st_sem_credited, Curricular_units_2nd_sem_approved, Curricular_units_1st_sem_without_evaluations, Curricular_units_2nd_sem_without_evaluations, Educational_special_needs, Tuition_fees_up_to_date, Previous_qualification_grade, Debtor, Displaced, Curricular_units_1st_sem_enrolled, Application_mode, Application_order, Curricular_units_2nd_sem_credited, Curricular_units_1st_sem_evaluations, Curricular_units_2nd_sem_evaluations, Curricular_units_1st_sem_grade, Curricular_units_2nd_sem_grade, Nacionality, Course, GDP, Mother_s_qualification, Previous_qualif...</td>\n",
       "      <td>None</td>\n",
       "      <td>{'num_epochs': 500, 'epochs_wo_improve': 20, 'activation': 'relu', 'embedding_size_factor': 1.0, 'embed_exponent': 0.56, 'max_embedding_dim': 100, 'y_range': None, 'y_range_extend': 0.05, 'dropout_prob': 0.1, 'optimizer': 'adam', 'learning_rate': 0.0003, 'weight_decay': 1e-06, 'proc.embed_min_categories': 4, 'proc.impute_strategy': 'median', 'proc.max_category_levels': 100, 'proc.skew_threshold': 0.99, 'use_ngram_features': False, 'num_layers': 4, 'hidden_size': 128, 'max_batch_size': 512, 'use_batchnorm': False, 'loss_function': 'auto'}</td>\n",
       "      <td>{'batch_size': 128, 'num_epochs': 12}</td>\n",
       "      <td>{'max_memory_usage_ratio': 1.0, 'max_time_limit_ratio': 1.0, 'max_time_limit': None, 'min_time_limit': 0, 'valid_raw_types': ['bool', 'int', 'float', 'category'], 'valid_special_types': None, 'ignored_type_group_special': ['text_ngram', 'text_as_category'], 'ignored_type_group_raw': None, 'get_features_kwargs': None, 'get_features_kwargs_extra': None, 'predict_1_batch_size': None, 'temperature_scalar': None}</td>\n",
       "      <td>[]</td>\n",
       "      <td>[WeightedEnsemble_L2]</td>\n",
       "    </tr>\n",
       "  </tbody>\n",
       "</table>\n",
       "<p>3 rows × 32 columns</p>\n",
       "</div>"
      ],
      "text/plain": [
       "                    model  score_val eval_metric  pred_time_val    fit_time  \\\n",
       "0     WeightedEnsemble_L2   0.828825    accuracy       2.831940  316.603903   \n",
       "1  NeuralNetFastAI_BAG_L1   0.827191    accuracy       1.675669  135.942005   \n",
       "2   NeuralNetTorch_BAG_L1   0.826799    accuracy       1.147667  180.135945   \n",
       "\n",
       "   pred_time_val_marginal  fit_time_marginal  stack_level  can_infer  \\\n",
       "0                0.008604           0.525953            2       True   \n",
       "1                1.675669         135.942005            1       True   \n",
       "2                1.147667         180.135945            1       True   \n",
       "\n",
       "   fit_order  ...  \\\n",
       "0          3  ...   \n",
       "1          1  ...   \n",
       "2          2  ...   \n",
       "\n",
       "                                                                                              hyperparameters  \\\n",
       "0  {'use_orig_features': False, 'max_base_models': 25, 'max_base_models_per_type': 5, 'save_bag_folds': True}   \n",
       "1   {'use_orig_features': True, 'max_base_models': 25, 'max_base_models_per_type': 5, 'save_bag_folds': True}   \n",
       "2   {'use_orig_features': True, 'max_base_models': 25, 'max_base_models_per_type': 5, 'save_bag_folds': True}   \n",
       "\n",
       "   hyperparameters_fit  \\\n",
       "0                   {}   \n",
       "1                   {}   \n",
       "2                   {}   \n",
       "\n",
       "                                                                                                                                                                                                                                                                                                                                                                           ag_args_fit  \\\n",
       "0  {'max_memory_usage_ratio': 1.0, 'max_time_limit_ratio': 1.0, 'max_time_limit': None, 'min_time_limit': 0, 'valid_raw_types': None, 'valid_special_types': None, 'ignored_type_group_special': None, 'ignored_type_group_raw': None, 'get_features_kwargs': None, 'get_features_kwargs_extra': None, 'predict_1_batch_size': None, 'temperature_scalar': None, 'drop_unique': False}   \n",
       "1  {'max_memory_usage_ratio': 1.0, 'max_time_limit_ratio': 1.0, 'max_time_limit': None, 'min_time_limit': 0, 'valid_raw_types': None, 'valid_special_types': None, 'ignored_type_group_special': None, 'ignored_type_group_raw': None, 'get_features_kwargs': None, 'get_features_kwargs_extra': None, 'predict_1_batch_size': None, 'temperature_scalar': None, 'drop_unique': False}   \n",
       "2  {'max_memory_usage_ratio': 1.0, 'max_time_limit_ratio': 1.0, 'max_time_limit': None, 'min_time_limit': 0, 'valid_raw_types': None, 'valid_special_types': None, 'ignored_type_group_special': None, 'ignored_type_group_raw': None, 'get_features_kwargs': None, 'get_features_kwargs_extra': None, 'predict_1_batch_size': None, 'temperature_scalar': None, 'drop_unique': False}   \n",
       "\n",
       "                                                                                                                                                                                                                                                                                                                                                                                                                                                                                                                                                                                                                  features  \\\n",
       "0                                                                                                                                                                                                                                                                                                                                                                                                                                                                [NeuralNetTorch_BAG_L1_2, NeuralNetFastAI_BAG_L1_0, NeuralNetTorch_BAG_L1_0, NeuralNetFastAI_BAG_L1_1, NeuralNetTorch_BAG_L1_1, NeuralNetFastAI_BAG_L1_2]   \n",
       "1  [Scholarship_holder, Curricular_units_1st_sem_credited, Curricular_units_2nd_sem_approved, Curricular_units_1st_sem_without_evaluations, Curricular_units_2nd_sem_without_evaluations, Educational_special_needs, Tuition_fees_up_to_date, Previous_qualification_grade, Debtor, Displaced, Curricular_units_1st_sem_enrolled, Application_mode, Application_order, Curricular_units_2nd_sem_credited, Curricular_units_1st_sem_evaluations, Curricular_units_2nd_sem_evaluations, Curricular_units_1st_sem_grade, Curricular_units_2nd_sem_grade, Nacionality, Course, GDP, Mother_s_qualification, Previous_qualif...   \n",
       "2  [Scholarship_holder, Curricular_units_1st_sem_credited, Curricular_units_2nd_sem_approved, Curricular_units_1st_sem_without_evaluations, Curricular_units_2nd_sem_without_evaluations, Educational_special_needs, Tuition_fees_up_to_date, Previous_qualification_grade, Debtor, Displaced, Curricular_units_1st_sem_enrolled, Application_mode, Application_order, Curricular_units_2nd_sem_credited, Curricular_units_1st_sem_evaluations, Curricular_units_2nd_sem_evaluations, Curricular_units_1st_sem_grade, Curricular_units_2nd_sem_grade, Nacionality, Course, GDP, Mother_s_qualification, Previous_qualif...   \n",
       "\n",
       "   compile_time  \\\n",
       "0          None   \n",
       "1          None   \n",
       "2          None   \n",
       "\n",
       "                                                                                                                                                                                                                                                                                                                                                                                                                                                                                                                                             child_hyperparameters  \\\n",
       "0                                                                                                                                                                                                                                                                                                                                                                                                                                                                                                                 {'ensemble_size': 25, 'subsample_size': 1000000}   \n",
       "1                                                                                                                                                                                                                                                                                                                                                                                    {'layers': None, 'emb_drop': 0.1, 'ps': 0.1, 'bs': 'auto', 'lr': 0.01, 'epochs': 'auto', 'early.stopping.min_delta': 0.0001, 'early.stopping.patience': 20, 'smoothing': 0.0}   \n",
       "2  {'num_epochs': 500, 'epochs_wo_improve': 20, 'activation': 'relu', 'embedding_size_factor': 1.0, 'embed_exponent': 0.56, 'max_embedding_dim': 100, 'y_range': None, 'y_range_extend': 0.05, 'dropout_prob': 0.1, 'optimizer': 'adam', 'learning_rate': 0.0003, 'weight_decay': 1e-06, 'proc.embed_min_categories': 4, 'proc.impute_strategy': 'median', 'proc.max_category_levels': 100, 'proc.skew_threshold': 0.99, 'use_ngram_features': False, 'num_layers': 4, 'hidden_size': 128, 'max_batch_size': 512, 'use_batchnorm': False, 'loss_function': 'auto'}   \n",
       "\n",
       "               child_hyperparameters_fit  \\\n",
       "0                   {'ensemble_size': 9}   \n",
       "1        {'epochs': 30, 'best_epoch': 9}   \n",
       "2  {'batch_size': 128, 'num_epochs': 12}   \n",
       "\n",
       "                                                                                                                                                                                                                                                                                                                                                                                                             child_ag_args_fit  \\\n",
       "0                                          {'max_memory_usage_ratio': 1.0, 'max_time_limit_ratio': 1.0, 'max_time_limit': None, 'min_time_limit': 0, 'valid_raw_types': None, 'valid_special_types': None, 'ignored_type_group_special': None, 'ignored_type_group_raw': None, 'get_features_kwargs': None, 'get_features_kwargs_extra': None, 'predict_1_batch_size': None, 'temperature_scalar': None, 'drop_unique': False}   \n",
       "1  {'max_memory_usage_ratio': 1.0, 'max_time_limit_ratio': 1.0, 'max_time_limit': None, 'min_time_limit': 0, 'valid_raw_types': ['bool', 'int', 'float', 'category'], 'valid_special_types': None, 'ignored_type_group_special': ['text_ngram', 'text_as_category'], 'ignored_type_group_raw': None, 'get_features_kwargs': None, 'get_features_kwargs_extra': None, 'predict_1_batch_size': None, 'temperature_scalar': None}   \n",
       "2  {'max_memory_usage_ratio': 1.0, 'max_time_limit_ratio': 1.0, 'max_time_limit': None, 'min_time_limit': 0, 'valid_raw_types': ['bool', 'int', 'float', 'category'], 'valid_special_types': None, 'ignored_type_group_special': ['text_ngram', 'text_as_category'], 'ignored_type_group_raw': None, 'get_features_kwargs': None, 'get_features_kwargs_extra': None, 'predict_1_batch_size': None, 'temperature_scalar': None}   \n",
       "\n",
       "                                         ancestors            descendants  \n",
       "0  [NeuralNetTorch_BAG_L1, NeuralNetFastAI_BAG_L1]                     []  \n",
       "1                                               []  [WeightedEnsemble_L2]  \n",
       "2                                               []  [WeightedEnsemble_L2]  \n",
       "\n",
       "[3 rows x 32 columns]"
      ]
     },
     "execution_count": 81,
     "metadata": {},
     "output_type": "execute_result"
    }
   ],
   "source": [
    "lb"
   ]
  },
  {
   "cell_type": "code",
   "execution_count": 99,
   "id": "48f4ad7e-8b32-4e0e-956f-40d5ba816659",
   "metadata": {},
   "outputs": [],
   "source": [
    "nn1_pred_prob = nn_predictor.predict_proba(test_df[ori_all_feats], model='NeuralNetFastAI_BAG_L1')"
   ]
  },
  {
   "cell_type": "code",
   "execution_count": 100,
   "id": "92f722b2-1f8a-41e4-b3dd-c79d65179f2d",
   "metadata": {},
   "outputs": [],
   "source": [
    "nn2_pred_prob = nn_predictor.predict_proba(test_df[ori_all_feats], model='NeuralNetTorch_BAG_L1')"
   ]
  },
  {
   "cell_type": "code",
   "execution_count": 159,
   "id": "75a9dab8-1e29-436c-abfe-507459e2a8aa",
   "metadata": {},
   "outputs": [],
   "source": [
    "nn1_oof = read_pickle('AutogluonModels/nn_8fold_cv/models/NeuralNetFastAI_BAG_L1/utils/oof.pkl')"
   ]
  },
  {
   "cell_type": "code",
   "execution_count": 160,
   "id": "569bb390-3f46-4cc7-9a75-da3629acd9c0",
   "metadata": {},
   "outputs": [],
   "source": [
    "nn1_oof = nn1_oof['_oof_pred_proba']"
   ]
  },
  {
   "cell_type": "code",
   "execution_count": 161,
   "id": "f795f4d6-5289-429b-80fe-3a9f58aed85a",
   "metadata": {},
   "outputs": [],
   "source": [
    "nn2_oof = read_pickle('AutogluonModels/nn_8fold_cv/models/NeuralNetTorch_BAG_L1/utils/oof.pkl')"
   ]
  },
  {
   "cell_type": "code",
   "execution_count": 162,
   "id": "6091f6fe-07af-402d-a258-b8846a24730c",
   "metadata": {},
   "outputs": [],
   "source": [
    "nn2_oof = nn2_oof['_oof_pred_proba']"
   ]
  },
  {
   "cell_type": "markdown",
   "id": "4e8df383-896b-4ff2-96cd-938ed3657397",
   "metadata": {},
   "source": [
    "## Ensemble"
   ]
  },
  {
   "cell_type": "code",
   "execution_count": 107,
   "id": "432dbb89-61f2-464f-8312-80409ad0190c",
   "metadata": {},
   "outputs": [],
   "source": [
    "def save_sub(pred, fname, prob=True):\n",
    "    sub_df = pd.read_csv('../input/sample_submission.csv')\n",
    "    if prob: pred = pred.values.argmax(axis=-1)\n",
    "    \n",
    "    sub_df['Target'] = pred\n",
    "    sub_df['Target'] = sub_df['Target'].map(code2label)\n",
    "\n",
    "    sub_df.to_csv(fname, index=False, header=True)\n",
    "\n",
    "    with open(fname) as f:\n",
    "        for i, line in enumerate(f):\n",
    "            print(line)\n",
    "            if i == 5: break"
   ]
  },
  {
   "cell_type": "markdown",
   "id": "aea0ab72-fea4-4fd3-831f-a867f0279075",
   "metadata": {},
   "source": [
    "### 手动做概率平均"
   ]
  },
  {
   "cell_type": "code",
   "execution_count": 110,
   "id": "486616de-2dc8-499a-a32e-ca49a1be0ca5",
   "metadata": {},
   "outputs": [],
   "source": [
    "# 前三个模型效果相当，并且显著好于后两个模型\n",
    "# plb = 0.83766\n",
    "final_pred_prob = 0.3 * xgb_pred_prob + 0.3 * lgb_pred_prob + 0.3 * cb_pred_prob + 0.05 * nn1_pred_prob + 0.05 * nn2_pred_prob"
   ]
  },
  {
   "cell_type": "code",
   "execution_count": 248,
   "id": "a1e414a9-20eb-4a96-be84-c4bb6e379ca9",
   "metadata": {},
   "outputs": [
    {
     "name": "stdout",
     "output_type": "stream",
     "text": [
      "id,Target\n",
      "\n",
      "76518,Dropout\n",
      "\n",
      "76519,Graduate\n",
      "\n",
      "76520,Graduate\n",
      "\n",
      "76521,Graduate\n",
      "\n",
      "76522,Enrolled\n",
      "\n"
     ]
    }
   ],
   "source": [
    "save_sub(final_pred_prob, 'top1_sol_prob_weight_avg4.csv')"
   ]
  },
  {
   "cell_type": "markdown",
   "id": "7cd16554-1799-41ae-be7d-0d425b446948",
   "metadata": {},
   "source": [
    "### Optuna搜索融合权重"
   ]
  },
  {
   "cell_type": "code",
   "execution_count": 254,
   "id": "32eaa5d5-b7ab-4218-8cdf-d48c14f18017",
   "metadata": {},
   "outputs": [],
   "source": [
    "import torch\n",
    "import torch.nn.functional as F\n",
    "import math"
   ]
  },
  {
   "cell_type": "code",
   "execution_count": 250,
   "id": "878fa21e-2ee3-4538-ab40-35750fe8b239",
   "metadata": {},
   "outputs": [],
   "source": [
    "def ensemble_weight_objective(trail):\n",
    "    w1 = trail.suggest_float('w1', -1.0, 1.0)\n",
    "    w2 = trail.suggest_float('w2', -1.0, 1.0)\n",
    "    w3 = trail.suggest_float('w3', -1.0, 1.0)\n",
    "    w4 = trail.suggest_float('w4', -1.0, 1.0)\n",
    "    w5 = trail.suggest_float('w5', -1.0, 1.0)\n",
    "\n",
    "    w1 = math.exp(w1)\n",
    "    w2 = math.exp(w2)\n",
    "    w3 = math.exp(w3)\n",
    "    w4 = math.exp(w4)\n",
    "    w5 = math.exp(w5)\n",
    "    w_sum = w1 + w2 + w3 + w4 + w5\n",
    "    w1 /= w_sum\n",
    "    w2 /= w_sum\n",
    "    w3 /= w_sum\n",
    "    w4 /= w_sum\n",
    "    w5 /= w_sum\n",
    "    \n",
    "    avg_prob = w1 * xgb_oof + w2 * lgb_oof + w3 * cb_oof + w4 * nn1_oof + w5 * nn2_oof\n",
    "    \n",
    "    log_prob = torch.log(torch.tensor(avg_prob))\n",
    "    target = torch.tensor(train_df[label])\n",
    "    loss = F.nll_loss(log_prob, target)\n",
    "    return loss.item()"
   ]
  },
  {
   "cell_type": "code",
   "execution_count": 251,
   "id": "4075a530-b8c6-443b-b96c-16698fad4c39",
   "metadata": {
    "scrolled": true
   },
   "outputs": [
    {
     "name": "stderr",
     "output_type": "stream",
     "text": [
      "[I 2024-07-06 22:50:12,794] A new study created in RDB with name: ensemble_weight4\n",
      "[I 2024-07-06 22:50:13,170] Trial 0 finished with value: 0.43111219739728907 and parameters: {'w1': 0.9414358306461403, 'w2': 0.13881671086437275, 'w3': -0.23846727531867717, 'w4': 0.7076566760628, 'w5': 0.031259003653632655}. Best is trial 0 with value: 0.43111219739728907.\n",
      "[I 2024-07-06 22:50:13,527] Trial 1 finished with value: 0.42995514887892355 and parameters: {'w1': 0.9008025900234129, 'w2': 0.3140728621493165, 'w3': 0.10232540582706595, 'w4': 0.2129180598093341, 'w5': -0.38122395792485664}. Best is trial 1 with value: 0.42995514887892355.\n",
      "[I 2024-07-06 22:50:13,892] Trial 2 finished with value: 0.4340189432662726 and parameters: {'w1': -0.22649841283440741, 'w2': 0.24963612251690792, 'w3': -0.9633608849717565, 'w4': 0.6028723410414962, 'w5': 0.3501297583107106}. Best is trial 1 with value: 0.42995514887892355.\n",
      "[I 2024-07-06 22:50:14,249] Trial 3 finished with value: 0.4293405844369545 and parameters: {'w1': 0.7032952267305022, 'w2': 0.3693893204146552, 'w3': 0.7720511193299886, 'w4': -0.3278144539551362, 'w5': -0.8263164939703833}. Best is trial 3 with value: 0.4293405844369545.\n",
      "[I 2024-07-06 22:50:14,605] Trial 4 finished with value: 0.43041082227684774 and parameters: {'w1': 0.8205011756744811, 'w2': 0.9134595303789892, 'w3': 0.48165672953036665, 'w4': -0.5355528030450536, 'w5': 0.4614217639530187}. Best is trial 3 with value: 0.4293405844369545.\n",
      "[I 2024-07-06 22:50:14,963] Trial 5 finished with value: 0.4317202405901224 and parameters: {'w1': 0.7432135061852734, 'w2': -0.6714862826393846, 'w3': 0.7637969297166005, 'w4': 0.007609282865001843, 'w5': 0.9382589230239498}. Best is trial 3 with value: 0.4293405844369545.\n",
      "[I 2024-07-06 22:50:15,325] Trial 6 finished with value: 0.42940949542095297 and parameters: {'w1': 0.9660938282383764, 'w2': -0.4467228554550544, 'w3': -0.17675957619357807, 'w4': -0.23833516939162225, 'w5': -0.7926582690947088}. Best is trial 3 with value: 0.4293405844369545.\n",
      "[I 2024-07-06 22:50:15,681] Trial 7 finished with value: 0.4302706198167467 and parameters: {'w1': 0.4389945792324994, 'w2': 0.7778911899872551, 'w3': 0.6996324381905012, 'w4': 0.5135528544998889, 'w5': -0.7306765282818397}. Best is trial 3 with value: 0.4293405844369545.\n",
      "[I 2024-07-06 22:50:16,045] Trial 8 finished with value: 0.4329385557995561 and parameters: {'w1': -0.6602968836141923, 'w2': 0.16207392740027604, 'w3': 0.05987818787068955, 'w4': 0.7189142610876198, 'w5': -0.6358101974773358}. Best is trial 3 with value: 0.4293405844369545.\n",
      "[I 2024-07-06 22:50:16,403] Trial 9 finished with value: 0.43039940340274174 and parameters: {'w1': -0.8953700945694036, 'w2': 0.1736201726604485, 'w3': 0.724147863900076, 'w4': -0.6167132642146567, 'w5': -0.4171222855745844}. Best is trial 3 with value: 0.4293405844369545.\n",
      "[I 2024-07-06 22:50:16,788] Trial 10 finished with value: 0.42968243736817013 and parameters: {'w1': 0.18741106776383498, 'w2': -0.9965567535479263, 'w3': -0.6813539356917924, 'w4': -0.9952990388624721, 'w5': -0.9844847353806729}. Best is trial 3 with value: 0.4293405844369545.\n",
      "[I 2024-07-06 22:50:17,169] Trial 11 finished with value: 0.4297974994510905 and parameters: {'w1': 0.3942323732118193, 'w2': -0.360444102459729, 'w3': -0.27376258994363, 'w4': -0.3253844641682369, 'w5': -0.9685175943417703}. Best is trial 3 with value: 0.4293405844369545.\n",
      "[I 2024-07-06 22:50:17,555] Trial 12 finished with value: 0.4306462022358176 and parameters: {'w1': -0.17673312365080218, 'w2': -0.23458465564579167, 'w3': 0.3604973772986163, 'w4': -0.25576644708739105, 'w5': -0.22700421850801994}. Best is trial 3 with value: 0.4293405844369545.\n",
      "[I 2024-07-06 22:50:17,940] Trial 13 finished with value: 0.42962896148114 and parameters: {'w1': 0.6587063977550185, 'w2': 0.5821464532490948, 'w3': 0.9986775313239649, 'w4': 0.16106013430410437, 'w5': -0.5935979653031925}. Best is trial 3 with value: 0.4293405844369545.\n",
      "[I 2024-07-06 22:50:18,324] Trial 14 finished with value: 0.43070898835652566 and parameters: {'w1': 0.3507270814953586, 'w2': -0.27380313145494106, 'w3': -0.3808392026145244, 'w4': -0.851954560600062, 'w5': -0.01654925484058145}. Best is trial 3 with value: 0.4293405844369545.\n",
      "[I 2024-07-06 22:50:18,711] Trial 15 finished with value: 0.4299910630033365 and parameters: {'w1': 0.0314370910425712, 'w2': -0.5763275448771897, 'w3': 0.2686633049933439, 'w4': -0.2805208439053379, 'w5': -0.7931858155735609}. Best is trial 3 with value: 0.4293405844369545.\n",
      "[I 2024-07-06 22:50:19,095] Trial 16 finished with value: 0.43039720600384435 and parameters: {'w1': 0.5738882244404752, 'w2': 0.4914037115324039, 'w3': -0.4530992450987268, 'w4': -0.5827091644805663, 'w5': -0.1104177732796432}. Best is trial 3 with value: 0.4293405844369545.\n",
      "[I 2024-07-06 22:50:19,491] Trial 17 finished with value: 0.4325920174823705 and parameters: {'w1': 0.5876827475552552, 'w2': -0.08705897610443913, 'w3': -0.09105518011903152, 'w4': 0.9459130141839425, 'w5': 0.21249536819847048}. Best is trial 3 with value: 0.4293405844369545.\n",
      "[I 2024-07-06 22:50:19,878] Trial 18 finished with value: 0.429814688702463 and parameters: {'w1': 0.9762505597805384, 'w2': -0.5464994328128894, 'w3': -0.5612117100867111, 'w4': -0.14969175563929557, 'w5': -0.4381979860970517}. Best is trial 3 with value: 0.4293405844369545.\n",
      "[I 2024-07-06 22:50:20,272] Trial 19 finished with value: 0.4339409017529913 and parameters: {'w1': 0.0881095744959626, 'w2': -0.935229648814329, 'w3': -0.08878456407842361, 'w4': 0.33021679351953204, 'w5': 0.7080321193726362}. Best is trial 3 with value: 0.4293405844369545.\n",
      "[I 2024-07-06 22:50:20,658] Trial 20 finished with value: 0.43003647212319746 and parameters: {'w1': -0.4432353441435186, 'w2': -0.050367198549754244, 'w3': 0.499826695443174, 'w4': -0.4524516715747522, 'w5': -0.9089746075838048}. Best is trial 3 with value: 0.4293405844369545.\n",
      "[I 2024-07-06 22:50:21,048] Trial 21 finished with value: 0.4295485553025917 and parameters: {'w1': 0.686192984497087, 'w2': 0.5732451258926875, 'w3': 0.9831522641844699, 'w4': 0.019894995765881274, 'w5': -0.5697815582270331}. Best is trial 3 with value: 0.4293405844369545.\n",
      "[I 2024-07-06 22:50:21,437] Trial 22 finished with value: 0.42948155851875836 and parameters: {'w1': 0.7517995568637281, 'w2': 0.5381429149228243, 'w3': 0.9740832316660828, 'w4': -0.042287036809254885, 'w5': -0.5443042568836474}. Best is trial 3 with value: 0.4293405844369545.\n",
      "[I 2024-07-06 22:50:21,822] Trial 23 finished with value: 0.4298254671629986 and parameters: {'w1': 0.2676889237368759, 'w2': 0.41226679788440845, 'w3': 0.613343282065921, 'w4': -0.06989883545968686, 'w5': -0.8082498687429738}. Best is trial 3 with value: 0.4293405844369545.\n",
      "[I 2024-07-06 22:50:22,209] Trial 24 finished with value: 0.4296483218352363 and parameters: {'w1': 0.5516561585524309, 'w2': 0.6843808677176717, 'w3': 0.821901436071272, 'w4': -0.7344063497304283, 'w5': -0.31739185906222045}. Best is trial 3 with value: 0.4293405844369545.\n",
      "[I 2024-07-06 22:50:22,594] Trial 25 finished with value: 0.4298587939458803 and parameters: {'w1': 0.7767207709803937, 'w2': 0.9873025645268307, 'w3': 0.158854489048596, 'w4': -0.4083020240194344, 'w5': -0.6648035229564888}. Best is trial 3 with value: 0.4293405844369545.\n",
      "[I 2024-07-06 22:50:22,981] Trial 26 finished with value: 0.42939102078838165 and parameters: {'w1': 0.8487256313519823, 'w2': 0.3872370588868286, 'w3': 0.8515943563987604, 'w4': -0.18218520125069163, 'w5': -0.4794596777138055}. Best is trial 3 with value: 0.4293405844369545.\n",
      "[I 2024-07-06 22:50:23,370] Trial 27 finished with value: 0.42932531551406217 and parameters: {'w1': 0.966000165677292, 'w2': 0.04667686285098238, 'w3': 0.3017628767727931, 'w4': -0.13511372135036817, 'w5': -0.8312440664114109}. Best is trial 27 with value: 0.42932531551406217.\n",
      "[I 2024-07-06 22:50:23,761] Trial 28 finished with value: 0.4302005463201969 and parameters: {'w1': 0.48509235655775074, 'w2': 0.07402711540940342, 'w3': 0.4579154317873587, 'w4': 0.14492161326287942, 'w5': -0.2423623696217353}. Best is trial 27 with value: 0.42932531551406217.\n",
      "[I 2024-07-06 22:50:24,141] Trial 29 finished with value: 0.4293897121273729 and parameters: {'w1': 0.9662610149172841, 'w2': 0.3580554083566991, 'w3': 0.26467487255953714, 'w4': -0.1815433493750797, 'w5': -0.8519756747340165}. Best is trial 27 with value: 0.42932531551406217.\n",
      "[I 2024-07-06 22:50:24,526] Trial 30 finished with value: 0.4296773849208513 and parameters: {'w1': 0.972436307696839, 'w2': 0.007065729605399274, 'w3': 0.25738753702069406, 'w4': 0.31045083287988495, 'w5': -0.8870874132310169}. Best is trial 27 with value: 0.42932531551406217.\n",
      "[I 2024-07-06 22:50:24,912] Trial 31 finished with value: 0.42938111354080116 and parameters: {'w1': 0.8487562194744243, 'w2': 0.36731031770689315, 'w3': 0.8539652927175909, 'w4': -0.15715248802251724, 'w5': -0.5135709937055424}. Best is trial 27 with value: 0.42932531551406217.\n",
      "[I 2024-07-06 22:50:25,296] Trial 32 finished with value: 0.4292912504785263 and parameters: {'w1': 0.8887556227633062, 'w2': 0.29277552405000346, 'w3': 0.5431395918151236, 'w4': -0.38291185311692344, 'w5': -0.712145590693491}. Best is trial 32 with value: 0.4292912504785263.\n",
      "[I 2024-07-06 22:50:25,681] Trial 33 finished with value: 0.42932043154968147 and parameters: {'w1': 0.8255379212120516, 'w2': 0.2691333153458432, 'w3': 0.5785128609932912, 'w4': -0.4061964079225938, 'w5': -0.6656787248126419}. Best is trial 32 with value: 0.4292912504785263.\n",
      "[I 2024-07-06 22:50:26,073] Trial 34 finished with value: 0.42940028504356703 and parameters: {'w1': 0.643665691791623, 'w2': 0.24259221250588967, 'w3': 0.5459272886739317, 'w4': -0.4405354302986634, 'w5': -0.7327680797235648}. Best is trial 32 with value: 0.4292912504785263.\n",
      "[I 2024-07-06 22:50:26,462] Trial 35 finished with value: 0.42918259723060864 and parameters: {'w1': 0.7959375548960508, 'w2': -0.10347967990411383, 'w3': 0.6264241208039512, 'w4': -0.7382765760631889, 'w5': -0.6593995011464506}. Best is trial 35 with value: 0.42918259723060864.\n",
      "[I 2024-07-06 22:50:26,848] Trial 36 finished with value: 0.4291831482387776 and parameters: {'w1': 0.8605217018828114, 'w2': -0.1975698294452382, 'w3': 0.3960380302707993, 'w4': -0.7101461952490777, 'w5': -0.6784762601847758}. Best is trial 35 with value: 0.42918259723060864.\n",
      "[I 2024-07-06 22:50:27,234] Trial 37 finished with value: 0.4298717101802241 and parameters: {'w1': 0.8186616643957064, 'w2': -0.18883716933602013, 'w3': 0.6364758814418716, 'w4': -0.7289132385421371, 'w5': 0.2055360101884527}. Best is trial 35 with value: 0.42918259723060864.\n",
      "[I 2024-07-06 22:50:27,624] Trial 38 finished with value: 0.4297953149312554 and parameters: {'w1': -0.11023150567483078, 'w2': -0.1357492483216423, 'w3': 0.4043309530567363, 'w4': -0.9218763413029792, 'w5': -0.6672946035821568}. Best is trial 35 with value: 0.42918259723060864.\n",
      "[I 2024-07-06 22:50:28,009] Trial 39 finished with value: 0.43056612707862935 and parameters: {'w1': -0.3769714733528876, 'w2': 0.23758561428832606, 'w3': 0.15968649191747514, 'w4': -0.7458937989633024, 'w5': -0.30830762758682806}. Best is trial 35 with value: 0.42918259723060864.\n",
      "[I 2024-07-06 22:50:28,394] Trial 40 finished with value: 0.4294700135792967 and parameters: {'w1': 0.8753009948754404, 'w2': -0.3159664430741083, 'w3': 0.591607182668131, 'w4': -0.6071453336458033, 'w5': -0.13263910138340762}. Best is trial 35 with value: 0.42918259723060864.\n",
      "[I 2024-07-06 22:50:28,778] Trial 41 finished with value: 0.42924986078020894 and parameters: {'w1': 0.8873448182026716, 'w2': 0.06584431618073266, 'w3': 0.3644065243237401, 'w4': -0.5127582203103596, 'w5': -0.7340533229826464}. Best is trial 35 with value: 0.42918259723060864.\n",
      "[I 2024-07-06 22:50:29,166] Trial 42 finished with value: 0.4293088818506201 and parameters: {'w1': 0.777988773067325, 'w2': 0.1475961134792304, 'w3': 0.4744309922158798, 'w4': -0.5195924714945269, 'w5': -0.6955482868065801}. Best is trial 35 with value: 0.42918259723060864.\n",
      "[I 2024-07-06 22:50:29,554] Trial 43 finished with value: 0.42929436776446417 and parameters: {'w1': 0.7367877614856305, 'w2': 0.14170989655183414, 'w3': 0.3902051299311393, 'w4': -0.8245845388010566, 'w5': -0.7153876590173291}. Best is trial 35 with value: 0.42918259723060864.\n",
      "[I 2024-07-06 22:50:29,942] Trial 44 finished with value: 0.4291790057602351 and parameters: {'w1': 0.4960435513191354, 'w2': -0.4393042798518025, 'w3': 0.38308166241641295, 'w4': -0.8790925486321934, 'w5': -0.9943237121756006}. Best is trial 44 with value: 0.4291790057602351.\n",
      "[I 2024-07-06 22:50:30,327] Trial 45 finished with value: 0.4293352362993286 and parameters: {'w1': 0.49774079048232095, 'w2': -0.4684023684578556, 'w3': 0.03180931794527331, 'w4': -0.6789769368258574, 'w5': -0.9731458579982515}. Best is trial 44 with value: 0.4291790057602351.\n",
      "[I 2024-07-06 22:50:30,719] Trial 46 finished with value: 0.42903501123573284 and parameters: {'w1': 0.8960534926465054, 'w2': -0.8008813585893948, 'w3': 0.11433898990260721, 'w4': -0.9431324672197585, 'w5': -0.9291739539394174}. Best is trial 46 with value: 0.42903501123573284.\n",
      "[I 2024-07-06 22:50:31,107] Trial 47 finished with value: 0.42903691019274676 and parameters: {'w1': 0.6520200238390128, 'w2': -0.8394850962888972, 'w3': 0.7095853792059503, 'w4': -0.9808138528605892, 'w5': -0.9885354954008436}. Best is trial 46 with value: 0.42903501123573284.\n",
      "[I 2024-07-06 22:50:31,488] Trial 48 finished with value: 0.429260424685034 and parameters: {'w1': 0.33353040410673757, 'w2': -0.7926523680124069, 'w3': 0.6953139656698575, 'w4': -0.9840243137240687, 'w5': -0.9179353820742355}. Best is trial 46 with value: 0.42903501123573284.\n",
      "[I 2024-07-06 22:50:31,877] Trial 49 finished with value: 0.4293923225284489 and parameters: {'w1': 0.19905045725528075, 'w2': -0.7785206662699794, 'w3': 0.13549000230009173, 'w4': -0.8553936956623228, 'w5': -0.9967135845424797}. Best is trial 46 with value: 0.42903501123573284.\n",
      "[I 2024-07-06 22:50:32,262] Trial 50 finished with value: 0.4292239395277562 and parameters: {'w1': 0.6296600472407481, 'w2': -0.724383189863302, 'w3': -0.04511733444922772, 'w4': -0.8898045668296957, 'w5': -0.8970888057529065}. Best is trial 46 with value: 0.42903501123573284.\n",
      "[I 2024-07-06 22:50:32,646] Trial 51 finished with value: 0.4292493169136777 and parameters: {'w1': 0.6284024197888582, 'w2': -0.706178196605359, 'w3': -0.12845219949096798, 'w4': -0.9178237022448793, 'w5': -0.8987257493002231}. Best is trial 46 with value: 0.42903501123573284.\n",
      "[I 2024-07-06 22:50:33,030] Trial 52 finished with value: 0.42922529964309947 and parameters: {'w1': 0.43591038384944486, 'w2': -0.8903216812907717, 'w3': -0.01616745219751374, 'w4': -0.9878124263435962, 'w5': -0.9995982977900005}. Best is trial 46 with value: 0.42903501123573284.\n",
      "[I 2024-07-06 22:50:33,415] Trial 53 finished with value: 0.42937450734070715 and parameters: {'w1': 0.7181126564219582, 'w2': -0.6091056888442963, 'w3': -0.3055965666853213, 'w4': -0.812734025801654, 'w5': -0.7798222794935356}. Best is trial 46 with value: 0.42903501123573284.\n",
      "[I 2024-07-06 22:50:33,808] Trial 54 finished with value: 0.429709451581901 and parameters: {'w1': 0.5910548357970554, 'w2': -0.39776901047677804, 'w3': -0.9113229101365399, 'w4': -0.6687240753731882, 'w5': -0.8985592733021346}. Best is trial 46 with value: 0.42903501123573284.\n",
      "[I 2024-07-06 22:50:34,198] Trial 55 finished with value: 0.42940051267978 and parameters: {'w1': 0.5227065161666181, 'w2': -0.5011218237809111, 'w3': 0.21395433705252564, 'w4': -0.8986381595455063, 'w5': -0.612423870142264}. Best is trial 46 with value: 0.42903501123573284.\n",
      "[I 2024-07-06 22:50:34,586] Trial 56 finished with value: 0.4329136544528082 and parameters: {'w1': 0.6833032667235572, 'w2': -0.6665889035588967, 'w3': 0.07218937844628814, 'w4': -0.7781031004466687, 'w5': 0.9774911683906198}. Best is trial 46 with value: 0.42903501123573284.\n",
      "[I 2024-07-06 22:50:34,973] Trial 57 finished with value: 0.431388609808569 and parameters: {'w1': 0.39811636766299, 'w2': -0.8437700800681223, 'w3': 0.7369463801991596, 'w4': -0.9093110898810757, 'w5': 0.663936171007447}. Best is trial 46 with value: 0.42903501123573284.\n",
      "[I 2024-07-06 22:50:35,358] Trial 58 finished with value: 0.42928484549498813 and parameters: {'w1': 0.6422305344566044, 'w2': -0.9541360294035348, 'w3': -0.026402683118526005, 'w4': -0.668662031612666, 'w5': -0.8481662795777907}. Best is trial 46 with value: 0.42903501123573284.\n",
      "[I 2024-07-06 22:50:35,749] Trial 59 finished with value: 0.430672524801264 and parameters: {'w1': -0.9615463418080983, 'w2': -0.7222158887818897, 'w3': -0.17291632622632874, 'w4': -0.995920360494473, 'w5': -0.7956753354848356}. Best is trial 46 with value: 0.42903501123573284.\n",
      "[I 2024-07-06 22:50:36,135] Trial 60 finished with value: 0.42897451650603086 and parameters: {'w1': 0.9180423291991183, 'w2': -0.3963284513665409, 'w3': 0.6741958619273674, 'w4': -0.8301595162132314, 'w5': -0.9415980578607056}. Best is trial 60 with value: 0.42897451650603086.\n",
      "[I 2024-07-06 22:50:36,526] Trial 61 finished with value: 0.4289951047007023 and parameters: {'w1': 0.923294656177185, 'w2': -0.22110925996844666, 'w3': 0.6873524239288211, 'w4': -0.8661123932734867, 'w5': -0.9371750816998263}. Best is trial 60 with value: 0.42897451650603086.\n",
      "[I 2024-07-06 22:50:36,912] Trial 62 finished with value: 0.42896842213122377 and parameters: {'w1': 0.9995182145002263, 'w2': -0.25447043479712567, 'w3': 0.6723793244947294, 'w4': -0.8109623571477825, 'w5': -0.9292827456560705}. Best is trial 62 with value: 0.42896842213122377.\n",
      "[I 2024-07-06 22:50:37,298] Trial 63 finished with value: 0.42898288536762624 and parameters: {'w1': 0.9211884856059475, 'w2': -0.30573298577337554, 'w3': 0.7967683497391141, 'w4': -0.7931678068329463, 'w5': -0.9473639000557964}. Best is trial 62 with value: 0.42896842213122377.\n",
      "[I 2024-07-06 22:50:37,686] Trial 64 finished with value: 0.42897620407038645 and parameters: {'w1': 0.9253868186745843, 'w2': -0.36690594071672555, 'w3': 0.8040061928922129, 'w4': -0.8050316771815696, 'w5': -0.9333389393001862}. Best is trial 62 with value: 0.42896842213122377.\n",
      "[I 2024-07-06 22:50:38,073] Trial 65 finished with value: 0.42899966126076644 and parameters: {'w1': 0.9331257603281344, 'w2': -0.34457804388185853, 'w3': 0.9035704781107099, 'w4': -0.5876008898338588, 'w5': -0.9331079614862986}. Best is trial 62 with value: 0.42896842213122377.\n",
      "[I 2024-07-06 22:50:38,459] Trial 66 finished with value: 0.4290017061253805 and parameters: {'w1': 0.9309409855947136, 'w2': -0.3239176770444318, 'w3': 0.8770428269184352, 'w4': -0.6061635595657926, 'w5': -0.9221086714648289}. Best is trial 62 with value: 0.42896842213122377.\n",
      "[I 2024-07-06 22:50:38,848] Trial 67 finished with value: 0.4289968443638024 and parameters: {'w1': 0.9969373082786334, 'w2': -0.31078136340091855, 'w3': 0.9159993795089351, 'w4': -0.5787173516463813, 'w5': -0.8302603503807953}. Best is trial 62 with value: 0.42896842213122377.\n",
      "[I 2024-07-06 22:50:39,240] Trial 68 finished with value: 0.4289936268520964 and parameters: {'w1': 0.9987745489997414, 'w2': -0.25270660804855205, 'w3': 0.9228999214417266, 'w4': -0.7947952788024971, 'w5': -0.7962410604982091}. Best is trial 62 with value: 0.42896842213122377.\n",
      "[I 2024-07-06 22:50:39,626] Trial 69 finished with value: 0.4289957149129176 and parameters: {'w1': 0.9962690812165492, 'w2': -0.25411414221971534, 'w3': 0.9356971026851869, 'w4': -0.8035386254848861, 'w5': -0.7926174449191365}. Best is trial 62 with value: 0.42896842213122377.\n",
      "[I 2024-07-06 22:50:40,016] Trial 70 finished with value: 0.4300979864809254 and parameters: {'w1': -0.7991913099068957, 'w2': -0.24676697017821697, 'w3': 0.7941131755438803, 'w4': -0.7923391744609474, 'w5': -0.7804155456742607}. Best is trial 62 with value: 0.42896842213122377.\n",
      "[I 2024-07-06 22:50:40,407] Trial 71 finished with value: 0.42898109842212767 and parameters: {'w1': 0.986304072956499, 'w2': -0.28230186112723504, 'w3': 0.9259518504738204, 'w4': -0.8292010662229945, 'w5': -0.8543535773443678}. Best is trial 62 with value: 0.42896842213122377.\n",
      "[I 2024-07-06 22:50:40,790] Trial 72 finished with value: 0.4290062424508634 and parameters: {'w1': 0.9220540027017751, 'w2': -0.3953450268946821, 'w3': 0.9585356578614797, 'w4': -0.8044162648577347, 'w5': -0.848791831728025}. Best is trial 62 with value: 0.42896842213122377.\n",
      "[I 2024-07-06 22:50:41,177] Trial 73 finished with value: 0.42903115824575716 and parameters: {'w1': 0.9802927805567612, 'w2': -0.17993037624688307, 'w3': 0.7846251836104158, 'w4': -0.6682243717027873, 'w5': -0.7656619170107063}. Best is trial 62 with value: 0.42896842213122377.\n",
      "[I 2024-07-06 22:50:41,564] Trial 74 finished with value: 0.42898430815671107 and parameters: {'w1': 0.9926685022369237, 'w2': -0.27827150361846476, 'w3': 0.6823547972566265, 'w4': -0.8347957091618197, 'w5': -0.8507178301575664}. Best is trial 62 with value: 0.42896842213122377.\n",
      "[I 2024-07-06 22:50:41,952] Trial 75 finished with value: 0.43098495890994276 and parameters: {'w1': 0.8134269905511554, 'w2': -0.05272397632956405, 'w3': 0.6656753883029849, 'w4': 0.9913980317586923, 'w5': -0.5659857925007601}. Best is trial 62 with value: 0.42896842213122377.\n",
      "[I 2024-07-06 22:50:42,343] Trial 76 finished with value: 0.4290243365341954 and parameters: {'w1': 0.914725960885544, 'w2': -0.13709890325828122, 'w3': 0.8282635731992665, 'w4': -0.8519202079308782, 'w5': -0.8674555824134282}. Best is trial 62 with value: 0.42896842213122377.\n",
      "[I 2024-07-06 22:50:42,732] Trial 77 finished with value: 0.4297483022819138 and parameters: {'w1': 0.7383072680882601, 'w2': -0.5249643627726902, 'w3': 0.7594536695685995, 'w4': -0.7610091486967716, 'w5': 0.10283212193854532}. Best is trial 62 with value: 0.42896842213122377.\n",
      "[I 2024-07-06 22:50:43,119] Trial 78 finished with value: 0.4300828442722643 and parameters: {'w1': 0.8468582996939543, 'w2': -0.39470784287244065, 'w3': 0.6782426241429818, 'w4': 0.6487051040272626, 'w5': -0.9413382877359191}. Best is trial 62 with value: 0.42896842213122377.\n",
      "[I 2024-07-06 22:50:43,504] Trial 79 finished with value: 0.43070202983470857 and parameters: {'w1': 0.7778719826213812, 'w2': -0.28990211917459163, 'w3': 0.8643965302648184, 'w4': 0.4940481760841525, 'w5': 0.45411378911344}. Best is trial 62 with value: 0.42896842213122377.\n",
      "[I 2024-07-06 22:50:43,891] Trial 80 finished with value: 0.43025893888450906 and parameters: {'w1': 0.9469231857975239, 'w2': -0.2076633592167853, 'w3': 0.8066255870744823, 'w4': 0.8510475124240118, 'w5': -0.8568490923451888}. Best is trial 62 with value: 0.42896842213122377.\n",
      "[I 2024-07-06 22:50:44,276] Trial 81 finished with value: 0.4290017989102861 and parameters: {'w1': 0.9977587835274881, 'w2': -0.2741967754470234, 'w3': 0.9376864649171279, 'w4': -0.8272400636149144, 'w5': -0.7528413932748129}. Best is trial 62 with value: 0.42896842213122377.\n",
      "[I 2024-07-06 22:50:44,661] Trial 82 finished with value: 0.42902634624488384 and parameters: {'w1': 0.9094743592976888, 'w2': -0.44883560926571137, 'w3': 0.9829088282274521, 'w4': -0.7169630438818974, 'w5': -0.8116919284507046}. Best is trial 62 with value: 0.42896842213122377.\n",
      "[I 2024-07-06 22:50:45,049] Trial 83 finished with value: 0.42896574163724216 and parameters: {'w1': 0.9953006323762963, 'w2': -0.22817104292223106, 'w3': 0.7405309469882605, 'w4': -0.7767245953389723, 'w5': -0.9507563232342484}. Best is trial 83 with value: 0.42896574163724216.\n",
      "[I 2024-07-06 22:50:45,437] Trial 84 finished with value: 0.42910434514486756 and parameters: {'w1': 0.8697683632250117, 'w2': -0.01184118291381292, 'w3': 0.5212197509942058, 'w4': -0.63645776703466, 'w5': -0.9485580681762328}. Best is trial 83 with value: 0.42896574163724216.\n",
      "[I 2024-07-06 22:50:45,831] Trial 85 finished with value: 0.42911919390417025 and parameters: {'w1': 0.8199221400096797, 'w2': -0.14781452800408967, 'w3': 0.7217414347822229, 'w4': -0.49007632148343067, 'w5': -0.8719771805506926}. Best is trial 83 with value: 0.42896574163724216.\n",
      "[I 2024-07-06 22:50:46,230] Trial 86 finished with value: 0.4290086980810165 and parameters: {'w1': 0.9357842628423753, 'w2': -0.09749392101124427, 'w3': 0.6385326504857144, 'w4': -0.9480689107106263, 'w5': -0.9558977002727156}. Best is trial 83 with value: 0.42896574163724216.\n",
      "[I 2024-07-06 22:50:46,630] Trial 87 finished with value: 0.42908727620690246 and parameters: {'w1': 0.8909453264918175, 'w2': -0.37429620038445477, 'w3': 0.764381472718952, 'w4': -0.7575269774895652, 'w5': -0.6334047812892705}. Best is trial 83 with value: 0.42896574163724216.\n",
      "[I 2024-07-06 22:50:47,021] Trial 88 finished with value: 0.4290802205276221 and parameters: {'w1': 0.7827546952548969, 'w2': -0.5993655408376549, 'w3': 0.8406160008080917, 'w4': -0.8621514629165133, 'w5': -0.7376432234427863}. Best is trial 83 with value: 0.42896574163724216.\n",
      "[I 2024-07-06 22:50:47,412] Trial 89 finished with value: 0.4290940477098267 and parameters: {'w1': 0.8406181902574297, 'w2': -0.22304460485667438, 'w3': 0.5635959460604362, 'w4': -0.7185762822748512, 'w5': -0.8187142564530049}. Best is trial 83 with value: 0.42896574163724216.\n",
      "[I 2024-07-06 22:50:47,801] Trial 90 finished with value: 0.428947089314004 and parameters: {'w1': 0.9985500779898115, 'w2': -0.43542634810864544, 'w3': 0.8836356230518081, 'w4': -0.9332569666952815, 'w5': -0.8854306821982334}. Best is trial 90 with value: 0.428947089314004.\n",
      "[I 2024-07-06 22:50:48,184] Trial 91 finished with value: 0.42895285514360726 and parameters: {'w1': 0.9556376929621954, 'w2': -0.42984184204669007, 'w3': 0.8891940435535117, 'w4': -0.9344083933514805, 'w5': -0.9478159919069785}. Best is trial 90 with value: 0.428947089314004.\n",
      "[I 2024-07-06 22:50:48,575] Trial 92 finished with value: 0.42894316549403494 and parameters: {'w1': 0.9981616279336161, 'w2': -0.4932815976963476, 'w3': 0.8897761082097398, 'w4': -0.9436911456862351, 'w5': -0.8816741060580354}. Best is trial 92 with value: 0.42894316549403494.\n",
      "[I 2024-07-06 22:50:48,968] Trial 93 finished with value: 0.4289410846932053 and parameters: {'w1': 0.9480663822297779, 'w2': -0.47989380098412393, 'w3': 0.8841180707596319, 'w4': -0.9304826268089982, 'w5': -0.9986395354515132}. Best is trial 93 with value: 0.4289410846932053.\n",
      "[I 2024-07-06 22:50:49,359] Trial 94 finished with value: 0.4289995352591689 and parameters: {'w1': 0.8691851419053125, 'w2': -0.5632229843978092, 'w3': 0.9952676966377941, 'w4': -0.9436807794352067, 'w5': -0.9616551079979372}. Best is trial 93 with value: 0.4289410846932053.\n",
      "[I 2024-07-06 22:50:49,749] Trial 95 finished with value: 0.4289614164562043 and parameters: {'w1': 0.9497788266603062, 'w2': -0.49425503356522116, 'w3': 0.8871848039201509, 'w4': -0.9575710233185695, 'w5': -0.8890493302799984}. Best is trial 93 with value: 0.4289410846932053.\n",
      "[I 2024-07-06 22:50:50,137] Trial 96 finished with value: 0.42907841935732965 and parameters: {'w1': 0.7120192675245975, 'w2': -0.5033178472303672, 'w3': 0.88687540311131, 'w4': -0.9480245889958772, 'w5': -0.9013348797605895}. Best is trial 93 with value: 0.4289410846932053.\n",
      "[I 2024-07-06 22:50:50,525] Trial 97 finished with value: 0.4289523280437219 and parameters: {'w1': 0.9504252464686277, 'w2': -0.63855920906754, 'w3': 0.8467534252982958, 'w4': -0.8999402512072713, 'w5': -0.8720647209146439}. Best is trial 93 with value: 0.4289410846932053.\n",
      "[I 2024-07-06 22:50:50,919] Trial 98 finished with value: 0.4289162859829801 and parameters: {'w1': 0.9481620672609219, 'w2': -0.6644223828190778, 'w3': 0.748328573559913, 'w4': -0.9081316493529, 'w5': -0.9985565562811038}. Best is trial 98 with value: 0.4289162859829801.\n",
      "[I 2024-07-06 22:50:51,315] Trial 99 finished with value: 0.4290303460698412 and parameters: {'w1': 0.7640138423718592, 'w2': -0.6259791327254564, 'w3': 0.7410021259020562, 'w4': -0.9000001879286477, 'w5': -0.8876392796858458}. Best is trial 98 with value: 0.4289162859829801.\n"
     ]
    }
   ],
   "source": [
    "pruner = optuna.pruners.MedianPruner(n_warmup_steps=5)\n",
    "study = optuna.create_study(\n",
    "    storage=\"sqlite:///db.sqlite3\",\n",
    "    study_name=\"ensemble_weight4\",\n",
    "    pruner=pruner, \n",
    "    direction=\"minimize\",\n",
    ")\n",
    "study.optimize(ensemble_weight_objective, n_trials=100)"
   ]
  },
  {
   "cell_type": "code",
   "execution_count": 241,
   "id": "0611abb1-0eee-48d5-bc6e-c300b38d9795",
   "metadata": {},
   "outputs": [
    {
     "data": {
      "text/plain": [
       "0.4289618731613974"
      ]
     },
     "execution_count": 241,
     "metadata": {},
     "output_type": "execute_result"
    }
   ],
   "source": [
    "study.best_value"
   ]
  },
  {
   "cell_type": "code",
   "execution_count": 242,
   "id": "76df5060-3dc7-49c8-89c3-0d29a0115a4e",
   "metadata": {},
   "outputs": [
    {
     "data": {
      "text/plain": [
       "{'w1': 0.9984407185747,\n",
       " 'w2': -0.53313679809071,\n",
       " 'w3': 0.6690364025634744,\n",
       " 'w4': -0.6247040574838945,\n",
       " 'w5': -0.8968987126036836}"
      ]
     },
     "execution_count": 242,
     "metadata": {},
     "output_type": "execute_result"
    }
   ],
   "source": [
    "study.best_params"
   ]
  },
  {
   "cell_type": "code",
   "execution_count": 243,
   "id": "54d90254-90b4-4700-be33-5ce981536833",
   "metadata": {},
   "outputs": [],
   "source": [
    "w1 = study.best_params['w1']\n",
    "w2 = study.best_params['w2']\n",
    "w3 = study.best_params['w3']\n",
    "w4 = study.best_params['w4']\n",
    "w5 = study.best_params['w5']"
   ]
  },
  {
   "cell_type": "code",
   "execution_count": 244,
   "id": "421d5f8d-5464-4ce0-8673-4ba0992e6762",
   "metadata": {},
   "outputs": [],
   "source": [
    "w1 = math.exp(w1)\n",
    "w2 = math.exp(w2)\n",
    "w3 = math.exp(w3)\n",
    "w4 = math.exp(w4)\n",
    "w5 = math.exp(w5)\n",
    "w_sum = w1 + w2 + w3 + w4 + w5\n",
    "w1 /= w_sum\n",
    "w2 /= w_sum\n",
    "w3 /= w_sum\n",
    "w4 /= w_sum\n",
    "w5 /= w_sum"
   ]
  },
  {
   "cell_type": "code",
   "execution_count": 246,
   "id": "52e223c8-d8cc-45a3-bd92-368e92a36ced",
   "metadata": {},
   "outputs": [
    {
     "data": {
      "text/plain": [
       "(0.4380026689442312,\n",
       " 0.09469370142651651,\n",
       " 0.3150781451268253,\n",
       " 0.08640799686020062,\n",
       " 0.06581748764222646)"
      ]
     },
     "execution_count": 246,
     "metadata": {},
     "output_type": "execute_result"
    }
   ],
   "source": [
    "w1, w2, w3, w4, w5"
   ]
  },
  {
   "cell_type": "code",
   "execution_count": 247,
   "id": "249d99b2-d627-4517-838c-c3f6f78ee64e",
   "metadata": {},
   "outputs": [],
   "source": [
    "# plb = 0.83746\n",
    "final_pred_prob = w1 * xgb_pred_prob + w2 * lgb_pred_prob + w3 * cb_pred_prob + w4 * nn1_pred_prob + w5 * nn2_pred_prob"
   ]
  },
  {
   "cell_type": "code",
   "execution_count": 248,
   "id": "73e75d9e-d669-4f35-963e-a4666c845947",
   "metadata": {},
   "outputs": [
    {
     "name": "stdout",
     "output_type": "stream",
     "text": [
      "id,Target\n",
      "\n",
      "76518,Dropout\n",
      "\n",
      "76519,Graduate\n",
      "\n",
      "76520,Graduate\n",
      "\n",
      "76521,Graduate\n",
      "\n",
      "76522,Enrolled\n",
      "\n"
     ]
    }
   ],
   "source": [
    "save_sub(final_pred_prob, 'top1_sol_prob_weight_avg4.csv')"
   ]
  },
  {
   "cell_type": "code",
   "execution_count": null,
   "id": "c815c7e0-9fd0-402e-8b35-903f3a58850e",
   "metadata": {},
   "outputs": [],
   "source": []
  }
 ],
 "metadata": {
  "kernelspec": {
   "display_name": "Python 3 (ipykernel)",
   "language": "python",
   "name": "python3"
  },
  "language_info": {
   "codemirror_mode": {
    "name": "ipython",
    "version": 3
   },
   "file_extension": ".py",
   "mimetype": "text/x-python",
   "name": "python",
   "nbconvert_exporter": "python",
   "pygments_lexer": "ipython3",
   "version": "3.8.0"
  }
 },
 "nbformat": 4,
 "nbformat_minor": 5
}
