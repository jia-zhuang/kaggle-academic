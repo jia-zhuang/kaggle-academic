{
 "cells": [
  {
   "cell_type": "code",
   "execution_count": 1,
   "id": "c896063e",
   "metadata": {},
   "outputs": [],
   "source": [
    "import os\n",
    "os.environ['CUDA_LAUNCH_BLOCKING'] = '1'"
   ]
  },
  {
   "cell_type": "code",
   "execution_count": 2,
   "id": "41b77b7a",
   "metadata": {},
   "outputs": [],
   "source": [
    "import gc\n",
    "\n",
    "import pandas as pd\n",
    "import numpy as np\n",
    "\n",
    "import matplotlib.pyplot as plt\n",
    "%matplotlib inline\n",
    "\n",
    "import lightgbm as lgb\n",
    "\n",
    "from sklearn.model_selection import KFold, StratifiedKFold\n",
    "from sklearn.metrics import accuracy_score\n",
    "from sklearn.model_selection import train_test_split\n",
    "from sklearn.preprocessing import LabelEncoder"
   ]
  },
  {
   "cell_type": "markdown",
   "id": "8866ea0e-bf79-4489-a89d-4d8abd5c3f8d",
   "metadata": {
    "slideshow": {
     "slide_type": ""
    },
    "tags": []
   },
   "source": [
    "## 读入数据"
   ]
  },
  {
   "cell_type": "code",
   "execution_count": 3,
   "id": "90c6d48b-c8f3-45dd-8139-f1257af023c1",
   "metadata": {},
   "outputs": [],
   "source": [
    "train_df = pd.read_csv('../input/train.csv', index_col=0)\n",
    "test_df = pd.read_csv('../input/test.csv', index_col=0)"
   ]
  },
  {
   "cell_type": "code",
   "execution_count": 4,
   "id": "f76f7100-fe21-4f02-ad6c-cc854309a245",
   "metadata": {},
   "outputs": [
    {
     "data": {
      "text/plain": [
       "(76518, 51012)"
      ]
     },
     "execution_count": 4,
     "metadata": {},
     "output_type": "execute_result"
    }
   ],
   "source": [
    "train_df.shape[0], test_df.shape[0]"
   ]
  },
  {
   "cell_type": "markdown",
   "id": "4400d880-3c9e-4e79-89ff-dd3526b65926",
   "metadata": {},
   "source": [
    "## 特征工程(简单)"
   ]
  },
  {
   "cell_type": "code",
   "execution_count": 5,
   "id": "564732fc",
   "metadata": {},
   "outputs": [],
   "source": [
    "label = 'Target'"
   ]
  },
  {
   "cell_type": "code",
   "execution_count": 6,
   "id": "1e99fd0c",
   "metadata": {},
   "outputs": [],
   "source": [
    "ori_all_feats = [col for col in train_df.columns if col != 'Target']"
   ]
  },
  {
   "cell_type": "code",
   "execution_count": 7,
   "id": "dc38c1ca",
   "metadata": {},
   "outputs": [],
   "source": [
    "ori_cat_feats = [\n",
    "    'Marital status',\n",
    "    'Application mode',\n",
    "    'Application order',\n",
    "    'Course',\n",
    "    'Daytime/evening attendance',\n",
    "    'Previous qualification',\n",
    "    'Nacionality',\n",
    "    'Mother\\'s qualification',\n",
    "    'Father\\'s qualification',\n",
    "    'Mother\\'s occupation',\n",
    "    'Father\\'s occupation',\n",
    "    'Displaced',\n",
    "    'Educational special needs',\n",
    "    'Debtor',\n",
    "    'Tuition fees up to date',\n",
    "    'Gender',\n",
    "    'Scholarship holder',\n",
    "    'International',\n",
    "]\n",
    "\n",
    "ori_num_feats = [\n",
    "    'Previous qualification (grade)',\n",
    "    'Admission grade',\n",
    "    'Age at enrollment',\n",
    "    'Curricular units 1st sem (credited)',\n",
    "    'Curricular units 1st sem (enrolled)',\n",
    "    'Curricular units 1st sem (evaluations)',\n",
    "    'Curricular units 1st sem (approved)',\n",
    "    'Curricular units 1st sem (grade)',\n",
    "    'Curricular units 1st sem (without evaluations)',\n",
    "    'Curricular units 2nd sem (credited)',\n",
    "    'Curricular units 2nd sem (enrolled)',\n",
    "    'Curricular units 2nd sem (evaluations)',\n",
    "    'Curricular units 2nd sem (approved)',\n",
    "    'Curricular units 2nd sem (grade)',\n",
    "    'Curricular units 2nd sem (without evaluations)',\n",
    "    'Unemployment rate',\n",
    "    'Inflation rate',\n",
    "    'GDP',\n",
    "]"
   ]
  },
  {
   "cell_type": "code",
   "execution_count": 8,
   "id": "8c371233",
   "metadata": {},
   "outputs": [
    {
     "data": {
      "text/plain": [
       "(36, 18, 18)"
      ]
     },
     "execution_count": 8,
     "metadata": {},
     "output_type": "execute_result"
    }
   ],
   "source": [
    "len(ori_all_feats), len(ori_cat_feats), len(ori_num_feats)"
   ]
  },
  {
   "cell_type": "code",
   "execution_count": 9,
   "id": "f1e8c3e6",
   "metadata": {},
   "outputs": [],
   "source": [
    "com_df = pd.concat([train_df, test_df], axis=0, ignore_index=False)"
   ]
  },
  {
   "cell_type": "code",
   "execution_count": 10,
   "id": "c047c685",
   "metadata": {},
   "outputs": [],
   "source": [
    "special_char = [\"'\", '/', ' ']\n",
    "def normalize_feature_name(name):\n",
    "    for c in special_char:\n",
    "        name = name.replace(c, '_')\n",
    "    name = name.replace('(', '').replace(')', '')\n",
    "    return name"
   ]
  },
  {
   "cell_type": "code",
   "execution_count": 11,
   "id": "6b2345a8",
   "metadata": {},
   "outputs": [],
   "source": [
    "ori_all_feats = [normalize_feature_name(col) for col in ori_all_feats]\n",
    "ori_cat_feats = [normalize_feature_name(col) for col in ori_cat_feats]\n",
    "ori_num_feats = [normalize_feature_name(col) for col in ori_num_feats]"
   ]
  },
  {
   "cell_type": "code",
   "execution_count": 12,
   "id": "5b9193ae",
   "metadata": {},
   "outputs": [],
   "source": [
    "com_df.columns = com_df.columns.map(normalize_feature_name)"
   ]
  },
  {
   "cell_type": "code",
   "execution_count": 13,
   "id": "b210c441",
   "metadata": {},
   "outputs": [],
   "source": [
    "for col in ori_cat_feats:\n",
    "    com_df[col] = LabelEncoder().fit_transform(com_df[col])\n",
    "\n",
    "label2code = {\n",
    "    'Graduate': 0,\n",
    "    'Enrolled': 1,\n",
    "    'Dropout': 2,\n",
    "}\n",
    "\n",
    "code2label = {v: v for k, v in label2code.items()}\n",
    "com_df['Target'] = com_df['Target'].map(label2code)"
   ]
  },
  {
   "cell_type": "code",
   "execution_count": 14,
   "id": "939d7773",
   "metadata": {},
   "outputs": [],
   "source": [
    "train_df = com_df.loc[train_df.index].copy()\n",
    "test_df = com_df.loc[test_df.index].copy()"
   ]
  },
  {
   "cell_type": "code",
   "execution_count": 15,
   "id": "d52ebdff",
   "metadata": {},
   "outputs": [],
   "source": [
    "train_df['Target'] = train_df['Target'].astype('int')"
   ]
  },
  {
   "cell_type": "code",
   "execution_count": 16,
   "id": "6e0a7720",
   "metadata": {},
   "outputs": [
    {
     "data": {
      "text/plain": [
       "147"
      ]
     },
     "execution_count": 16,
     "metadata": {},
     "output_type": "execute_result"
    }
   ],
   "source": [
    "del com_df\n",
    "gc.collect()"
   ]
  },
  {
   "cell_type": "markdown",
   "id": "b201d79c",
   "metadata": {},
   "source": [
    "## 建模"
   ]
  },
  {
   "cell_type": "markdown",
   "id": "0efe23d1",
   "metadata": {},
   "source": [
    "### 数据集划分"
   ]
  },
  {
   "cell_type": "code",
   "execution_count": 17,
   "id": "f2c8ffde",
   "metadata": {},
   "outputs": [],
   "source": [
    "trn_idx, val_idx = train_test_split(train_df.index, test_size=0.2, random_state=42)"
   ]
  },
  {
   "cell_type": "code",
   "execution_count": 18,
   "id": "717b07fc",
   "metadata": {},
   "outputs": [
    {
     "data": {
      "text/plain": [
       "(61214, 15304)"
      ]
     },
     "execution_count": 18,
     "metadata": {},
     "output_type": "execute_result"
    }
   ],
   "source": [
    "len(trn_idx), len(val_idx)"
   ]
  },
  {
   "cell_type": "markdown",
   "id": "97cf2996",
   "metadata": {},
   "source": [
    "### lgb"
   ]
  },
  {
   "cell_type": "code",
   "execution_count": 19,
   "id": "92415f24",
   "metadata": {},
   "outputs": [],
   "source": [
    "trn_data = lgb.Dataset(train_df.loc[trn_idx, ori_all_feats], train_df.loc[trn_idx, label], categorical_feature=ori_cat_feats)\n",
    "val_data = lgb.Dataset(train_df.loc[val_idx, ori_all_feats], train_df.loc[val_idx, label], categorical_feature=ori_cat_feats)"
   ]
  },
  {
   "cell_type": "code",
   "execution_count": 20,
   "id": "1d5bc620",
   "metadata": {},
   "outputs": [],
   "source": [
    "params = {\n",
    "    'num_threads': 8,\n",
    "    'learning_rate': 0.01,\n",
    "    'objective': 'multiclass',\n",
    "    'num_class': 3,\n",
    "    'num_leaves': 31,\n",
    "    'min_data_in_leaf': 20,\n",
    "    'bagging_freq': 1,\n",
    "    'bagging_fraction': 0.8,\n",
    "    'feature_fraction': 0.8,\n",
    "    'metric': 'multi_error',\n",
    "    'early_stopping_rounds': 400,\n",
    "}"
   ]
  },
  {
   "cell_type": "code",
   "execution_count": 21,
   "id": "db7ccf5a",
   "metadata": {
    "collapsed": true,
    "jupyter": {
     "outputs_hidden": true
    }
   },
   "outputs": [
    {
     "name": "stdout",
     "output_type": "stream",
     "text": [
      "[LightGBM] [Info] Auto-choosing row-wise multi-threading, the overhead of testing was 0.004085 seconds.\n",
      "You can set `force_row_wise=true` to remove the overhead.\n",
      "And if memory is not enough, you can set `force_col_wise=true`.\n",
      "[LightGBM] [Info] Total Bins 1372\n",
      "[LightGBM] [Info] Number of data points in the train set: 61214, number of used features: 36\n",
      "[LightGBM] [Info] Start training from score -0.746287\n",
      "[LightGBM] [Info] Start training from score -1.635907\n",
      "[LightGBM] [Info] Start training from score -1.105333\n",
      "Training until validation scores don't improve for 400 rounds\n",
      "[200]\tvalid_0's multi_error: 0.17185\n",
      "[400]\tvalid_0's multi_error: 0.167603\n",
      "[600]\tvalid_0's multi_error: 0.16597\n",
      "[800]\tvalid_0's multi_error: 0.166427\n",
      "[1000]\tvalid_0's multi_error: 0.165447\n",
      "[1200]\tvalid_0's multi_error: 0.165316\n",
      "[1400]\tvalid_0's multi_error: 0.16499\n",
      "Early stopping, best iteration is:\n",
      "[1065]\tvalid_0's multi_error: 0.164467\n"
     ]
    }
   ],
   "source": [
    "model = lgb.train(params, trn_data, 10000, valid_sets=val_data, callbacks=[lgb.log_evaluation(200)])"
   ]
  },
  {
   "cell_type": "code",
   "execution_count": 22,
   "id": "71e0ed60",
   "metadata": {},
   "outputs": [],
   "source": [
    "oof = model.predict(train_df.loc[val_idx, ori_all_feats], num_iteration=model.best_iteration)"
   ]
  },
  {
   "cell_type": "code",
   "execution_count": 23,
   "id": "e38c8013",
   "metadata": {},
   "outputs": [
    {
     "data": {
      "text/plain": [
       "0.8355331939362258"
      ]
     },
     "execution_count": 23,
     "metadata": {},
     "output_type": "execute_result"
    }
   ],
   "source": [
    "accuracy_score(train_df.loc[val_idx, label], oof.argmax(axis=-1))"
   ]
  },
  {
   "cell_type": "markdown",
   "id": "5e73ae63",
   "metadata": {},
   "source": [
    "### NN"
   ]
  },
  {
   "cell_type": "code",
   "execution_count": 24,
   "id": "1f4fa718",
   "metadata": {},
   "outputs": [],
   "source": [
    "import torch\n",
    "import torch.nn as nn\n",
    "import torch.nn.functional as F\n",
    "import torch.optim as optim"
   ]
  },
  {
   "cell_type": "markdown",
   "id": "13915361",
   "metadata": {},
   "source": [
    "#### 网络搭建"
   ]
  },
  {
   "cell_type": "code",
   "execution_count": 78,
   "id": "0ff7b5fc",
   "metadata": {},
   "outputs": [],
   "source": [
    "class SimpleClassificationNet(nn.Module):\n",
    "    def __init__(self, embedding_sizes, num_numeric_features, output_size, hidden_layers):\n",
    "        '''\n",
    "        embedding_sizes: [(num_cat1, emb_size1), ...]\n",
    "        num_numeric_features: integer\n",
    "        output_size: integer\n",
    "        hidden_layers: list of integer\n",
    "        '''\n",
    "        super().__init__()\n",
    "        self.embeddings = nn.ModuleList([\n",
    "            nn.Embedding(num_cat, size) for num_cat, size in embedding_sizes\n",
    "        ])\n",
    "        num_embeddings_out = sum(e.embedding_dim for e in self.embeddings)\n",
    "        \n",
    "        self.fc_layers = nn.Sequential()\n",
    "        input_size = num_numeric_features + num_embeddings_out\n",
    "        for i, hidden_size in enumerate(hidden_layers):\n",
    "            self.fc_layers.add_module(f'fc{i}', nn.Linear(input_size, hidden_size))\n",
    "            self.fc_layers.add_module(f'relu{i}', nn.ReLU())\n",
    "            input_size = hidden_size\n",
    "        \n",
    "        self.output_layer = nn.Linear(input_size, output_size)\n",
    "    \n",
    "    def forward(self, x_numeric, x_categorical):\n",
    "        embeddings = [embedding(cat) for embedding, cat in zip(self.embeddings, x_categorical)]\n",
    "        x_embedding = torch.cat(embeddings, 1)\n",
    "        x = torch.cat((x_embedding, x_numeric), 1)\n",
    "        x = self.fc_layers(x)\n",
    "        x = self.output_layer(x)\n",
    "        return x"
   ]
  },
  {
   "cell_type": "code",
   "execution_count": 26,
   "id": "13c23827",
   "metadata": {},
   "outputs": [],
   "source": [
    "embedding_sizes = [ (train_df[col].max() + 1, 4) for col in ori_cat_feats]"
   ]
  },
  {
   "cell_type": "code",
   "execution_count": 27,
   "id": "e4e78f82",
   "metadata": {
    "collapsed": true,
    "jupyter": {
     "outputs_hidden": true
    }
   },
   "outputs": [
    {
     "data": {
      "text/plain": [
       "[(6, 4),\n",
       " (24, 4),\n",
       " (8, 4),\n",
       " (23, 4),\n",
       " (2, 4),\n",
       " (22, 4),\n",
       " (19, 4),\n",
       " (37, 4),\n",
       " (41, 4),\n",
       " (45, 4),\n",
       " (58, 4),\n",
       " (2, 4),\n",
       " (2, 4),\n",
       " (2, 4),\n",
       " (2, 4),\n",
       " (2, 4),\n",
       " (2, 4),\n",
       " (2, 4)]"
      ]
     },
     "execution_count": 27,
     "metadata": {},
     "output_type": "execute_result"
    }
   ],
   "source": [
    "embedding_sizes"
   ]
  },
  {
   "cell_type": "code",
   "execution_count": 28,
   "id": "6d263e3f",
   "metadata": {},
   "outputs": [],
   "source": [
    "num_numeric_features = len(ori_num_feats)\n",
    "\n",
    "output_size = 3    # 三分类\n",
    "\n",
    "hidden_layers = [32, 16]    # 两层隐藏层\n",
    "\n",
    "model = SimpleClassificationNet(embedding_sizes, num_numeric_features, output_size, hidden_layers)"
   ]
  },
  {
   "cell_type": "code",
   "execution_count": 29,
   "id": "1051a5a3",
   "metadata": {},
   "outputs": [],
   "source": [
    "# 取一部分数据做测试\n",
    "\n",
    "batch_size = 8\n",
    "x_numeric = torch.tensor(train_df[ori_num_feats].values[:batch_size], dtype=torch.float32)\n",
    "x_categorical = torch.tensor(train_df[ori_cat_feats].values[:batch_size].transpose(1, 0), dtype=torch.long)"
   ]
  },
  {
   "cell_type": "code",
   "execution_count": 30,
   "id": "8b08fe08",
   "metadata": {},
   "outputs": [
    {
     "data": {
      "text/plain": [
       "(torch.Size([8, 18]), torch.Size([18, 8]))"
      ]
     },
     "execution_count": 30,
     "metadata": {},
     "output_type": "execute_result"
    }
   ],
   "source": [
    "x_numeric.size(), x_categorical.size()"
   ]
  },
  {
   "cell_type": "code",
   "execution_count": 31,
   "id": "65bb21b6",
   "metadata": {
    "scrolled": true
   },
   "outputs": [],
   "source": [
    "output = model(x_numeric, x_categorical)"
   ]
  },
  {
   "cell_type": "code",
   "execution_count": 32,
   "id": "8922d4cf",
   "metadata": {
    "scrolled": true
   },
   "outputs": [
    {
     "data": {
      "text/plain": [
       "tensor([[-0.9355,  0.6953,  0.3426],\n",
       "        [-1.1224,  0.5347,  0.2520],\n",
       "        [-1.4353,  0.7745,  0.4648],\n",
       "        [-1.0731,  0.7390,  0.3499],\n",
       "        [-1.1119,  0.7090,  0.3302],\n",
       "        [-1.2747,  0.2756,  0.2537],\n",
       "        [-1.0745,  0.6497,  0.3320],\n",
       "        [-0.9979,  0.7599,  0.3909]], grad_fn=<AddmmBackward0>)"
      ]
     },
     "execution_count": 32,
     "metadata": {},
     "output_type": "execute_result"
    }
   ],
   "source": [
    "output"
   ]
  },
  {
   "cell_type": "markdown",
   "id": "7949b4b4",
   "metadata": {},
   "source": [
    "#### dataloader"
   ]
  },
  {
   "cell_type": "code",
   "execution_count": 33,
   "id": "f2a40cef",
   "metadata": {},
   "outputs": [],
   "source": [
    "from torch.utils.data.dataset import Dataset\n",
    "from torch.utils.data import DataLoader"
   ]
  },
  {
   "cell_type": "code",
   "execution_count": 34,
   "id": "6627b5a9",
   "metadata": {},
   "outputs": [],
   "source": [
    "class AcademicDataset(Dataset):\n",
    "    def __init__(self, train_df, numeric_feats, categorical_feats, trn_idx, val_idx, mode):\n",
    "        target_idx = trn_idx if mode == 'train' else val_idx\n",
    "        self.numeric_data = train_df.loc[target_idx, numeric_feats].values\n",
    "        self.categorical_data = train_df.loc[target_idx, categorical_feats].values\n",
    "        self.target = train_df.loc[target_idx, 'Target'].values\n",
    "        \n",
    "    \n",
    "    def __len__(self):\n",
    "        return self.numeric_data.shape[0]\n",
    "    \n",
    "    def __getitem__(self, i):\n",
    "        return {\n",
    "            'x_numeric': self.numeric_data[i],\n",
    "            'x_categorical': self.categorical_data[i],\n",
    "            'y': self.target[i],\n",
    "        }"
   ]
  },
  {
   "cell_type": "code",
   "execution_count": 35,
   "id": "16aa1ba8",
   "metadata": {},
   "outputs": [],
   "source": [
    "train_data = AcademicDataset(\n",
    "    train_df, \n",
    "    ori_num_feats, \n",
    "    ori_cat_feats,\n",
    "    trn_idx,\n",
    "    val_idx,\n",
    "    mode='train',\n",
    ")"
   ]
  },
  {
   "cell_type": "code",
   "execution_count": 36,
   "id": "db51c370",
   "metadata": {},
   "outputs": [],
   "source": [
    "val_data = AcademicDataset(\n",
    "    train_df, \n",
    "    ori_num_feats, \n",
    "    ori_cat_feats,\n",
    "    trn_idx,\n",
    "    val_idx,\n",
    "    mode='val',\n",
    ")"
   ]
  },
  {
   "cell_type": "code",
   "execution_count": null,
   "id": "d1fba801",
   "metadata": {},
   "outputs": [],
   "source": []
  },
  {
   "cell_type": "code",
   "execution_count": 37,
   "id": "686aeac9",
   "metadata": {},
   "outputs": [],
   "source": [
    "batch_size = 1024"
   ]
  },
  {
   "cell_type": "code",
   "execution_count": 46,
   "id": "434b606a",
   "metadata": {},
   "outputs": [],
   "source": [
    "def data_collator(features):\n",
    "    batch = {}\n",
    "    batch['x_numeric'] = torch.tensor([f['x_numeric'] for f in features], dtype=torch.float32)\n",
    "    \n",
    "    x_categorical = np.vstack([f['x_categorical'] for f in features]).transpose(1, 0)\n",
    "    batch['x_categorical'] = torch.tensor(x_categorical, dtype=torch.long)\n",
    "    \n",
    "    batch['y'] = torch.tensor([f['y'] for f in features], dtype=torch.long)\n",
    "    \n",
    "    return batch"
   ]
  },
  {
   "cell_type": "code",
   "execution_count": 47,
   "id": "ef2af38b",
   "metadata": {},
   "outputs": [],
   "source": [
    "train_loader = DataLoader(train_data, batch_size=batch_size, shuffle=True, collate_fn=data_collator)"
   ]
  },
  {
   "cell_type": "code",
   "execution_count": 48,
   "id": "3503f899",
   "metadata": {},
   "outputs": [],
   "source": [
    "val_loader = DataLoader(val_data, batch_size=batch_size, shuffle=False, collate_fn=data_collator)"
   ]
  },
  {
   "cell_type": "markdown",
   "id": "5bd3b6f3",
   "metadata": {},
   "source": [
    "#### 训练"
   ]
  },
  {
   "cell_type": "code",
   "execution_count": 79,
   "id": "8b250249",
   "metadata": {},
   "outputs": [],
   "source": [
    "model = SimpleClassificationNet(embedding_sizes, num_numeric_features, output_size, hidden_layers)"
   ]
  },
  {
   "cell_type": "code",
   "execution_count": 80,
   "id": "d3a900af",
   "metadata": {},
   "outputs": [
    {
     "data": {
      "text/plain": [
       "SimpleClassificationNet(\n",
       "  (embeddings): ModuleList(\n",
       "    (0): Embedding(6, 4)\n",
       "    (1): Embedding(24, 4)\n",
       "    (2): Embedding(8, 4)\n",
       "    (3): Embedding(23, 4)\n",
       "    (4): Embedding(2, 4)\n",
       "    (5): Embedding(22, 4)\n",
       "    (6): Embedding(19, 4)\n",
       "    (7): Embedding(37, 4)\n",
       "    (8): Embedding(41, 4)\n",
       "    (9): Embedding(45, 4)\n",
       "    (10): Embedding(58, 4)\n",
       "    (11): Embedding(2, 4)\n",
       "    (12): Embedding(2, 4)\n",
       "    (13): Embedding(2, 4)\n",
       "    (14): Embedding(2, 4)\n",
       "    (15): Embedding(2, 4)\n",
       "    (16): Embedding(2, 4)\n",
       "    (17): Embedding(2, 4)\n",
       "  )\n",
       "  (fc_layers): Sequential(\n",
       "    (fc0): Linear(in_features=90, out_features=32, bias=True)\n",
       "    (relu0): ReLU()\n",
       "    (fc1): Linear(in_features=32, out_features=16, bias=True)\n",
       "    (relu1): ReLU()\n",
       "  )\n",
       "  (output_layer): Linear(in_features=16, out_features=3, bias=True)\n",
       ")"
      ]
     },
     "execution_count": 80,
     "metadata": {},
     "output_type": "execute_result"
    }
   ],
   "source": [
    "# 设置device，优先使用GPU\n",
    "device = torch.device(\"cuda\" if torch.cuda.is_available() else \"cpu\")\n",
    "model.to(device)"
   ]
  },
  {
   "cell_type": "code",
   "execution_count": 43,
   "id": "918b7edd",
   "metadata": {},
   "outputs": [],
   "source": [
    "# 定义损失函数和优化器\n",
    "criterion = nn.CrossEntropyLoss()  # 分类问题常用的交叉熵损失\n",
    "optimizer = optim.Adam(model.parameters(), lr=0.001)"
   ]
  },
  {
   "cell_type": "code",
   "execution_count": 49,
   "id": "f638b60d",
   "metadata": {
    "scrolled": true
   },
   "outputs": [
    {
     "name": "stdout",
     "output_type": "stream",
     "text": [
      "Epoch 1/200, Loss: 0.8990719646215439\n",
      "Val Acc: 0.711578672242551\n",
      "\n",
      "Epoch 2/200, Loss: 0.6185300568739573\n",
      "Val Acc: 0.7635912179822268\n",
      "\n",
      "Epoch 3/200, Loss: 0.5344246377547582\n",
      "Val Acc: 0.7952169367485624\n",
      "\n",
      "Epoch 4/200, Loss: 0.5018701995412509\n",
      "Val Acc: 0.8082854155776268\n",
      "\n",
      "Epoch 5/200, Loss: 0.49097086091836295\n",
      "Val Acc: 0.8120752744380554\n",
      "\n",
      "Epoch 6/200, Loss: 0.4831300228834152\n",
      "Val Acc: 0.8120099320439101\n",
      "\n",
      "Epoch 7/200, Loss: 0.48058765282233556\n",
      "Val Acc: 0.8141008886565604\n",
      "\n",
      "Epoch 8/200, Loss: 0.4775271366039912\n",
      "Val Acc: 0.8146889702038683\n",
      "\n",
      "Epoch 9/200, Loss: 0.47509700804948807\n",
      "Val Acc: 0.8169759539989545\n",
      "\n",
      "Epoch 10/200, Loss: 0.47472557226816814\n",
      "Val Acc: 0.8173680083638265\n",
      "\n",
      "Epoch 11/200, Loss: 0.4721707637111346\n",
      "Val Acc: 0.8191975953998955\n",
      "\n",
      "Epoch 12/200, Loss: 0.470527687172095\n",
      "Val Acc: 0.8208964976476738\n",
      "\n",
      "Epoch 13/200, Loss: 0.4701800172527631\n",
      "Val Acc: 0.8193936225823314\n",
      "\n",
      "Epoch 14/200, Loss: 0.4668114612499873\n",
      "Val Acc: 0.8222033455305803\n",
      "\n",
      "Epoch 15/200, Loss: 0.4670111358165741\n",
      "Val Acc: 0.8225953998954522\n",
      "\n",
      "Epoch 16/200, Loss: 0.4655789146820704\n",
      "Val Acc: 0.8225953998954522\n",
      "\n",
      "Epoch 17/200, Loss: 0.4652282287677129\n",
      "Val Acc: 0.8246863565081024\n",
      "\n",
      "Epoch 18/200, Loss: 0.46523971756299337\n",
      "Val Acc: 0.822987454260324\n",
      "\n",
      "Epoch 19/200, Loss: 0.46301904718081155\n",
      "Val Acc: 0.8225300575013068\n",
      "\n",
      "Epoch 20/200, Loss: 0.46288202156623204\n",
      "Val Acc: 0.825209095661265\n",
      "\n",
      "Epoch 21/200, Loss: 0.46235319624344506\n",
      "Val Acc: 0.8246863565081024\n",
      "\n",
      "Epoch 22/200, Loss: 0.46177372336387634\n",
      "Val Acc: 0.8224647151071616\n",
      "\n",
      "Epoch 23/200, Loss: 0.46219266404708226\n",
      "Val Acc: 0.8216152639832723\n",
      "\n",
      "Epoch 24/200, Loss: 0.46261749664942425\n",
      "Val Acc: 0.821353894406691\n",
      "\n",
      "Epoch 25/200, Loss: 0.4626139352718989\n",
      "Val Acc: 0.8257971772085729\n",
      "\n",
      "Epoch 26/200, Loss: 0.45977282524108887\n",
      "Val Acc: 0.8251437532671198\n",
      "\n",
      "Epoch 27/200, Loss: 0.4596442550420761\n",
      "Val Acc: 0.8240329325666492\n",
      "\n",
      "Epoch 28/200, Loss: 0.45961309870084127\n",
      "Val Acc: 0.8261892315734448\n",
      "\n",
      "Epoch 29/200, Loss: 0.4580740546186765\n",
      "Val Acc: 0.8259932043910089\n",
      "\n",
      "Epoch 30/200, Loss: 0.45822834968566895\n",
      "Val Acc: 0.8261238891792996\n",
      "\n",
      "Epoch 31/200, Loss: 0.4581802010536194\n",
      "Val Acc: 0.826646628332462\n",
      "\n",
      "Epoch 32/200, Loss: 0.4561982214450836\n",
      "Val Acc: 0.8263852587558809\n",
      "\n",
      "Epoch 33/200, Loss: 0.4579525445898374\n",
      "Val Acc: 0.825601150026137\n",
      "\n",
      "Epoch 34/200, Loss: 0.4591497545440992\n",
      "Val Acc: 0.8265159435441715\n",
      "\n",
      "Epoch 35/200, Loss: 0.4562653089563052\n",
      "Val Acc: 0.8274307370622059\n",
      "\n",
      "Epoch 36/200, Loss: 0.4568334902326266\n",
      "Val Acc: 0.8275614218504966\n",
      "\n",
      "Epoch 37/200, Loss: 0.45585292875766753\n",
      "Val Acc: 0.8257971772085729\n",
      "\n",
      "Epoch 38/200, Loss: 0.45596315066019694\n",
      "Val Acc: 0.8264506011500261\n",
      "\n",
      "Epoch 39/200, Loss: 0.4551124567786852\n",
      "Val Acc: 0.827038682697334\n",
      "\n",
      "Epoch 40/200, Loss: 0.4565299188097318\n",
      "Val Acc: 0.82723470987977\n",
      "\n",
      "Epoch 41/200, Loss: 0.45385828912258147\n",
      "Val Acc: 0.8282801881860952\n",
      "\n",
      "Epoch 42/200, Loss: 0.45255702883005144\n",
      "Val Acc: 0.8271693674856246\n",
      "\n",
      "Epoch 43/200, Loss: 0.4556640307108561\n",
      "Val Acc: 0.829260324098275\n",
      "\n",
      "Epoch 44/200, Loss: 0.45343752602736154\n",
      "Val Acc: 0.826646628332462\n",
      "\n",
      "Epoch 45/200, Loss: 0.4543402180075645\n",
      "Val Acc: 0.8269079979090433\n",
      "\n",
      "Epoch 46/200, Loss: 0.4532235915462176\n",
      "Val Acc: 0.8271040250914794\n",
      "\n",
      "Epoch 47/200, Loss: 0.4521809602777163\n",
      "Val Acc: 0.8285415577626765\n",
      "\n",
      "Epoch 48/200, Loss: 0.4520851974685987\n",
      "Val Acc: 0.8293256664924202\n",
      "\n",
      "Epoch 49/200, Loss: 0.45180981904268264\n",
      "Val Acc: 0.8278881338212232\n",
      "\n",
      "Epoch 50/200, Loss: 0.4526397903760274\n",
      "Val Acc: 0.8269733403031887\n",
      "\n",
      "Epoch 51/200, Loss: 0.45035264392693836\n",
      "Val Acc: 0.8285415577626765\n",
      "\n",
      "Epoch 52/200, Loss: 0.4507331684231758\n",
      "Val Acc: 0.8283455305802404\n",
      "\n",
      "Epoch 53/200, Loss: 0.4514231950044632\n",
      "Val Acc: 0.828868269733403\n",
      "\n",
      "Epoch 54/200, Loss: 0.4496914694706599\n",
      "Val Acc: 0.8294563512807109\n",
      "\n",
      "Epoch 55/200, Loss: 0.45022693028052646\n",
      "Val Acc: 0.8282801881860952\n",
      "\n",
      "Epoch 56/200, Loss: 0.4502008482813835\n",
      "Val Acc: 0.8282801881860952\n",
      "\n",
      "Epoch 57/200, Loss: 0.4490300660332044\n",
      "Val Acc: 0.829064296915839\n",
      "\n",
      "Epoch 58/200, Loss: 0.4498375246922175\n",
      "Val Acc: 0.8295216936748563\n",
      "\n",
      "Epoch 59/200, Loss: 0.4499434237678846\n",
      "Val Acc: 0.8293256664924202\n",
      "\n",
      "Epoch 60/200, Loss: 0.44939425140619277\n",
      "Val Acc: 0.8289989545216937\n",
      "\n",
      "Epoch 61/200, Loss: 0.4495514765381813\n",
      "Val Acc: 0.8274960794563513\n",
      "\n",
      "Epoch 62/200, Loss: 0.4487901041905085\n",
      "Val Acc: 0.829260324098275\n",
      "\n",
      "Epoch 63/200, Loss: 0.44805114964644116\n",
      "Val Acc: 0.8279534762153685\n",
      "\n",
      "Epoch 64/200, Loss: 0.4489499588807424\n",
      "Val Acc: 0.8294563512807109\n",
      "\n",
      "Epoch 65/200, Loss: 0.4487896849711736\n",
      "Val Acc: 0.8291296393099843\n",
      "\n",
      "Epoch 66/200, Loss: 0.44803643425305684\n",
      "Val Acc: 0.829260324098275\n",
      "\n",
      "Epoch 67/200, Loss: 0.44693397283554076\n",
      "Val Acc: 0.8299137480397282\n",
      "\n",
      "Epoch 68/200, Loss: 0.4483593195676804\n",
      "Val Acc: 0.8291296393099843\n",
      "\n",
      "Epoch 69/200, Loss: 0.44637551754713056\n",
      "Val Acc: 0.8291296393099843\n",
      "\n",
      "Epoch 70/200, Loss: 0.44641678432623544\n",
      "Val Acc: 0.8278227914270779\n",
      "\n",
      "Epoch 71/200, Loss: 0.4477577105164528\n",
      "Val Acc: 0.8289989545216937\n",
      "\n",
      "Epoch 72/200, Loss: 0.4473439504702886\n",
      "Val Acc: 0.8299790904338735\n",
      "\n",
      "Epoch 73/200, Loss: 0.4465760593612989\n",
      "Val Acc: 0.8296523784631469\n",
      "\n",
      "Epoch 74/200, Loss: 0.44498503804206846\n",
      "Val Acc: 0.8293910088865656\n",
      "\n",
      "Epoch 75/200, Loss: 0.445605731010437\n",
      "Val Acc: 0.8291296393099843\n",
      "\n",
      "Epoch 76/200, Loss: 0.44611908694108326\n",
      "Val Acc: 0.8293256664924202\n",
      "\n",
      "Epoch 77/200, Loss: 0.4453002154827118\n",
      "Val Acc: 0.828672242550967\n",
      "\n",
      "Epoch 78/200, Loss: 0.44430816173553467\n",
      "Val Acc: 0.8303711447987454\n",
      "\n",
      "Epoch 79/200, Loss: 0.44509465545415877\n",
      "Val Acc: 0.8295870360690015\n",
      "\n",
      "Epoch 80/200, Loss: 0.4446444158752759\n",
      "Val Acc: 0.8288029273392578\n",
      "\n",
      "Epoch 81/200, Loss: 0.444434400399526\n",
      "Val Acc: 0.8289989545216937\n",
      "\n",
      "Epoch 82/200, Loss: 0.4456207250555356\n",
      "Val Acc: 0.8298484056455828\n",
      "\n",
      "Epoch 83/200, Loss: 0.4435517777999242\n",
      "Val Acc: 0.8282801881860952\n",
      "\n",
      "Epoch 84/200, Loss: 0.44438189417123797\n",
      "Val Acc: 0.8299137480397282\n",
      "\n",
      "Epoch 85/200, Loss: 0.4454725906252861\n",
      "Val Acc: 0.8284108729743858\n",
      "\n",
      "Epoch 86/200, Loss: 0.4433445935448011\n",
      "Val Acc: 0.8280841610036592\n",
      "\n",
      "Epoch 87/200, Loss: 0.4430545950929324\n",
      "Val Acc: 0.828868269733403\n",
      "\n",
      "Epoch 88/200, Loss: 0.4449475511908531\n",
      "Val Acc: 0.8288029273392578\n",
      "\n",
      "Epoch 89/200, Loss: 0.44404848913351697\n",
      "Val Acc: 0.8296523784631469\n",
      "\n",
      "Epoch 90/200, Loss: 0.4433249185482661\n",
      "Val Acc: 0.8299790904338735\n",
      "\n",
      "Epoch 91/200, Loss: 0.44367773483196893\n",
      "Val Acc: 0.8297177208572922\n",
      "\n",
      "Epoch 92/200, Loss: 0.44355252385139465\n",
      "Val Acc: 0.8286069001568217\n",
      "\n",
      "Epoch 93/200, Loss: 0.4441297526160876\n",
      "Val Acc: 0.8293256664924202\n",
      "\n",
      "Epoch 94/200, Loss: 0.44321672270695367\n",
      "Val Acc: 0.830697856769472\n",
      "\n",
      "Epoch 95/200, Loss: 0.44297656615575154\n",
      "Val Acc: 0.8298484056455828\n",
      "\n",
      "Epoch 96/200, Loss: 0.44199414600928627\n",
      "Val Acc: 0.8301097752221641\n",
      "\n",
      "Epoch 97/200, Loss: 0.4422861988345782\n",
      "Val Acc: 0.8280841610036592\n",
      "\n",
      "Epoch 98/200, Loss: 0.4419083481033643\n",
      "Val Acc: 0.8297177208572922\n",
      "\n",
      "Epoch 99/200, Loss: 0.4427028030157089\n",
      "Val Acc: 0.8310245687401986\n",
      "\n",
      "Epoch 100/200, Loss: 0.4418872346480687\n",
      "Val Acc: 0.8314166231050706\n",
      "\n",
      "Epoch 101/200, Loss: 0.44150168895721437\n",
      "Val Acc: 0.8283455305802404\n",
      "\n",
      "Epoch 102/200, Loss: 0.44394038915634154\n",
      "Val Acc: 0.8279534762153685\n",
      "\n",
      "Epoch 103/200, Loss: 0.44222754885752996\n",
      "Val Acc: 0.8289989545216937\n",
      "\n",
      "Epoch 104/200, Loss: 0.4419808566570282\n",
      "Val Acc: 0.8287375849451124\n",
      "\n",
      "Epoch 105/200, Loss: 0.44175115823745725\n",
      "Val Acc: 0.8293256664924202\n",
      "\n",
      "Epoch 106/200, Loss: 0.4413480614622434\n",
      "Val Acc: 0.8295870360690015\n",
      "\n",
      "Epoch 107/200, Loss: 0.4441646635532379\n",
      "Val Acc: 0.8297830632514376\n",
      "\n",
      "Epoch 108/200, Loss: 0.4420886253317197\n",
      "Val Acc: 0.8288029273392578\n",
      "\n",
      "Epoch 109/200, Loss: 0.44096219142278037\n",
      "Val Acc: 0.8299790904338735\n",
      "\n",
      "Epoch 110/200, Loss: 0.4409093345204989\n",
      "Val Acc: 0.8297177208572922\n",
      "\n",
      "Epoch 111/200, Loss: 0.44037538915872576\n",
      "Val Acc: 0.8285415577626765\n",
      "\n",
      "Epoch 112/200, Loss: 0.44072286983331044\n",
      "Val Acc: 0.8283455305802404\n",
      "\n",
      "Epoch 113/200, Loss: 0.4416124150156975\n",
      "Val Acc: 0.8288029273392578\n",
      "\n",
      "Epoch 114/200, Loss: 0.44068623930215833\n",
      "Val Acc: 0.8295870360690015\n",
      "\n",
      "Epoch 115/200, Loss: 0.44058617353439333\n",
      "Val Acc: 0.8279534762153685\n",
      "\n",
      "Epoch 116/200, Loss: 0.44099760204553606\n",
      "Val Acc: 0.8284762153685311\n",
      "\n",
      "Epoch 117/200, Loss: 0.4419285198052724\n",
      "Val Acc: 0.8301751176163095\n",
      "\n",
      "Epoch 118/200, Loss: 0.4410371561845144\n",
      "Val Acc: 0.8297830632514376\n",
      "\n",
      "Epoch 119/200, Loss: 0.44130671421686807\n",
      "Val Acc: 0.8298484056455828\n",
      "\n",
      "Epoch 120/200, Loss: 0.4413188929359118\n",
      "Val Acc: 0.8296523784631469\n",
      "\n"
     ]
    },
    {
     "name": "stdout",
     "output_type": "stream",
     "text": [
      "Epoch 121/200, Loss: 0.4390380437175433\n",
      "Val Acc: 0.8284108729743858\n",
      "\n",
      "Epoch 122/200, Loss: 0.43976950893799466\n",
      "Val Acc: 0.8296523784631469\n",
      "\n",
      "Epoch 123/200, Loss: 0.44072428395350777\n",
      "Val Acc: 0.8287375849451124\n",
      "\n",
      "Epoch 124/200, Loss: 0.4406506881117821\n",
      "Val Acc: 0.8314166231050706\n",
      "\n",
      "Epoch 125/200, Loss: 0.44096287737290063\n",
      "Val Acc: 0.8302404600104548\n",
      "\n",
      "Epoch 126/200, Loss: 0.4414292598764102\n",
      "Val Acc: 0.830893883951908\n",
      "\n",
      "Epoch 127/200, Loss: 0.43966300586859386\n",
      "Val Acc: 0.828672242550967\n",
      "\n",
      "Epoch 128/200, Loss: 0.43938057621320087\n",
      "Val Acc: 0.8299790904338735\n",
      "\n",
      "Epoch 129/200, Loss: 0.4396275187532107\n",
      "Val Acc: 0.8298484056455828\n",
      "\n",
      "Epoch 130/200, Loss: 0.4390144641200701\n",
      "Val Acc: 0.8286069001568217\n",
      "\n",
      "Epoch 131/200, Loss: 0.44066202292839685\n",
      "Val Acc: 0.8297830632514376\n",
      "\n",
      "Epoch 132/200, Loss: 0.43907616237799324\n",
      "Val Acc: 0.8293256664924202\n",
      "\n",
      "Epoch 133/200, Loss: 0.4391248012582461\n",
      "Val Acc: 0.8302404600104548\n",
      "\n",
      "Epoch 134/200, Loss: 0.4389959082007408\n",
      "Val Acc: 0.8305671719811814\n",
      "\n",
      "Epoch 135/200, Loss: 0.4402263775467873\n",
      "Val Acc: 0.8307631991636174\n",
      "\n",
      "Epoch 136/200, Loss: 0.4403154715895653\n",
      "Val Acc: 0.8282148457919498\n",
      "\n",
      "Epoch 137/200, Loss: 0.43829841365416844\n",
      "Val Acc: 0.8307631991636174\n",
      "\n",
      "Epoch 138/200, Loss: 0.4409178177515666\n",
      "Val Acc: 0.8302404600104548\n",
      "\n",
      "Epoch 139/200, Loss: 0.4393240069349607\n",
      "Val Acc: 0.8278227914270779\n",
      "\n",
      "Epoch 140/200, Loss: 0.43798942218224207\n",
      "Val Acc: 0.8316779926816519\n",
      "\n",
      "Epoch 141/200, Loss: 0.44115790774424873\n",
      "Val Acc: 0.8283455305802404\n",
      "\n",
      "Epoch 142/200, Loss: 0.4398960813879967\n",
      "Val Acc: 0.8298484056455828\n",
      "\n",
      "Epoch 143/200, Loss: 0.4376953656474749\n",
      "Val Acc: 0.8303058024046001\n",
      "\n",
      "Epoch 144/200, Loss: 0.437707024315993\n",
      "Val Acc: 0.8304364871928908\n",
      "\n",
      "Epoch 145/200, Loss: 0.43783551653226216\n",
      "Val Acc: 0.8300444328280188\n",
      "\n",
      "Epoch 146/200, Loss: 0.43855784386396407\n",
      "Val Acc: 0.8277574490329326\n",
      "\n",
      "Epoch 147/200, Loss: 0.43813818544149397\n",
      "Val Acc: 0.830697856769472\n",
      "\n",
      "Epoch 148/200, Loss: 0.4395063241322835\n",
      "Val Acc: 0.8296523784631469\n",
      "\n",
      "Epoch 149/200, Loss: 0.4384115825096766\n",
      "Val Acc: 0.8310245687401986\n",
      "\n",
      "Epoch 150/200, Loss: 0.4382309565941493\n",
      "Val Acc: 0.8264506011500261\n",
      "\n",
      "Epoch 151/200, Loss: 0.4398505732417107\n",
      "Val Acc: 0.8281495033978045\n",
      "\n",
      "Epoch 152/200, Loss: 0.43979013959566754\n",
      "Val Acc: 0.8277574490329326\n",
      "\n",
      "Epoch 153/200, Loss: 0.43825084815422694\n",
      "Val Acc: 0.8285415577626765\n",
      "\n",
      "Epoch 154/200, Loss: 0.4415917247533798\n",
      "Val Acc: 0.8289336121275483\n",
      "\n",
      "Epoch 155/200, Loss: 0.43878636608521143\n",
      "Val Acc: 0.8313512807109252\n",
      "\n",
      "Epoch 156/200, Loss: 0.43855903049310047\n",
      "Val Acc: 0.8301097752221641\n",
      "\n",
      "Epoch 157/200, Loss: 0.43925632288058597\n",
      "Val Acc: 0.825013068478829\n",
      "\n",
      "Epoch 158/200, Loss: 0.43857583254575727\n",
      "Val Acc: 0.8301751176163095\n",
      "\n",
      "Epoch 159/200, Loss: 0.4371581564346949\n",
      "Val Acc: 0.8299137480397282\n",
      "\n",
      "Epoch 160/200, Loss: 0.43781497875849407\n",
      "Val Acc: 0.8289989545216937\n",
      "\n",
      "Epoch 161/200, Loss: 0.4375613326827685\n",
      "Val Acc: 0.8275614218504966\n",
      "\n",
      "Epoch 162/200, Loss: 0.4376200755437215\n",
      "Val Acc: 0.8284762153685311\n",
      "\n",
      "Epoch 163/200, Loss: 0.43836590498685835\n",
      "Val Acc: 0.8286069001568217\n",
      "\n",
      "Epoch 164/200, Loss: 0.4369807874162992\n",
      "Val Acc: 0.8286069001568217\n",
      "\n",
      "Epoch 165/200, Loss: 0.4372905572255453\n",
      "Val Acc: 0.830697856769472\n",
      "\n",
      "Epoch 166/200, Loss: 0.43994394143422444\n",
      "Val Acc: 0.8291949817041296\n",
      "\n",
      "Epoch 167/200, Loss: 0.43823913236459094\n",
      "Val Acc: 0.8282148457919498\n",
      "\n",
      "Epoch 168/200, Loss: 0.4370070939262708\n",
      "Val Acc: 0.8280841610036592\n",
      "\n",
      "Epoch 169/200, Loss: 0.43707764347394307\n",
      "Val Acc: 0.8297177208572922\n",
      "\n",
      "Epoch 170/200, Loss: 0.4368682806690534\n",
      "Val Acc: 0.829260324098275\n",
      "\n",
      "Epoch 171/200, Loss: 0.43687803198893865\n",
      "Val Acc: 0.8280841610036592\n",
      "\n",
      "Epoch 172/200, Loss: 0.4377208262681961\n",
      "Val Acc: 0.8291949817041296\n",
      "\n",
      "Epoch 173/200, Loss: 0.43621648649374645\n",
      "Val Acc: 0.8291296393099843\n",
      "\n",
      "Epoch 174/200, Loss: 0.43606788863738377\n",
      "Val Acc: 0.8299137480397282\n",
      "\n",
      "Epoch 175/200, Loss: 0.43806062688430153\n",
      "Val Acc: 0.829064296915839\n",
      "\n",
      "Epoch 176/200, Loss: 0.4367309495806694\n",
      "Val Acc: 0.8298484056455828\n",
      "\n",
      "Epoch 177/200, Loss: 0.43653711924950284\n",
      "Val Acc: 0.8304364871928908\n",
      "\n",
      "Epoch 178/200, Loss: 0.4364880268772443\n",
      "Val Acc: 0.8303058024046001\n",
      "\n",
      "Epoch 179/200, Loss: 0.4382751077413559\n",
      "Val Acc: 0.829260324098275\n",
      "\n",
      "Epoch 180/200, Loss: 0.43662237127621967\n",
      "Val Acc: 0.8285415577626765\n",
      "\n",
      "Epoch 181/200, Loss: 0.4374569018681844\n",
      "Val Acc: 0.8302404600104548\n",
      "\n",
      "Epoch 182/200, Loss: 0.4358164335290591\n",
      "Val Acc: 0.8278227914270779\n",
      "\n",
      "Epoch 183/200, Loss: 0.43667306105295817\n",
      "Val Acc: 0.8295870360690015\n",
      "\n",
      "Epoch 184/200, Loss: 0.4360678811868032\n",
      "Val Acc: 0.8267773131207528\n",
      "\n",
      "Epoch 185/200, Loss: 0.4372632841269175\n",
      "Val Acc: 0.8288029273392578\n",
      "\n",
      "Epoch 186/200, Loss: 0.43654179920752845\n",
      "Val Acc: 0.8247516989022478\n",
      "\n",
      "Epoch 187/200, Loss: 0.4369910096128782\n",
      "Val Acc: 0.8294563512807109\n",
      "\n",
      "Epoch 188/200, Loss: 0.43541867285966873\n",
      "Val Acc: 0.8295216936748563\n",
      "\n",
      "Epoch 189/200, Loss: 0.43631447702646253\n",
      "Val Acc: 0.8297830632514376\n",
      "\n",
      "Epoch 190/200, Loss: 0.43504385848840077\n",
      "Val Acc: 0.8282801881860952\n",
      "\n",
      "Epoch 191/200, Loss: 0.4364144538839658\n",
      "Val Acc: 0.8289989545216937\n",
      "\n",
      "Epoch 192/200, Loss: 0.4368462567528089\n",
      "Val Acc: 0.8287375849451124\n",
      "\n",
      "Epoch 193/200, Loss: 0.43558022330204643\n",
      "Val Acc: 0.8288029273392578\n",
      "\n",
      "Epoch 194/200, Loss: 0.43620986690123875\n",
      "Val Acc: 0.8280841610036592\n",
      "\n",
      "Epoch 195/200, Loss: 0.4365987504522006\n",
      "Val Acc: 0.8279534762153685\n",
      "\n",
      "Epoch 196/200, Loss: 0.43588148852189385\n",
      "Val Acc: 0.8294563512807109\n",
      "\n",
      "Epoch 197/200, Loss: 0.4369675179322561\n",
      "Val Acc: 0.8299790904338735\n",
      "\n",
      "Epoch 198/200, Loss: 0.4368578592936198\n",
      "Val Acc: 0.8259932043910089\n",
      "\n",
      "Epoch 199/200, Loss: 0.4363594154516856\n",
      "Val Acc: 0.8294563512807109\n",
      "\n",
      "Epoch 200/200, Loss: 0.43572297791639963\n",
      "Val Acc: 0.8295870360690015\n",
      "\n"
     ]
    }
   ],
   "source": [
    "# 设置训练的epochs\n",
    "epochs = 200\n",
    "train_loss = []\n",
    "val_acc = []\n",
    "for epoch in range(epochs):\n",
    "    model.train()  # 设置模型为训练模式\n",
    "    total_loss = 0\n",
    "    for batch in train_loader:\n",
    "        x_numeric = batch['x_numeric']\n",
    "        x_categorical = batch['x_categorical']\n",
    "        targets = batch['y']\n",
    "        \n",
    "        x_numeric = x_numeric.to(device)\n",
    "        x_categorical = [x.to(device) for x in x_categorical]\n",
    "        targets = targets.to(device)\n",
    "\n",
    "        optimizer.zero_grad()  # 清空过往梯度\n",
    "        outputs = model(x_numeric, x_categorical)  # 前向传播，获取输出\n",
    "        loss = criterion(outputs, targets)  # 计算损失\n",
    "        loss.backward()  # 反向传播，计算梯度\n",
    "        optimizer.step()  # 根据梯度更新网络参数\n",
    "\n",
    "        total_loss += loss.item()\n",
    "\n",
    "    print(f\"Epoch {epoch+1}/{epochs}, Loss: {total_loss/len(train_loader)}\")\n",
    "    train_loss.append(total_loss/len(train_loader))\n",
    "    \n",
    "    # 验证阶段，我们将计算并打印验证集上的准确率\n",
    "    model.eval()  # 设置模型为评估模式\n",
    "    all_label = []\n",
    "    all_pred = []\n",
    "    with torch.no_grad():\n",
    "        for batch in val_loader:\n",
    "            x_numeric = batch['x_numeric']\n",
    "            x_categorical = batch['x_categorical']\n",
    "            targets = batch['y']\n",
    "            all_label.append(targets.numpy())\n",
    "\n",
    "            x_numeric = x_numeric.to(device)\n",
    "            x_categorical = [x.to(device) for x in x_categorical]\n",
    "            outputs = model(x_numeric, x_categorical)\n",
    "            \n",
    "            outputs = outputs.detach().cpu().numpy()\n",
    "            all_pred.append(outputs.argmax(axis=-1))\n",
    "\n",
    "    all_label = np.concatenate(all_label)\n",
    "    all_pred = np.concatenate(all_pred)\n",
    "\n",
    "    acc = accuracy_score(all_label, all_pred)\n",
    "    val_acc.append(acc)\n",
    "\n",
    "    print(f\"Val Acc: {acc}\\n\")"
   ]
  },
  {
   "cell_type": "code",
   "execution_count": 50,
   "id": "953f78cd",
   "metadata": {
    "scrolled": true
   },
   "outputs": [
    {
     "data": {
      "text/plain": [
       "[<matplotlib.lines.Line2D at 0x7fec8e6c1290>]"
      ]
     },
     "execution_count": 50,
     "metadata": {},
     "output_type": "execute_result"
    },
    {
     "data": {
      "image/png": "[encoded data removed]",
      "text/plain": [
       "<Figure size 1440x1440 with 4 Axes>"
      ]
     },
     "metadata": {
      "needs_background": "light"
     },
     "output_type": "display_data"
    }
   ],
   "source": [
    "plt.figure(figsize=(20, 20))\n",
    "\n",
    "plt.subplot(2, 2, 1)\n",
    "plt.plot(train_loss)\n",
    "plt.title('train loss')\n",
    "\n",
    "plt.subplot(2, 2, 2)\n",
    "plt.plot(val_acc)\n",
    "plt.title('train loss')\n",
    "\n",
    "plt.subplot(2, 2, 3)\n",
    "plt.plot(train_loss[50:])\n",
    "\n",
    "plt.subplot(2, 2, 4)\n",
    "plt.plot(val_acc[50:])"
   ]
  },
  {
   "cell_type": "code",
   "execution_count": 52,
   "id": "63fdd0e0",
   "metadata": {},
   "outputs": [
    {
     "data": {
      "text/plain": [
       "0.82917712144973"
      ]
     },
     "execution_count": 52,
     "metadata": {},
     "output_type": "execute_result"
    }
   ],
   "source": [
    "np.mean(val_acc[50:])"
   ]
  },
  {
   "cell_type": "markdown",
   "id": "5aa3ff0a",
   "metadata": {},
   "source": [
    "### tabnet"
   ]
  },
  {
   "cell_type": "code",
   "execution_count": 51,
   "id": "bb232739",
   "metadata": {},
   "outputs": [],
   "source": [
    "import torch\n",
    "from pytorch_tabnet.tab_model import TabNetRegressor"
   ]
  },
  {
   "cell_type": "code",
   "execution_count": 59,
   "id": "6046b488",
   "metadata": {},
   "outputs": [],
   "source": [
    "from pytorch_tabnet.tab_model import TabNetClassifier"
   ]
  },
  {
   "cell_type": "code",
   "execution_count": 53,
   "id": "41465827",
   "metadata": {},
   "outputs": [],
   "source": [
    "cat_idxs = [i for i, c in enumerate(ori_all_feats) if c in set(ori_cat_feats)]"
   ]
  },
  {
   "cell_type": "code",
   "execution_count": 54,
   "id": "d838a819",
   "metadata": {},
   "outputs": [
    {
     "data": {
      "text/plain": [
       "[0, 1, 2, 3, 4, 5, 7, 8, 9, 10, 11, 13, 14, 15, 16, 17, 18, 20]"
      ]
     },
     "execution_count": 54,
     "metadata": {},
     "output_type": "execute_result"
    }
   ],
   "source": [
    "cat_idxs"
   ]
  },
  {
   "cell_type": "code",
   "execution_count": 55,
   "id": "cdc16dcf",
   "metadata": {},
   "outputs": [],
   "source": [
    "cat_dims = [train_df[c].max() + 1 for i, c in enumerate(ori_all_feats) if c in set(ori_cat_feats)]"
   ]
  },
  {
   "cell_type": "code",
   "execution_count": 56,
   "id": "a1d94be8",
   "metadata": {},
   "outputs": [
    {
     "data": {
      "text/plain": [
       "[6, 24, 8, 23, 2, 22, 19, 37, 41, 45, 58, 2, 2, 2, 2, 2, 2, 2]"
      ]
     },
     "execution_count": 56,
     "metadata": {},
     "output_type": "execute_result"
    }
   ],
   "source": [
    "cat_dims"
   ]
  },
  {
   "cell_type": "code",
   "execution_count": 64,
   "id": "ab8587ec",
   "metadata": {},
   "outputs": [],
   "source": [
    "X_train = train_df.loc[trn_idx, ori_all_feats].values\n",
    "y_train = train_df.loc[trn_idx, label]\n",
    "X_valid = train_df.loc[val_idx, ori_all_feats].values\n",
    "y_valid = train_df.loc[val_idx, label]"
   ]
  },
  {
   "cell_type": "code",
   "execution_count": 58,
   "id": "31d073df",
   "metadata": {},
   "outputs": [
    {
     "data": {
      "text/plain": [
       "((61214, 36), (15304, 36))"
      ]
     },
     "execution_count": 58,
     "metadata": {},
     "output_type": "execute_result"
    }
   ],
   "source": [
    "X_train.shape, X_valid.shape"
   ]
  },
  {
   "cell_type": "code",
   "execution_count": 61,
   "id": "abacfa25",
   "metadata": {},
   "outputs": [
    {
     "name": "stderr",
     "output_type": "stream",
     "text": [
      "/usr/lib/python3.7/site-packages/pytorch_tabnet/abstract_model.py:82: UserWarning: Device used : cuda\n",
      "  warnings.warn(f\"Device used : {self.device}\")\n"
     ]
    }
   ],
   "source": [
    "# Network parameters\n",
    "max_epochs = 100\n",
    "batch_size = 1280\n",
    "clf = TabNetClassifier(cat_idxs=cat_idxs,\n",
    "                       cat_dims=cat_dims,\n",
    "                       cat_emb_dim=[4] * len(cat_idxs),\n",
    "                       lambda_sparse=0.0,\n",
    "                       optimizer_fn=torch.optim.Adam, # Any optimizer works here\n",
    "                       optimizer_params=dict(lr=2e-2),\n",
    "                       scheduler_fn=torch.optim.lr_scheduler.OneCycleLR,\n",
    "                       scheduler_params={\"is_batch_level\":True,\n",
    "                                         \"max_lr\":5e-2,\n",
    "                                         \"steps_per_epoch\":int(X_train.shape[0] / batch_size)+1,\n",
    "                                         \"epochs\":max_epochs\n",
    "                                          },\n",
    "                       mask_type='entmax', # \"sparsemax\",\n",
    "                      )"
   ]
  },
  {
   "cell_type": "code",
   "execution_count": 75,
   "id": "d92d18bc",
   "metadata": {},
   "outputs": [
    {
     "data": {
      "text/plain": [
       "(61214, 36)"
      ]
     },
     "execution_count": 75,
     "metadata": {},
     "output_type": "execute_result"
    }
   ],
   "source": [
    "X_train.shape"
   ]
  },
  {
   "cell_type": "code",
   "execution_count": 76,
   "id": "e9b1cd75",
   "metadata": {},
   "outputs": [
    {
     "data": {
      "text/plain": [
       "(61214,)"
      ]
     },
     "execution_count": 76,
     "metadata": {},
     "output_type": "execute_result"
    }
   ],
   "source": [
    "y_train.shape"
   ]
  },
  {
   "cell_type": "code",
   "execution_count": null,
   "id": "4b3d4001",
   "metadata": {
    "scrolled": true
   },
   "outputs": [
    {
     "name": "stderr",
     "output_type": "stream",
     "text": [
      "/usr/lib/python3.7/site-packages/pytorch_tabnet/abstract_model.py:687: UserWarning: No early stopping will be performed, last training weights will be used.\n",
      "  warnings.warn(wrn_msg)\n"
     ]
    },
    {
     "name": "stdout",
     "output_type": "stream",
     "text": [
      "epoch 0  | loss: 1.08899 | val_accuracy: 0.431   |  0:00:05s\n",
      "epoch 1  | loss: 0.8405  | val_accuracy: 0.58155 |  0:00:11s\n",
      "epoch 2  | loss: 0.69544 | val_accuracy: 0.70714 |  0:00:16s\n",
      "epoch 3  | loss: 0.62103 | val_accuracy: 0.75333 |  0:00:22s\n",
      "epoch 4  | loss: 0.58231 | val_accuracy: 0.76359 |  0:00:28s\n",
      "epoch 5  | loss: 0.55985 | val_accuracy: 0.77993 |  0:00:33s\n",
      "epoch 6  | loss: 0.53906 | val_accuracy: 0.7928  |  0:00:39s\n",
      "epoch 7  | loss: 0.51638 | val_accuracy: 0.80489 |  0:00:45s\n",
      "epoch 8  | loss: 0.49487 | val_accuracy: 0.81436 |  0:00:50s\n",
      "epoch 9  | loss: 0.48449 | val_accuracy: 0.81521 |  0:01:00s\n",
      "epoch 10 | loss: 0.47941 | val_accuracy: 0.81515 |  0:01:05s\n",
      "epoch 11 | loss: 0.47558 | val_accuracy: 0.81848 |  0:01:12s\n",
      "epoch 12 | loss: 0.47321 | val_accuracy: 0.82116 |  0:01:17s\n",
      "epoch 13 | loss: 0.46916 | val_accuracy: 0.81946 |  0:01:23s\n",
      "epoch 14 | loss: 0.46892 | val_accuracy: 0.81939 |  0:01:28s\n",
      "epoch 15 | loss: 0.46505 | val_accuracy: 0.8192  |  0:01:34s\n",
      "epoch 16 | loss: 0.46258 | val_accuracy: 0.82397 |  0:01:39s\n",
      "epoch 17 | loss: 0.46069 | val_accuracy: 0.82214 |  0:01:45s\n",
      "epoch 18 | loss: 0.46177 | val_accuracy: 0.81972 |  0:01:51s\n",
      "epoch 19 | loss: 0.45895 | val_accuracy: 0.82273 |  0:01:56s\n",
      "epoch 20 | loss: 0.45927 | val_accuracy: 0.82181 |  0:02:02s\n",
      "epoch 21 | loss: 0.45859 | val_accuracy: 0.82351 |  0:02:08s\n",
      "epoch 22 | loss: 0.45831 | val_accuracy: 0.82599 |  0:02:14s\n",
      "epoch 23 | loss: 0.45604 | val_accuracy: 0.82691 |  0:02:20s\n",
      "epoch 24 | loss: 0.45439 | val_accuracy: 0.82606 |  0:02:30s\n",
      "epoch 25 | loss: 0.45105 | val_accuracy: 0.82619 |  0:02:35s\n",
      "epoch 26 | loss: 0.45366 | val_accuracy: 0.82632 |  0:02:41s\n",
      "epoch 27 | loss: 0.45174 | val_accuracy: 0.82527 |  0:02:47s\n",
      "epoch 28 | loss: 0.4502  | val_accuracy: 0.82782 |  0:02:52s\n",
      "epoch 29 | loss: 0.45073 | val_accuracy: 0.82645 |  0:02:58s\n",
      "epoch 30 | loss: 0.44904 | val_accuracy: 0.82697 |  0:03:04s\n",
      "epoch 31 | loss: 0.44745 | val_accuracy: 0.8239  |  0:03:10s\n",
      "epoch 32 | loss: 0.44593 | val_accuracy: 0.82586 |  0:03:15s\n",
      "epoch 33 | loss: 0.44351 | val_accuracy: 0.82815 |  0:03:21s\n",
      "epoch 34 | loss: 0.44342 | val_accuracy: 0.82854 |  0:03:27s\n",
      "epoch 35 | loss: 0.44328 | val_accuracy: 0.8275  |  0:03:32s\n",
      "epoch 36 | loss: 0.4417  | val_accuracy: 0.82874 |  0:03:38s\n",
      "epoch 37 | loss: 0.44063 | val_accuracy: 0.8271  |  0:03:44s\n",
      "epoch 38 | loss: 0.43977 | val_accuracy: 0.82501 |  0:03:50s\n",
      "epoch 39 | loss: 0.44049 | val_accuracy: 0.82534 |  0:03:59s\n",
      "epoch 40 | loss: 0.43847 | val_accuracy: 0.82573 |  0:04:04s\n",
      "epoch 41 | loss: 0.43952 | val_accuracy: 0.82541 |  0:04:09s\n",
      "epoch 42 | loss: 0.43713 | val_accuracy: 0.82639 |  0:04:14s\n",
      "epoch 43 | loss: 0.43683 | val_accuracy: 0.82671 |  0:04:20s\n",
      "epoch 44 | loss: 0.436   | val_accuracy: 0.82554 |  0:04:26s\n",
      "epoch 45 | loss: 0.43599 | val_accuracy: 0.82737 |  0:04:32s\n",
      "epoch 46 | loss: 0.43547 | val_accuracy: 0.82567 |  0:04:37s\n",
      "epoch 47 | loss: 0.43149 | val_accuracy: 0.82691 |  0:04:43s\n",
      "epoch 48 | loss: 0.43479 | val_accuracy: 0.82632 |  0:04:49s\n",
      "epoch 49 | loss: 0.43145 | val_accuracy: 0.82534 |  0:04:54s\n",
      "epoch 50 | loss: 0.43095 | val_accuracy: 0.82501 |  0:05:00s\n",
      "epoch 51 | loss: 0.42938 | val_accuracy: 0.82606 |  0:05:06s\n",
      "epoch 52 | loss: 0.42778 | val_accuracy: 0.82652 |  0:05:12s\n",
      "epoch 53 | loss: 0.42936 | val_accuracy: 0.82567 |  0:05:17s\n",
      "epoch 54 | loss: 0.42653 | val_accuracy: 0.82462 |  0:05:23s\n",
      "epoch 55 | loss: 0.42669 | val_accuracy: 0.82364 |  0:05:29s\n",
      "epoch 56 | loss: 0.42555 | val_accuracy: 0.82697 |  0:05:37s\n",
      "epoch 57 | loss: 0.42506 | val_accuracy: 0.82586 |  0:05:45s\n",
      "epoch 58 | loss: 0.42362 | val_accuracy: 0.82527 |  0:05:50s\n",
      "epoch 59 | loss: 0.4235  | val_accuracy: 0.8241  |  0:05:56s\n",
      "epoch 60 | loss: 0.42096 | val_accuracy: 0.82619 |  0:06:02s\n",
      "epoch 61 | loss: 0.42074 | val_accuracy: 0.82423 |  0:06:07s\n",
      "epoch 62 | loss: 0.41978 | val_accuracy: 0.82521 |  0:06:13s\n",
      "epoch 63 | loss: 0.41767 | val_accuracy: 0.82305 |  0:06:19s\n",
      "epoch 64 | loss: 0.42211 | val_accuracy: 0.82377 |  0:06:25s\n"
     ]
    }
   ],
   "source": [
    "%%time\n",
    "\n",
    "clf.fit(\n",
    "    X_train=X_train, y_train=y_train,\n",
    "    eval_set=[(X_valid, y_valid)],\n",
    "    eval_name=['val'],\n",
    "    eval_metric=['accuracy'],\n",
    "    max_epochs=max_epochs , patience=0,\n",
    "    batch_size=batch_size,\n",
    "    virtual_batch_size=128,\n",
    "    num_workers=0,\n",
    "    # weights=1,\n",
    "    drop_last=False,\n",
    "    # loss_fn=my_loss_fn\n",
    ") \n"
   ]
  },
  {
   "cell_type": "code",
   "execution_count": 68,
   "id": "36b28ee9",
   "metadata": {},
   "outputs": [],
   "source": [
    "train_loss = np.array(clf.history['loss'])\n",
    "val_acc = np.array(clf.history['val_accuracy'])"
   ]
  },
  {
   "cell_type": "code",
   "execution_count": 69,
   "id": "44e2e395",
   "metadata": {
    "scrolled": true
   },
   "outputs": [
    {
     "data": {
      "text/plain": [
       "[<matplotlib.lines.Line2D at 0x7fec39d95ed0>]"
      ]
     },
     "execution_count": 69,
     "metadata": {},
     "output_type": "execute_result"
    },
    {
     "data": {
      "image/png": "[encoded data removed]",
      "text/plain": [
       "<Figure size 1440x1440 with 4 Axes>"
      ]
     },
     "metadata": {
      "needs_background": "light"
     },
     "output_type": "display_data"
    }
   ],
   "source": [
    "plt.figure(figsize=(20, 20))\n",
    "\n",
    "plt.subplot(2, 2, 1)\n",
    "plt.plot(train_loss)\n",
    "plt.title('train loss')\n",
    "\n",
    "plt.subplot(2, 2, 2)\n",
    "plt.plot(val_acc)\n",
    "plt.title('val rmsle')\n",
    "\n",
    "plt.subplot(2, 2, 3)\n",
    "plt.plot(train_loss[50:])\n",
    "\n",
    "plt.subplot(2, 2, 4)\n",
    "plt.plot(val_acc[50:])"
   ]
  },
  {
   "cell_type": "code",
   "execution_count": 72,
   "id": "9cd68852",
   "metadata": {},
   "outputs": [
    {
     "data": {
      "text/plain": [
       "0.8261728959749085"
      ]
     },
     "execution_count": 72,
     "metadata": {},
     "output_type": "execute_result"
    }
   ],
   "source": [
    "val_acc[20:40].mean()"
   ]
  },
  {
   "cell_type": "markdown",
   "id": "6602118c",
   "metadata": {},
   "source": [
    "#### tabnet调参\n",
    "\n",
    "python3 bayesHyperTuning.py tn"
   ]
  },
  {
   "cell_type": "code",
   "execution_count": null,
   "id": "be2738e7",
   "metadata": {},
   "outputs": [],
   "source": []
  }
 ],
 "metadata": {
  "kernelspec": {
   "display_name": "Python 3 (ipykernel)",
   "language": "python",
   "name": "python3"
  },
  "language_info": {
   "codemirror_mode": {
    "name": "ipython",
    "version": 3
   },
   "file_extension": ".py",
   "mimetype": "text/x-python",
   "name": "python",
   "nbconvert_exporter": "python",
   "pygments_lexer": "ipython3",
   "version": "3.10.14"
  }
 },
 "nbformat": 4,
 "nbformat_minor": 5
}
